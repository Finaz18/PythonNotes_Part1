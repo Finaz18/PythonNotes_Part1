{
 "cells": [
  {
   "cell_type": "code",
   "execution_count": 1,
   "id": "e945f030-2949-4b47-baf8-a74871da0693",
   "metadata": {},
   "outputs": [
    {
     "name": "stdout",
     "output_type": "stream",
     "text": [
      "Hello World\n"
     ]
    }
   ],
   "source": [
    "print('Hello World')"
   ]
  },
  {
   "cell_type": "code",
   "execution_count": 2,
   "id": "000a5892-39c2-4fc5-8bd9-58b9bb252359",
   "metadata": {},
   "outputs": [
    {
     "name": "stdout",
     "output_type": "stream",
     "text": [
      "18\n"
     ]
    }
   ],
   "source": [
    "print(18)"
   ]
  },
  {
   "cell_type": "code",
   "execution_count": 3,
   "id": "b689add2-8d96-4fc0-98ed-075023b29e47",
   "metadata": {},
   "outputs": [
    {
     "name": "stdout",
     "output_type": "stream",
     "text": [
      "18.18\n"
     ]
    }
   ],
   "source": [
    "print(18.18)"
   ]
  },
  {
   "cell_type": "code",
   "execution_count": 4,
   "id": "12c6e791-fde1-491c-b10f-eb47fbdaccd5",
   "metadata": {},
   "outputs": [
    {
     "name": "stdout",
     "output_type": "stream",
     "text": [
      "True False\n"
     ]
    }
   ],
   "source": [
    "print(True,False)"
   ]
  },
  {
   "cell_type": "code",
   "execution_count": 5,
   "id": "d146acf5-3427-43f9-aca1-b94f9e37078a",
   "metadata": {},
   "outputs": [
    {
     "name": "stdout",
     "output_type": "stream",
     "text": [
      "India Pakistan Nepal Shrilanka\n"
     ]
    }
   ],
   "source": [
    "print('India','Pakistan','Nepal','Shrilanka')"
   ]
  },
  {
   "cell_type": "code",
   "execution_count": 6,
   "id": "a0b5e640-ea87-4d4b-8a03-9b777c766859",
   "metadata": {},
   "outputs": [
    {
     "name": "stdout",
     "output_type": "stream",
     "text": [
      "India 18 18.18 True False\n"
     ]
    }
   ],
   "source": [
    "print('India',18,18.18,True,False)"
   ]
  },
  {
   "cell_type": "code",
   "execution_count": 12,
   "id": "81b18037-55c4-46d9-a148-90869a456543",
   "metadata": {},
   "outputs": [
    {
     "name": "stdout",
     "output_type": "stream",
     "text": [
      "India/Pakistan/Nepal/Shrilanka\n"
     ]
    }
   ],
   "source": [
    "print('India','Pakistan','Nepal','Shrilanka',sep=('/'))"
   ]
  },
  {
   "cell_type": "code",
   "execution_count": 16,
   "id": "deaf6c2a-15c5-4e97-aea4-0dc4c6bbfa82",
   "metadata": {},
   "outputs": [
    {
     "name": "stdout",
     "output_type": "stream",
     "text": [
      "hello\n",
      "World\n"
     ]
    }
   ],
   "source": [
    "print('hello')\n",
    "print('World')"
   ]
  },
  {
   "cell_type": "code",
   "execution_count": 17,
   "id": "c565f941-31d9-4ae2-8115-27d677831fd4",
   "metadata": {},
   "outputs": [
    {
     "name": "stdout",
     "output_type": "stream",
     "text": [
      "hello World\n"
     ]
    }
   ],
   "source": [
    "print('hello',end=' ')\n",
    "print('World')"
   ]
  },
  {
   "cell_type": "code",
   "execution_count": 14,
   "id": "067f8ed0-f7b8-4b71-bb9b-e3b05f14e4d6",
   "metadata": {},
   "outputs": [
    {
     "name": "stdout",
     "output_type": "stream",
     "text": [
      "India Pakistan Nepal Shrilanka India Pakistan Nepal Shrilanka\n"
     ]
    }
   ],
   "source": [
    "print('India','Pakistan','Nepal','Shrilanka', end=' ')\n",
    "print('India','Pakistan','Nepal','Shrilanka')"
   ]
  },
  {
   "cell_type": "markdown",
   "id": "2eeee4b5-ba57-4ff8-949d-359e219be75e",
   "metadata": {},
   "source": [
    "#### Python Supports 3 Categories of Data Types\n",
    "* Basic Tpyes : (Interger,Float,Boolean,Complex,String)\n",
    "* Container Types : (List,Tuples,Set,Dictionary)(Multiple data type into single container)\n",
    "* User-Defined Type : Class"
   ]
  },
  {
   "cell_type": "code",
   "execution_count": 19,
   "id": "53278a15-785b-44ee-88b4-e4706cf28f79",
   "metadata": {},
   "outputs": [
    {
     "name": "stdout",
     "output_type": "stream",
     "text": [
      "4\n",
      "10\n"
     ]
    }
   ],
   "source": [
    "# integer\n",
    "print(4)\n",
    "print(10)"
   ]
  },
  {
   "cell_type": "code",
   "execution_count": 20,
   "id": "7659f830-9695-4de6-b350-84138890a70e",
   "metadata": {},
   "outputs": [
    {
     "name": "stdout",
     "output_type": "stream",
     "text": [
      "23.89\n"
     ]
    }
   ],
   "source": [
    "# Float\n",
    "print(23.89)"
   ]
  },
  {
   "cell_type": "code",
   "execution_count": 21,
   "id": "d25dba4c-edd0-4c87-b211-4009305eca52",
   "metadata": {},
   "outputs": [
    {
     "name": "stdout",
     "output_type": "stream",
     "text": [
      "(4+5j)\n"
     ]
    }
   ],
   "source": [
    "# Complex\n",
    "print(4+5j)"
   ]
  },
  {
   "cell_type": "code",
   "execution_count": 22,
   "id": "f24569f2-e7ea-483f-b6b3-4556a6465726",
   "metadata": {},
   "outputs": [
    {
     "name": "stdout",
     "output_type": "stream",
     "text": [
      "Finaz Nadaf\n",
      "Shakila Nadaf\n",
      "Sohel Nadaf\n"
     ]
    }
   ],
   "source": [
    "# String\n",
    "print('Finaz Nadaf')\n",
    "print(\"Shakila Nadaf\")\n",
    "print(\"\"\"Sohel Nadaf\"\"\")"
   ]
  },
  {
   "cell_type": "code",
   "execution_count": 23,
   "id": "e01e48e4-4d18-4f4c-91d5-0b9d733a7065",
   "metadata": {},
   "outputs": [
    {
     "name": "stdout",
     "output_type": "stream",
     "text": [
      "True False\n"
     ]
    }
   ],
   "source": [
    "# Boolean\n",
    "print(True,False)"
   ]
  },
  {
   "cell_type": "code",
   "execution_count": 24,
   "id": "e9a477d5-d144-4180-bffa-ba5c401bd0a0",
   "metadata": {},
   "outputs": [
    {
     "name": "stdout",
     "output_type": "stream",
     "text": [
      "[1, 2, 3, 4, 5, 6]\n"
     ]
    }
   ],
   "source": [
    "# List\n",
    "print([1,2,3,4,5,6])"
   ]
  },
  {
   "cell_type": "code",
   "execution_count": 25,
   "id": "0c828b17-1206-44d5-9e11-185ae300c7ee",
   "metadata": {},
   "outputs": [
    {
     "name": "stdout",
     "output_type": "stream",
     "text": [
      "(1, 2, 3, 4, 5, 6)\n"
     ]
    }
   ],
   "source": [
    "# Tuple\n",
    "print((1,2,3,4,5,6))"
   ]
  },
  {
   "cell_type": "code",
   "execution_count": 26,
   "id": "1fb9a753-e6eb-478e-8804-6055b94979cc",
   "metadata": {},
   "outputs": [
    {
     "name": "stdout",
     "output_type": "stream",
     "text": [
      "{1, 2, 3, 4, 5, 6}\n"
     ]
    }
   ],
   "source": [
    "# Set\n",
    "print({1,2,3,4,5,6})"
   ]
  },
  {
   "cell_type": "code",
   "execution_count": 28,
   "id": "773c0d37-6a92-4073-971a-dd764cc71916",
   "metadata": {},
   "outputs": [
    {
     "name": "stdout",
     "output_type": "stream",
     "text": [
      "{'Name': 'Finaz', 'Age': 24, 'gender': 'Female', 'Student': 'Data Science'}\n"
     ]
    }
   ],
   "source": [
    "#Dictionary\n",
    "print({'Name':'Finaz','Age':24,'gender':'Female','Student':'Data Science'})"
   ]
  },
  {
   "cell_type": "code",
   "execution_count": 29,
   "id": "01bc7d2c-cc57-4356-8662-b90439ba4c0a",
   "metadata": {},
   "outputs": [],
   "source": [
    "# Commments : To enhance code rediability"
   ]
  },
  {
   "cell_type": "code",
   "execution_count": 30,
   "id": "ce252fe7-4f38-4531-a9b0-49267fd76961",
   "metadata": {},
   "outputs": [
    {
     "name": "stdout",
     "output_type": "stream",
     "text": [
      "Finaz\n"
     ]
    }
   ],
   "source": [
    "# Variables : are container which store the data values.\n",
    "# no variable declaration\n",
    "# dynamic typing\n",
    "name = 'Finaz'\n",
    "print(name)"
   ]
  },
  {
   "cell_type": "code",
   "execution_count": 31,
   "id": "a9c893c3-82c1-422c-baba-7768c9a33eb2",
   "metadata": {},
   "outputs": [
    {
     "name": "stdout",
     "output_type": "stream",
     "text": [
      "23345\n"
     ]
    }
   ],
   "source": [
    "name = 23345\n",
    "print(name)"
   ]
  },
  {
   "cell_type": "code",
   "execution_count": 32,
   "id": "752bd8be-ff90-48ca-9b77-46f12652ce99",
   "metadata": {},
   "outputs": [
    {
     "name": "stdout",
     "output_type": "stream",
     "text": [
      "2\n",
      "3\n",
      "4\n",
      "5\n"
     ]
    }
   ],
   "source": [
    "# Multiple variable in a single line\n",
    "a = 2;b = 3;c = 4;d = 5\n",
    "print(a)\n",
    "print(b)\n",
    "print(c)\n",
    "print(d)"
   ]
  },
  {
   "cell_type": "code",
   "execution_count": 34,
   "id": "ce1309e5-6751-4cec-91c8-2aed0dc91f31",
   "metadata": {},
   "outputs": [
    {
     "name": "stdout",
     "output_type": "stream",
     "text": [
      "1\n",
      "2\n",
      "3\n",
      "4\n"
     ]
    }
   ],
   "source": [
    "a,b,c,d = 1,2,3,4\n",
    "print(a)\n",
    "print(b)\n",
    "print(c)\n",
    "print(d)"
   ]
  },
  {
   "cell_type": "code",
   "execution_count": 35,
   "id": "6462f277-2bbf-4fc4-95be-ceebd76677df",
   "metadata": {},
   "outputs": [
    {
     "name": "stdout",
     "output_type": "stream",
     "text": [
      "18\n",
      "18\n",
      "18\n",
      "18\n"
     ]
    }
   ],
   "source": [
    "a = b = c = d = 18\n",
    "print(a)\n",
    "print(b)\n",
    "print(c)\n",
    "print(d)"
   ]
  },
  {
   "cell_type": "code",
   "execution_count": 1,
   "id": "0bdfe75d-bf32-4239-8ce6-8fae90e15e2b",
   "metadata": {},
   "outputs": [
    {
     "name": "stdout",
     "output_type": "stream",
     "text": [
      "['Apple', 'Banana', 'Orenge']\n",
      "['Apple', 'Banana', 'Orenge']\n",
      "['Apple', 'Banana', 'Orenge']\n"
     ]
    }
   ],
   "source": [
    "fruits = ['Apple','Banana','Orenge']\n",
    "x = y = z = fruits\n",
    "print(x)\n",
    "print(y)\n",
    "print(z)"
   ]
  },
  {
   "cell_type": "markdown",
   "id": "b1748721-b05f-4a22-807b-be7ae0e4f651",
   "metadata": {},
   "source": [
    "# Keywords"
   ]
  },
  {
   "cell_type": "markdown",
   "id": "33ee27b6-255e-404f-991f-3c0edc2c0e1a",
   "metadata": {},
   "source": [
    "#### Python is case sensitive programming language\n",
    "In programming language, a key word is a reserved by a program because the word has the special meaning. Keywords can be commands or parameters. Every programming language has a set of keywords that cannot be used as variable names."
   ]
  },
  {
   "cell_type": "code",
   "execution_count": 37,
   "id": "bdbfdd97-87da-4906-9a10-6d81df887b8f",
   "metadata": {},
   "outputs": [
    {
     "name": "stdout",
     "output_type": "stream",
     "text": [
      "['False', 'None', 'True', 'and', 'as', 'assert', 'async', 'await', 'break', 'class', 'continue', 'def', 'del', 'elif', 'else', 'except', 'finally', 'for', 'from', 'global', 'if', 'import', 'in', 'is', 'lambda', 'nonlocal', 'not', 'or', 'pass', 'raise', 'return', 'try', 'while', 'with', 'yield']\n"
     ]
    }
   ],
   "source": [
    "# python has 33 keywords\n",
    "import keyword\n",
    "print(keyword.kwlist)"
   ]
  },
  {
   "cell_type": "markdown",
   "id": "eea57a3d-5bfd-4ab5-88c1-e11ee2956b38",
   "metadata": {},
   "source": [
    "# Identifiers"
   ]
  },
  {
   "cell_type": "markdown",
   "id": "7bcfb965-ae28-480f-b06e-14234f034b2f",
   "metadata": {},
   "source": [
    "A Python identifer is a name used to identify a variable, function,class, module or other object."
   ]
  },
  {
   "cell_type": "code",
   "execution_count": 39,
   "id": "5cb4aa9f-e640-4f78-ae8c-908542eda10f",
   "metadata": {},
   "outputs": [
    {
     "name": "stdout",
     "output_type": "stream",
     "text": [
      "Finaz\n"
     ]
    }
   ],
   "source": [
    "name_ = 'Finaz'\n",
    "print(name_)"
   ]
  },
  {
   "cell_type": "code",
   "execution_count": 40,
   "id": "9830b621-9504-48f6-b0ee-d1eaacbf9e37",
   "metadata": {},
   "outputs": [
    {
     "ename": "SyntaxError",
     "evalue": "invalid decimal literal (543815141.py, line 1)",
     "output_type": "error",
     "traceback": [
      "\u001b[1;36m  Cell \u001b[1;32mIn[40], line 1\u001b[1;36m\u001b[0m\n\u001b[1;33m    1name = 'Finaz'\u001b[0m\n\u001b[1;37m    ^\u001b[0m\n\u001b[1;31mSyntaxError\u001b[0m\u001b[1;31m:\u001b[0m invalid decimal literal\n"
     ]
    }
   ],
   "source": [
    "1name = 'Finaz'\n",
    "print(1name)"
   ]
  },
  {
   "cell_type": "markdown",
   "id": "771fbb6e-d01f-4e30-ad69-57e81060eca3",
   "metadata": {},
   "source": [
    "# Use Input"
   ]
  },
  {
   "cell_type": "code",
   "execution_count": 2,
   "id": "04a39bbc-12ab-44dc-9575-c2fcde55e34a",
   "metadata": {},
   "outputs": [
    {
     "name": "stdin",
     "output_type": "stream",
     "text": [
      "Enter the first number 18\n",
      "Enter the second number 18\n"
     ]
    }
   ],
   "source": [
    "first_num = input('Enter the first number')\n",
    "second_num = input('Enter the second number')"
   ]
  },
  {
   "cell_type": "code",
   "execution_count": 3,
   "id": "a22661d6-13cc-4ae4-80cd-7ff5f54b1d74",
   "metadata": {},
   "outputs": [
    {
     "name": "stdout",
     "output_type": "stream",
     "text": [
      "1818\n"
     ]
    }
   ],
   "source": [
    "a = first_num + second_num\n",
    "print(a)"
   ]
  },
  {
   "cell_type": "raw",
   "id": "149b3a5f-3f64-42d7-b6f0-7fac177a6fed",
   "metadata": {},
   "source": [
    "* String is a universal formate which can hold other data types."
   ]
  },
  {
   "cell_type": "code",
   "execution_count": 4,
   "id": "94f90b86-db53-4b62-bd28-90be93e8a82b",
   "metadata": {},
   "outputs": [
    {
     "data": {
      "text/plain": [
       "str"
      ]
     },
     "execution_count": 4,
     "metadata": {},
     "output_type": "execute_result"
    }
   ],
   "source": [
    "# type : detects the data type of the varible.\n",
    "type(first_num)"
   ]
  },
  {
   "cell_type": "code",
   "execution_count": 5,
   "id": "03adc4a9-9aab-4876-be86-1be2d8fa9965",
   "metadata": {},
   "outputs": [
    {
     "data": {
      "text/plain": [
       "'18'"
      ]
     },
     "execution_count": 5,
     "metadata": {},
     "output_type": "execute_result"
    }
   ],
   "source": [
    "first_num"
   ]
  },
  {
   "cell_type": "code",
   "execution_count": 6,
   "id": "c10fbb5d-b3c1-4085-baae-05f831e9bef2",
   "metadata": {},
   "outputs": [
    {
     "data": {
      "text/plain": [
       "int"
      ]
     },
     "execution_count": 6,
     "metadata": {},
     "output_type": "execute_result"
    }
   ],
   "source": [
    "type(345)"
   ]
  },
  {
   "cell_type": "code",
   "execution_count": 7,
   "id": "9743fe8a-26de-4963-8cbf-7e53b23f7d5f",
   "metadata": {},
   "outputs": [
    {
     "data": {
      "text/plain": [
       "float"
      ]
     },
     "execution_count": 7,
     "metadata": {},
     "output_type": "execute_result"
    }
   ],
   "source": [
    "type(67.89)"
   ]
  },
  {
   "cell_type": "code",
   "execution_count": 8,
   "id": "1f0fa533-774b-49e2-8bc2-887c29f2552e",
   "metadata": {},
   "outputs": [
    {
     "data": {
      "text/plain": [
       "bool"
      ]
     },
     "execution_count": 8,
     "metadata": {},
     "output_type": "execute_result"
    }
   ],
   "source": [
    "type(True)"
   ]
  },
  {
   "cell_type": "code",
   "execution_count": 9,
   "id": "0e438906-f464-4116-ac6a-b426348e5d7a",
   "metadata": {},
   "outputs": [
    {
     "data": {
      "text/plain": [
       "float"
      ]
     },
     "execution_count": 9,
     "metadata": {},
     "output_type": "execute_result"
    }
   ],
   "source": [
    "type(5/6)"
   ]
  },
  {
   "cell_type": "markdown",
   "id": "48431802-b187-4d4e-87cc-ddd2988a214c",
   "metadata": {},
   "source": [
    "# Type Conversion"
   ]
  },
  {
   "cell_type": "markdown",
   "id": "14be01a7-2d56-4a24-afbc-5af23c474175",
   "metadata": {},
   "source": [
    "* Two types of type conversion\n",
    "\n",
    "  1.Implicit\n",
    "\n",
    "  2.Explicit"
   ]
  },
  {
   "cell_type": "code",
   "execution_count": 1,
   "id": "e9f03771-b967-4dec-985e-a0f05974e07d",
   "metadata": {},
   "outputs": [
    {
     "data": {
      "text/plain": [
       "71.98"
      ]
     },
     "execution_count": 1,
     "metadata": {},
     "output_type": "execute_result"
    }
   ],
   "source": [
    "# example of implicit\n",
    "4+67.98"
   ]
  },
  {
   "cell_type": "code",
   "execution_count": 3,
   "id": "6d43c98c-5df8-480f-b588-3a82972082e2",
   "metadata": {},
   "outputs": [
    {
     "data": {
      "text/plain": [
       "(12.5+7j)"
      ]
     },
     "execution_count": 3,
     "metadata": {},
     "output_type": "execute_result"
    }
   ],
   "source": [
    "8+4.5+7j"
   ]
  },
  {
   "cell_type": "code",
   "execution_count": 4,
   "id": "db2a31e7-0280-446e-bae2-5ff6a9be767d",
   "metadata": {},
   "outputs": [
    {
     "data": {
      "text/plain": [
       "(13+6j)"
      ]
     },
     "execution_count": 4,
     "metadata": {},
     "output_type": "execute_result"
    }
   ],
   "source": [
    "6+7+6j"
   ]
  },
  {
   "cell_type": "code",
   "execution_count": 5,
   "id": "7f1560fa-a0ee-491b-8c2c-31f880043f66",
   "metadata": {},
   "outputs": [
    {
     "data": {
      "text/plain": [
       "13.9"
      ]
     },
     "execution_count": 5,
     "metadata": {},
     "output_type": "execute_result"
    }
   ],
   "source": [
    "8.9+5"
   ]
  },
  {
   "cell_type": "code",
   "execution_count": 6,
   "id": "86ffc941-7c56-4e30-aefb-aaccf39f04a1",
   "metadata": {},
   "outputs": [
    {
     "name": "stdin",
     "output_type": "stream",
     "text": [
      "Enter the first number 56\n",
      "Enter the second number 78\n"
     ]
    },
    {
     "name": "stdout",
     "output_type": "stream",
     "text": [
      "5678\n"
     ]
    }
   ],
   "source": [
    "# example for explicit \n",
    "first_num = input('Enter the first number')\n",
    "second_num = input('Enter the second number')\n",
    "\n",
    "result = first_num + second_num\n",
    "print(result)"
   ]
  },
  {
   "cell_type": "code",
   "execution_count": 8,
   "id": "6e282ebd-2666-4e05-9902-668e12d298bd",
   "metadata": {},
   "outputs": [
    {
     "data": {
      "text/plain": [
       "45"
      ]
     },
     "execution_count": 8,
     "metadata": {},
     "output_type": "execute_result"
    }
   ],
   "source": [
    "#int\n",
    "int('45')"
   ]
  },
  {
   "cell_type": "code",
   "execution_count": 9,
   "id": "eccacdd7-e1e0-4fef-b3c5-adbdea6d91fa",
   "metadata": {},
   "outputs": [
    {
     "data": {
      "text/plain": [
       "5.6"
      ]
     },
     "execution_count": 9,
     "metadata": {},
     "output_type": "execute_result"
    }
   ],
   "source": [
    "float('5.6')"
   ]
  },
  {
   "cell_type": "code",
   "execution_count": 10,
   "id": "bd81019a-03d9-4a16-b8e0-bd78a9a6f3ca",
   "metadata": {},
   "outputs": [
    {
     "data": {
      "text/plain": [
       "'Finaz'"
      ]
     },
     "execution_count": 10,
     "metadata": {},
     "output_type": "execute_result"
    }
   ],
   "source": [
    "str('Finaz')"
   ]
  },
  {
   "cell_type": "code",
   "execution_count": 11,
   "id": "bdee26c7-35d6-4077-8e32-e79ec70ca7b2",
   "metadata": {},
   "outputs": [
    {
     "data": {
      "text/plain": [
       "True"
      ]
     },
     "execution_count": 11,
     "metadata": {},
     "output_type": "execute_result"
    }
   ],
   "source": [
    "bool(True)"
   ]
  },
  {
   "cell_type": "code",
   "execution_count": 12,
   "id": "2c2ce300-f697-4609-b25e-8fdc53ffcf91",
   "metadata": {},
   "outputs": [
    {
     "data": {
      "text/plain": [
       "(4+6j)"
      ]
     },
     "execution_count": 12,
     "metadata": {},
     "output_type": "execute_result"
    }
   ],
   "source": [
    "complex('4+6j')"
   ]
  },
  {
   "cell_type": "code",
   "execution_count": 13,
   "id": "75555fc8-842a-4bc3-9eec-3bb297270b03",
   "metadata": {},
   "outputs": [
    {
     "data": {
      "text/plain": [
       "['H', 'e', 'l', 'l', 'o']"
      ]
     },
     "execution_count": 13,
     "metadata": {},
     "output_type": "execute_result"
    }
   ],
   "source": [
    "list('Hello')"
   ]
  },
  {
   "cell_type": "code",
   "execution_count": 16,
   "id": "e668af4e-dba8-46f0-9ad0-0621c71a2dbc",
   "metadata": {},
   "outputs": [
    {
     "data": {
      "text/plain": [
       "('1', ',', '2', ',', '3', ',', '4', ',', '5')"
      ]
     },
     "execution_count": 16,
     "metadata": {},
     "output_type": "execute_result"
    }
   ],
   "source": [
    "tuple('1,2,3,4,5')"
   ]
  },
  {
   "cell_type": "code",
   "execution_count": 19,
   "id": "822759a9-666e-4513-87ef-e72228ea6190",
   "metadata": {},
   "outputs": [
    {
     "name": "stdin",
     "output_type": "stream",
     "text": [
      "Enter the first number 56\n",
      "Enter the second number 78\n"
     ]
    },
    {
     "name": "stdout",
     "output_type": "stream",
     "text": [
      "134\n"
     ]
    }
   ],
   "source": [
    "# example for explicit \n",
    "# if you aare providing integer value as input apply int() function.\n",
    "first_num = int(input('Enter the first number'))\n",
    "second_num = int(input('Enter the second number'))\n",
    "\n",
    "result = first_num + second_num\n",
    "print(result)"
   ]
  },
  {
   "cell_type": "markdown",
   "id": "36348b6a-36d3-453b-936d-daac86f791f3",
   "metadata": {},
   "source": [
    "# Literals"
   ]
  },
  {
   "cell_type": "markdown",
   "id": "1a573546-b31a-4efe-a3b9-3a414fd452ca",
   "metadata": {},
   "source": [
    "Literal is a raw data given in variable.\n",
    "* Numerical L\n",
    "* String L\n",
    "* Boolean L\n",
    "* Special L"
   ]
  },
  {
   "cell_type": "code",
   "execution_count": 13,
   "id": "8edca12d-f38f-4c50-9ec6-4672c1b9705d",
   "metadata": {},
   "outputs": [
    {
     "name": "stdout",
     "output_type": "stream",
     "text": [
      "10 100 200 300\n",
      "10.5 150.0 0.0015\n",
      "(3+56j) 56.0 3.0\n"
     ]
    }
   ],
   "source": [
    "# 1 Numerical Literal\n",
    "a = 0b1010 # Binary Literals\n",
    "b = 100 # Decimal L\n",
    "c = 0o310 # Octal L\n",
    "d = 0x12c # Hexadecimal L\n",
    "\n",
    "# Float Literals\n",
    "float1 = 10.5\n",
    "float2 = 1.5e2\n",
    "float3 = 1.5e-3\n",
    "\n",
    "# Complex Literals\n",
    "x = 3+56j\n",
    "\n",
    "print(a,b,c,d)\n",
    "print(float1,float2,float3)\n",
    "print(x,x.imag,x.real)"
   ]
  },
  {
   "cell_type": "code",
   "execution_count": 14,
   "id": "ed510920-1a08-48d8-9d44-d1fbe3875ebf",
   "metadata": {},
   "outputs": [
    {
     "name": "stdout",
     "output_type": "stream",
     "text": [
      "This is python\n",
      "thiss is python\n",
      "C\n",
      "This is a multiline string\n",
      "                    with more than one line code.\n",
      "😀😆🤣\n",
      "raw \\n string\n"
     ]
    }
   ],
   "source": [
    "# 2 String Literals\n",
    "string = 'This is python'\n",
    "strings = \"thiss is python\"\n",
    "char = \"C\"\n",
    "multiline_str = \"\"\"This is a multiline string\n",
    "                    with more than one line code.\"\"\"\n",
    "unicode = u\"\\U0001f600\\U0001F606\\U0001F923\"\n",
    "raw_str = r\"raw \\n string\"\n",
    "\n",
    "print(string)\n",
    "print(strings)\n",
    "print(char)\n",
    "print(multiline_str)\n",
    "print(unicode)\n",
    "print(raw_str)\n"
   ]
  },
  {
   "cell_type": "code",
   "execution_count": 15,
   "id": "37133b04-eeae-4da3-8ac4-64eacf637736",
   "metadata": {},
   "outputs": [
    {
     "name": "stdout",
     "output_type": "stream",
     "text": [
      "6\n",
      "11\n"
     ]
    }
   ],
   "source": [
    "# 3 Boolean Literals\n",
    "a = True+5 # here as true bool it will consider as 1\n",
    "b = False+11 # here as fale bool it will consider as 0\n",
    "\n",
    "print(a)\n",
    "print(b)"
   ]
  },
  {
   "cell_type": "code",
   "execution_count": 17,
   "id": "2def6912-ade1-4439-9d66-78bf612fa0e7",
   "metadata": {},
   "outputs": [
    {
     "name": "stdout",
     "output_type": "stream",
     "text": [
      "None\n"
     ]
    }
   ],
   "source": [
    "# 4 Special literals\n",
    "a = None # Variable declaration\n",
    "print(a)"
   ]
  },
  {
   "cell_type": "markdown",
   "id": "4b01283d-59a9-4eb9-909b-c431fb325abd",
   "metadata": {},
   "source": [
    "# Operators\n",
    "Operator are use to perform operation on variables.\n",
    "* Arthematic Operators\n",
    "* Comparision O\n",
    "* Logical O\n",
    "* Bitwise O\n",
    "* Assignment O\n",
    "* Identity O\n",
    "* Membership O"
   ]
  },
  {
   "cell_type": "code",
   "execution_count": 18,
   "id": "92a50dbd-07f8-49f4-a3d9-3f8c4af95c9e",
   "metadata": {},
   "outputs": [
    {
     "data": {
      "text/plain": [
       "10"
      ]
     },
     "execution_count": 18,
     "metadata": {},
     "output_type": "execute_result"
    }
   ],
   "source": [
    "# Arthematic operators\n",
    "x = 6\n",
    "y = 4\n",
    "x+y"
   ]
  },
  {
   "cell_type": "code",
   "execution_count": 19,
   "id": "e635a032-98b1-42e9-bd4f-cb1147a32ba6",
   "metadata": {},
   "outputs": [
    {
     "data": {
      "text/plain": [
       "2"
      ]
     },
     "execution_count": 19,
     "metadata": {},
     "output_type": "execute_result"
    }
   ],
   "source": [
    "x-y"
   ]
  },
  {
   "cell_type": "code",
   "execution_count": 20,
   "id": "bd6b8bd7-31bc-4512-afc8-585a34cb80ed",
   "metadata": {},
   "outputs": [
    {
     "data": {
      "text/plain": [
       "24"
      ]
     },
     "execution_count": 20,
     "metadata": {},
     "output_type": "execute_result"
    }
   ],
   "source": [
    "x*y"
   ]
  },
  {
   "cell_type": "code",
   "execution_count": 21,
   "id": "4c883fe0-71b0-4312-8283-2c9eca34fdc2",
   "metadata": {},
   "outputs": [
    {
     "data": {
      "text/plain": [
       "1.5"
      ]
     },
     "execution_count": 21,
     "metadata": {},
     "output_type": "execute_result"
    }
   ],
   "source": [
    "x/y"
   ]
  },
  {
   "cell_type": "code",
   "execution_count": 22,
   "id": "ce1b215b-a723-4ef1-97ea-8a96284e7cb3",
   "metadata": {},
   "outputs": [
    {
     "data": {
      "text/plain": [
       "1"
      ]
     },
     "execution_count": 22,
     "metadata": {},
     "output_type": "execute_result"
    }
   ],
   "source": [
    "x//y"
   ]
  },
  {
   "cell_type": "code",
   "execution_count": 23,
   "id": "f569c537-02a4-425e-9099-14de75fe6210",
   "metadata": {},
   "outputs": [
    {
     "data": {
      "text/plain": [
       "1296"
      ]
     },
     "execution_count": 23,
     "metadata": {},
     "output_type": "execute_result"
    }
   ],
   "source": [
    "x**y"
   ]
  },
  {
   "cell_type": "code",
   "execution_count": 24,
   "id": "5a26597e-1cc1-4097-9e18-906365cf845d",
   "metadata": {},
   "outputs": [
    {
     "data": {
      "text/plain": [
       "2"
      ]
     },
     "execution_count": 24,
     "metadata": {},
     "output_type": "execute_result"
    }
   ],
   "source": [
    "x%y"
   ]
  },
  {
   "cell_type": "code",
   "execution_count": 25,
   "id": "e25a839f-c61b-43c7-968c-438bfd994405",
   "metadata": {},
   "outputs": [
    {
     "data": {
      "text/plain": [
       "True"
      ]
     },
     "execution_count": 25,
     "metadata": {},
     "output_type": "execute_result"
    }
   ],
   "source": [
    "# Comparision Operators\n",
    "x > y"
   ]
  },
  {
   "cell_type": "code",
   "execution_count": 26,
   "id": "3a638e1a-4e53-440d-b9f0-8f7c46f80ef9",
   "metadata": {},
   "outputs": [
    {
     "data": {
      "text/plain": [
       "False"
      ]
     },
     "execution_count": 26,
     "metadata": {},
     "output_type": "execute_result"
    }
   ],
   "source": [
    "x < y"
   ]
  },
  {
   "cell_type": "code",
   "execution_count": 27,
   "id": "a46e71bb-a7fb-481c-ad1d-f365064d4d27",
   "metadata": {},
   "outputs": [
    {
     "data": {
      "text/plain": [
       "True"
      ]
     },
     "execution_count": 27,
     "metadata": {},
     "output_type": "execute_result"
    }
   ],
   "source": [
    "x >= y"
   ]
  },
  {
   "cell_type": "code",
   "execution_count": 28,
   "id": "1b40048f-e4c8-47c6-bf64-8a613dfcc367",
   "metadata": {},
   "outputs": [
    {
     "data": {
      "text/plain": [
       "False"
      ]
     },
     "execution_count": 28,
     "metadata": {},
     "output_type": "execute_result"
    }
   ],
   "source": [
    "x <= y"
   ]
  },
  {
   "cell_type": "code",
   "execution_count": 29,
   "id": "8602f0e8-e913-4da4-ba81-2c368a71272e",
   "metadata": {},
   "outputs": [
    {
     "data": {
      "text/plain": [
       "False"
      ]
     },
     "execution_count": 29,
     "metadata": {},
     "output_type": "execute_result"
    }
   ],
   "source": [
    "x == y"
   ]
  },
  {
   "cell_type": "code",
   "execution_count": 30,
   "id": "6bf1c09c-9b5a-4364-b6f6-1450f9c493c0",
   "metadata": {},
   "outputs": [
    {
     "data": {
      "text/plain": [
       "True"
      ]
     },
     "execution_count": 30,
     "metadata": {},
     "output_type": "execute_result"
    }
   ],
   "source": [
    "x != y"
   ]
  },
  {
   "cell_type": "code",
   "execution_count": 37,
   "id": "ad26e0bc-fba2-4780-8255-705360b11539",
   "metadata": {},
   "outputs": [
    {
     "data": {
      "text/plain": [
       "True"
      ]
     },
     "execution_count": 37,
     "metadata": {},
     "output_type": "execute_result"
    }
   ],
   "source": [
    "# Logical Operators\n",
    "x = True\n",
    "y = False\n",
    "x or y"
   ]
  },
  {
   "cell_type": "code",
   "execution_count": 38,
   "id": "6e4f49e9-cbcf-48d5-8fa7-c1d54fd64727",
   "metadata": {},
   "outputs": [
    {
     "data": {
      "text/plain": [
       "False"
      ]
     },
     "execution_count": 38,
     "metadata": {},
     "output_type": "execute_result"
    }
   ],
   "source": [
    "x and y"
   ]
  },
  {
   "cell_type": "code",
   "execution_count": 40,
   "id": "0f21e88f-6f3b-42a7-a686-543ad3f1fc8c",
   "metadata": {},
   "outputs": [
    {
     "data": {
      "text/plain": [
       "True"
      ]
     },
     "execution_count": 40,
     "metadata": {},
     "output_type": "execute_result"
    }
   ],
   "source": [
    "not y"
   ]
  },
  {
   "cell_type": "code",
   "execution_count": 41,
   "id": "a0de47ce-63a0-4380-b6aa-b67ce1dbbb98",
   "metadata": {},
   "outputs": [
    {
     "data": {
      "text/plain": [
       "False"
      ]
     },
     "execution_count": 41,
     "metadata": {},
     "output_type": "execute_result"
    }
   ],
   "source": [
    "not x"
   ]
  },
  {
   "cell_type": "code",
   "execution_count": 43,
   "id": "5efd1d0c-f507-4772-a4dc-4cba2973f273",
   "metadata": {},
   "outputs": [],
   "source": [
    "# Bitwise operators\n",
    "a = 3 # it will convert into binary\n",
    "b = 4"
   ]
  },
  {
   "cell_type": "code",
   "execution_count": 44,
   "id": "8522825a-ac2a-47cd-ac8a-f36ef8fee977",
   "metadata": {},
   "outputs": [
    {
     "data": {
      "text/plain": [
       "0"
      ]
     },
     "execution_count": 44,
     "metadata": {},
     "output_type": "execute_result"
    }
   ],
   "source": [
    "a & b"
   ]
  },
  {
   "cell_type": "code",
   "execution_count": 45,
   "id": "89b919f1-55ce-4d9d-95ab-44b1deb92d61",
   "metadata": {},
   "outputs": [
    {
     "data": {
      "text/plain": [
       "7"
      ]
     },
     "execution_count": 45,
     "metadata": {},
     "output_type": "execute_result"
    }
   ],
   "source": [
    "a | b"
   ]
  },
  {
   "cell_type": "code",
   "execution_count": 51,
   "id": "f35078f9-f85c-417d-98cd-4ba0cdf55063",
   "metadata": {},
   "outputs": [
    {
     "data": {
      "text/plain": [
       "0"
      ]
     },
     "execution_count": 51,
     "metadata": {},
     "output_type": "execute_result"
    }
   ],
   "source": [
    "a >> b # Right shift operator"
   ]
  },
  {
   "cell_type": "code",
   "execution_count": 52,
   "id": "731dced3-179c-4865-aa12-6a2b954a6b17",
   "metadata": {},
   "outputs": [
    {
     "data": {
      "text/plain": [
       "48"
      ]
     },
     "execution_count": 52,
     "metadata": {},
     "output_type": "execute_result"
    }
   ],
   "source": [
    "a << b # left shift operator"
   ]
  },
  {
   "cell_type": "code",
   "execution_count": 53,
   "id": "750b7f13-340e-49a8-b988-383b882e0db3",
   "metadata": {},
   "outputs": [
    {
     "data": {
      "text/plain": [
       "-4"
      ]
     },
     "execution_count": 53,
     "metadata": {},
     "output_type": "execute_result"
    }
   ],
   "source": [
    "~a"
   ]
  },
  {
   "cell_type": "code",
   "execution_count": 54,
   "id": "ed3c52d6-2d19-4c79-bea3-6f1f4309d95b",
   "metadata": {},
   "outputs": [
    {
     "data": {
      "text/plain": [
       "-5"
      ]
     },
     "execution_count": 54,
     "metadata": {},
     "output_type": "execute_result"
    }
   ],
   "source": [
    "~b"
   ]
  },
  {
   "cell_type": "code",
   "execution_count": 55,
   "id": "2ea3218f-93b2-4e08-92cc-ba8e8bc6507b",
   "metadata": {},
   "outputs": [
    {
     "name": "stdout",
     "output_type": "stream",
     "text": [
      "3\n"
     ]
    }
   ],
   "source": [
    "# Assignment O\n",
    "a = 3\n",
    "print(a)"
   ]
  },
  {
   "cell_type": "code",
   "execution_count": 56,
   "id": "f7197e40-f715-4cf3-b2d8-05aa8b037227",
   "metadata": {},
   "outputs": [
    {
     "data": {
      "text/plain": [
       "6"
      ]
     },
     "execution_count": 56,
     "metadata": {},
     "output_type": "execute_result"
    }
   ],
   "source": [
    "# a=a+3\n",
    "a+=3\n",
    "a"
   ]
  },
  {
   "cell_type": "code",
   "execution_count": 57,
   "id": "97cc2c58-d14d-4d91-b889-98c31e29dcb8",
   "metadata": {},
   "outputs": [
    {
     "data": {
      "text/plain": [
       "3"
      ]
     },
     "execution_count": 57,
     "metadata": {},
     "output_type": "execute_result"
    }
   ],
   "source": [
    "a-=3\n",
    "a"
   ]
  },
  {
   "cell_type": "code",
   "execution_count": 59,
   "id": "ee494743-9b2f-4eed-b7a3-11e91fc6822f",
   "metadata": {},
   "outputs": [
    {
     "data": {
      "text/plain": [
       "27"
      ]
     },
     "execution_count": 59,
     "metadata": {},
     "output_type": "execute_result"
    }
   ],
   "source": [
    "a*=3\n",
    "a"
   ]
  },
  {
   "cell_type": "code",
   "execution_count": 60,
   "id": "1d226201-b805-4258-9450-610775f71bcc",
   "metadata": {},
   "outputs": [
    {
     "data": {
      "text/plain": [
       "9"
      ]
     },
     "execution_count": 60,
     "metadata": {},
     "output_type": "execute_result"
    }
   ],
   "source": [
    "a = 3*3\n",
    "a"
   ]
  },
  {
   "cell_type": "code",
   "execution_count": 61,
   "id": "bb6641d7-546d-40ca-acaa-23949a829689",
   "metadata": {},
   "outputs": [
    {
     "data": {
      "text/plain": [
       "27"
      ]
     },
     "execution_count": 61,
     "metadata": {},
     "output_type": "execute_result"
    }
   ],
   "source": [
    "3*3*3"
   ]
  },
  {
   "cell_type": "code",
   "execution_count": 62,
   "id": "5917ad44-a9bd-4f93-9458-bfef33d15574",
   "metadata": {},
   "outputs": [
    {
     "data": {
      "text/plain": [
       "1"
      ]
     },
     "execution_count": 62,
     "metadata": {},
     "output_type": "execute_result"
    }
   ],
   "source": [
    "a&=3\n",
    "a"
   ]
  },
  {
   "cell_type": "code",
   "execution_count": 63,
   "id": "9347edd9-c855-45fd-a573-3b8182c45c9d",
   "metadata": {},
   "outputs": [
    {
     "data": {
      "text/plain": [
       "True"
      ]
     },
     "execution_count": 63,
     "metadata": {},
     "output_type": "execute_result"
    }
   ],
   "source": [
    "# Identity O\n",
    "a = 3\n",
    "b = 3\n",
    "a is b"
   ]
  },
  {
   "cell_type": "code",
   "execution_count": 65,
   "id": "af3a993a-f129-4afc-86ee-fbb4f1296229",
   "metadata": {},
   "outputs": [
    {
     "data": {
      "text/plain": [
       "False"
      ]
     },
     "execution_count": 65,
     "metadata": {},
     "output_type": "execute_result"
    }
   ],
   "source": [
    "a = [1,2,3]\n",
    "b = [1,2,3]\n",
    "a is b"
   ]
  },
  {
   "cell_type": "code",
   "execution_count": 66,
   "id": "4465230f-5eee-4240-9b51-7e8d320ce4a5",
   "metadata": {},
   "outputs": [
    {
     "data": {
      "text/plain": [
       "False"
      ]
     },
     "execution_count": 66,
     "metadata": {},
     "output_type": "execute_result"
    }
   ],
   "source": [
    "# Membership O\n",
    "x = (1,2,3)\n",
    "5 in x"
   ]
  },
  {
   "cell_type": "code",
   "execution_count": 67,
   "id": "b62bcce7-d8eb-4fca-8a92-90228da67e22",
   "metadata": {},
   "outputs": [
    {
     "data": {
      "text/plain": [
       "True"
      ]
     },
     "execution_count": 67,
     "metadata": {},
     "output_type": "execute_result"
    }
   ],
   "source": [
    "x = (1,2,3)\n",
    "3 in x"
   ]
  },
  {
   "cell_type": "markdown",
   "id": "1246bb0b-a203-418f-9469-2aac2fb5c8c6",
   "metadata": {},
   "source": [
    "# If-else Statements"
   ]
  },
  {
   "cell_type": "code",
   "execution_count": 73,
   "id": "eadbf556-7f30-456f-88fe-8d170beec678",
   "metadata": {},
   "outputs": [
    {
     "name": "stdin",
     "output_type": "stream",
     "text": [
      "Give your email Id finaznadaf@gmail.com\n",
      "Give your password 4567\n"
     ]
    },
    {
     "name": "stdout",
     "output_type": "stream",
     "text": [
      "Incorrect Password\n"
     ]
    },
    {
     "name": "stdin",
     "output_type": "stream",
     "text": [
      "Reright the password 1234\n"
     ]
    },
    {
     "name": "stdout",
     "output_type": "stream",
     "text": [
      "finally Password is correct\n"
     ]
    }
   ],
   "source": [
    "# email : finaznadaf@gmail.com\n",
    "# password : 1234\n",
    "email = input('Give your email Id')\n",
    "if '@' in email:\n",
    "    password = input('Give your password')\n",
    "    \n",
    "    if email == 'finaznadaf@gmail.com' and password == '1234':\n",
    "        print('Welcome')\n",
    "    elif email == 'finaznadaf@gmail.com' and password != '1234':\n",
    "        print('Incorrect Password')\n",
    "        password = input('Reright the password')\n",
    "        if password == '1234':\n",
    "            print('finally Password is correct')\n",
    "        else:\n",
    "            print('Again Password is incorrect')\n",
    "    else:\n",
    "        print('Information is not correct')\n",
    "else:\n",
    "    print('Your password is wrong')"
   ]
  },
  {
   "cell_type": "markdown",
   "id": "dc48490c-0b7e-4524-ade5-1c0e412e9a71",
   "metadata": {},
   "source": [
    "# While Loop"
   ]
  },
  {
   "cell_type": "code",
   "execution_count": 79,
   "id": "5f001a19-abdc-43ba-95bd-c199f9a1a462",
   "metadata": {},
   "outputs": [
    {
     "name": "stdin",
     "output_type": "stream",
     "text": [
      "Enter the number 24\n"
     ]
    },
    {
     "name": "stdout",
     "output_type": "stream",
     "text": [
      "24 * 1 = 24\n",
      "24 * 2 = 48\n",
      "24 * 3 = 72\n",
      "24 * 4 = 96\n",
      "24 * 5 = 120\n",
      "24 * 6 = 144\n",
      "24 * 7 = 168\n",
      "24 * 8 = 192\n",
      "24 * 9 = 216\n",
      "24 * 10 = 240\n"
     ]
    }
   ],
   "source": [
    "number = int(input('Enter the number'))\n",
    "i=1\n",
    "while i<11:\n",
    "    print(number,'*',i,'=',number * i)\n",
    "    i+=1"
   ]
  },
  {
   "cell_type": "code",
   "execution_count": 81,
   "id": "fa0312e0-b349-43b5-9859-b33b1d6863d9",
   "metadata": {},
   "outputs": [
    {
     "name": "stdout",
     "output_type": "stream",
     "text": [
      "2 * 1 = 2\n",
      "2 * 2 = 4\n",
      "2 * 3 = 6\n",
      "2 * 4 = 8\n",
      "2 * 5 = 10\n",
      "2 * 6 = 12\n",
      "2 * 7 = 14\n",
      "2 * 8 = 16\n",
      "2 * 9 = 18\n",
      "2 * 10 = 20\n"
     ]
    }
   ],
   "source": [
    "# table of 2 by while loop\n",
    "\n",
    "num = 2\n",
    "i = 1\n",
    "\n",
    "while i <=10:\n",
    "    result = num * i\n",
    "    print(num,'*',i,'=', result)\n",
    "    i +=1\n"
   ]
  },
  {
   "cell_type": "code",
   "execution_count": 84,
   "id": "56a8ce58-bc0b-4122-945d-bcf9f7408a41",
   "metadata": {},
   "outputs": [
    {
     "name": "stdin",
     "output_type": "stream",
     "text": [
      "Enter the number 18\n"
     ]
    },
    {
     "name": "stdout",
     "output_type": "stream",
     "text": [
      "18 * 1 = 18\n",
      "18 * 2 = 36\n",
      "18 * 3 = 54\n",
      "18 * 4 = 72\n",
      "18 * 5 = 90\n",
      "18 * 6 = 108\n",
      "18 * 7 = 126\n",
      "18 * 8 = 144\n",
      "18 * 9 = 162\n",
      "18 * 10 = 180\n"
     ]
    }
   ],
   "source": [
    "# All tables\n",
    "num = int(input('Enter the number'))\n",
    "i = 1\n",
    "\n",
    "while i <=10:\n",
    "    result = num * i\n",
    "    print(num,'*',i,'=', result)\n",
    "    i +=1\n"
   ]
  },
  {
   "cell_type": "code",
   "execution_count": 88,
   "id": "4b3ac4f9-0047-4e4b-ab64-0364f6782cbe",
   "metadata": {},
   "outputs": [
    {
     "name": "stdout",
     "output_type": "stream",
     "text": [
      "1\n",
      "2\n",
      "3\n",
      "4\n",
      "5\n",
      "6\n",
      "7\n",
      "8\n",
      "9\n",
      "10\n",
      "11\n",
      "12\n",
      "13\n",
      "14\n",
      "15\n",
      "16\n",
      "17\n",
      "18\n",
      "19\n",
      "20\n",
      "21\n",
      "22\n",
      "23\n",
      "24\n",
      "25\n",
      "26\n",
      "27\n",
      "28\n",
      "29\n",
      "30\n",
      "31\n",
      "32\n",
      "33\n",
      "34\n",
      "35\n",
      "36\n",
      "37\n",
      "38\n",
      "39\n",
      "40\n",
      "41\n",
      "42\n",
      "43\n",
      "44\n",
      "45\n",
      "46\n",
      "47\n",
      "48\n",
      "49\n",
      "50\n",
      "51\n",
      "52\n",
      "53\n",
      "54\n",
      "55\n",
      "56\n",
      "57\n",
      "58\n",
      "59\n",
      "60\n",
      "61\n",
      "62\n",
      "63\n",
      "64\n",
      "65\n",
      "66\n",
      "67\n",
      "68\n",
      "69\n",
      "70\n",
      "71\n",
      "72\n",
      "73\n",
      "74\n",
      "75\n",
      "76\n",
      "77\n",
      "78\n",
      "79\n",
      "80\n",
      "81\n",
      "82\n",
      "83\n",
      "84\n",
      "85\n",
      "86\n",
      "87\n",
      "88\n",
      "89\n",
      "90\n",
      "91\n",
      "92\n",
      "93\n",
      "94\n",
      "95\n",
      "96\n",
      "97\n",
      "98\n",
      "99\n",
      "100\n",
      "101\n",
      "102\n",
      "103\n",
      "104\n",
      "105\n",
      "106\n",
      "107\n",
      "108\n",
      "109\n",
      "110\n",
      "111\n",
      "112\n",
      "113\n",
      "114\n",
      "115\n",
      "116\n",
      "117\n",
      "118\n",
      "119\n",
      "120\n",
      "121\n",
      "122\n",
      "123\n",
      "124\n",
      "125\n",
      "126\n",
      "127\n",
      "128\n",
      "129\n",
      "130\n",
      "131\n",
      "132\n",
      "133\n",
      "134\n",
      "135\n",
      "136\n",
      "137\n",
      "138\n",
      "139\n",
      "140\n",
      "141\n",
      "142\n",
      "143\n",
      "144\n",
      "145\n",
      "146\n",
      "147\n",
      "148\n",
      "149\n",
      "150\n",
      "151\n",
      "152\n",
      "153\n",
      "154\n",
      "155\n",
      "156\n",
      "157\n",
      "158\n",
      "159\n",
      "160\n",
      "161\n",
      "162\n",
      "163\n",
      "164\n",
      "165\n",
      "166\n",
      "167\n",
      "168\n",
      "169\n",
      "170\n",
      "171\n",
      "172\n",
      "173\n",
      "174\n",
      "175\n",
      "176\n",
      "177\n",
      "178\n",
      "179\n",
      "180\n",
      "181\n",
      "182\n",
      "183\n",
      "184\n",
      "185\n",
      "186\n",
      "187\n",
      "188\n",
      "189\n",
      "190\n",
      "191\n",
      "192\n",
      "193\n",
      "194\n",
      "195\n",
      "196\n",
      "197\n",
      "198\n",
      "199\n",
      "200\n",
      "201\n",
      "202\n",
      "203\n",
      "204\n",
      "205\n",
      "206\n",
      "207\n",
      "208\n",
      "209\n",
      "210\n",
      "211\n",
      "212\n",
      "213\n",
      "214\n",
      "215\n",
      "216\n",
      "217\n",
      "218\n",
      "219\n",
      "220\n",
      "221\n",
      "222\n",
      "223\n",
      "224\n",
      "225\n",
      "226\n",
      "227\n",
      "228\n",
      "229\n",
      "230\n",
      "231\n",
      "232\n",
      "233\n",
      "234\n",
      "235\n",
      "236\n",
      "237\n",
      "238\n",
      "239\n",
      "240\n",
      "241\n",
      "242\n",
      "243\n",
      "244\n",
      "245\n",
      "246\n",
      "247\n",
      "248\n",
      "249\n",
      "250\n",
      "251\n",
      "252\n",
      "253\n",
      "254\n",
      "255\n",
      "256\n",
      "257\n",
      "258\n",
      "259\n",
      "260\n",
      "261\n",
      "262\n",
      "263\n",
      "264\n",
      "265\n",
      "266\n",
      "267\n",
      "268\n",
      "269\n",
      "270\n",
      "271\n",
      "272\n",
      "273\n",
      "274\n",
      "275\n",
      "276\n",
      "277\n",
      "278\n",
      "279\n",
      "280\n",
      "281\n",
      "282\n",
      "283\n",
      "284\n",
      "285\n",
      "286\n",
      "287\n",
      "288\n",
      "289\n",
      "290\n",
      "291\n",
      "292\n",
      "293\n",
      "294\n",
      "295\n",
      "296\n",
      "297\n",
      "298\n",
      "299\n",
      "300\n",
      "301\n",
      "302\n",
      "303\n",
      "304\n",
      "305\n",
      "306\n",
      "307\n",
      "308\n",
      "309\n",
      "310\n",
      "311\n",
      "312\n",
      "313\n",
      "314\n",
      "315\n",
      "316\n",
      "317\n",
      "318\n",
      "319\n",
      "320\n",
      "321\n",
      "322\n",
      "323\n",
      "324\n",
      "325\n",
      "326\n",
      "327\n",
      "328\n",
      "329\n",
      "330\n",
      "331\n",
      "332\n",
      "333\n",
      "334\n",
      "335\n",
      "336\n",
      "337\n",
      "338\n",
      "339\n",
      "340\n",
      "341\n",
      "342\n",
      "343\n",
      "344\n",
      "345\n",
      "346\n",
      "347\n",
      "348\n",
      "349\n",
      "350\n",
      "351\n",
      "352\n",
      "353\n",
      "354\n",
      "355\n",
      "356\n",
      "357\n",
      "358\n",
      "359\n",
      "360\n",
      "361\n",
      "362\n",
      "363\n",
      "364\n",
      "365\n",
      "366\n",
      "367\n",
      "368\n",
      "369\n",
      "370\n",
      "371\n",
      "372\n",
      "373\n",
      "374\n",
      "375\n",
      "376\n",
      "377\n",
      "378\n",
      "379\n",
      "380\n",
      "381\n",
      "382\n",
      "383\n",
      "384\n",
      "385\n",
      "386\n",
      "387\n",
      "388\n",
      "389\n",
      "390\n",
      "391\n",
      "392\n",
      "393\n",
      "394\n",
      "395\n",
      "396\n",
      "397\n",
      "398\n",
      "399\n",
      "400\n",
      "401\n",
      "402\n",
      "403\n",
      "404\n",
      "405\n",
      "406\n",
      "407\n",
      "408\n",
      "409\n",
      "410\n",
      "411\n",
      "412\n",
      "413\n",
      "414\n",
      "415\n",
      "416\n",
      "417\n",
      "418\n",
      "419\n",
      "420\n",
      "421\n",
      "422\n",
      "423\n",
      "424\n",
      "425\n",
      "426\n",
      "427\n",
      "428\n",
      "429\n",
      "430\n",
      "431\n",
      "432\n",
      "433\n",
      "434\n",
      "435\n",
      "436\n",
      "437\n",
      "438\n",
      "439\n",
      "440\n",
      "441\n",
      "442\n",
      "443\n",
      "444\n",
      "445\n",
      "446\n",
      "447\n",
      "448\n",
      "449\n",
      "450\n",
      "451\n",
      "452\n",
      "453\n",
      "454\n",
      "455\n",
      "456\n",
      "457\n",
      "458\n",
      "459\n",
      "460\n",
      "461\n",
      "462\n",
      "463\n",
      "464\n",
      "465\n",
      "466\n",
      "467\n",
      "468\n",
      "469\n",
      "470\n",
      "471\n",
      "472\n",
      "473\n",
      "474\n",
      "475\n",
      "476\n",
      "477\n",
      "478\n",
      "479\n",
      "480\n",
      "481\n",
      "482\n",
      "483\n",
      "484\n",
      "485\n",
      "486\n",
      "487\n",
      "488\n",
      "489\n",
      "490\n",
      "491\n",
      "492\n",
      "493\n",
      "494\n",
      "495\n",
      "496\n",
      "497\n",
      "498\n",
      "499\n",
      "500\n",
      "501\n",
      "502\n",
      "503\n",
      "504\n",
      "505\n",
      "506\n",
      "507\n",
      "508\n",
      "509\n",
      "510\n",
      "511\n",
      "512\n",
      "513\n",
      "514\n",
      "515\n",
      "516\n",
      "517\n",
      "518\n",
      "519\n",
      "520\n",
      "521\n",
      "522\n",
      "523\n",
      "524\n",
      "525\n",
      "526\n",
      "527\n",
      "528\n",
      "529\n",
      "530\n",
      "531\n",
      "532\n",
      "533\n",
      "534\n",
      "535\n",
      "536\n",
      "537\n",
      "538\n",
      "539\n",
      "540\n",
      "541\n",
      "542\n",
      "543\n",
      "544\n",
      "545\n",
      "546\n",
      "547\n",
      "548\n",
      "549\n",
      "550\n",
      "551\n",
      "552\n",
      "553\n",
      "554\n",
      "555\n",
      "556\n",
      "557\n",
      "558\n",
      "559\n",
      "560\n",
      "561\n",
      "562\n",
      "563\n",
      "564\n",
      "565\n",
      "566\n",
      "567\n",
      "568\n",
      "569\n",
      "570\n",
      "571\n",
      "572\n",
      "573\n",
      "574\n",
      "575\n",
      "576\n",
      "577\n",
      "578\n",
      "579\n",
      "580\n",
      "581\n",
      "582\n",
      "583\n",
      "584\n",
      "585\n",
      "586\n",
      "587\n",
      "588\n",
      "589\n",
      "590\n",
      "591\n",
      "592\n",
      "593\n",
      "594\n",
      "595\n",
      "596\n",
      "597\n",
      "598\n",
      "599\n",
      "600\n",
      "601\n",
      "602\n",
      "603\n",
      "604\n",
      "605\n",
      "606\n",
      "607\n",
      "608\n",
      "609\n",
      "610\n",
      "611\n",
      "612\n",
      "613\n",
      "614\n",
      "615\n",
      "616\n",
      "617\n",
      "618\n",
      "619\n",
      "620\n",
      "621\n",
      "622\n",
      "623\n",
      "624\n",
      "625\n",
      "626\n",
      "627\n",
      "628\n",
      "629\n",
      "630\n",
      "631\n",
      "632\n",
      "633\n",
      "634\n",
      "635\n",
      "636\n",
      "637\n",
      "638\n",
      "639\n",
      "640\n",
      "641\n",
      "642\n",
      "643\n",
      "644\n",
      "645\n",
      "646\n",
      "647\n",
      "648\n",
      "649\n",
      "650\n",
      "651\n",
      "652\n",
      "653\n",
      "654\n",
      "655\n",
      "656\n",
      "657\n",
      "658\n",
      "659\n",
      "660\n",
      "661\n",
      "662\n",
      "663\n",
      "664\n",
      "665\n",
      "666\n",
      "667\n",
      "668\n",
      "669\n",
      "670\n",
      "671\n",
      "672\n",
      "673\n",
      "674\n",
      "675\n",
      "676\n",
      "677\n",
      "678\n",
      "679\n",
      "680\n",
      "681\n",
      "682\n",
      "683\n",
      "684\n",
      "685\n",
      "686\n",
      "687\n",
      "688\n",
      "689\n",
      "690\n",
      "691\n",
      "692\n",
      "693\n",
      "694\n",
      "695\n",
      "696\n",
      "697\n",
      "698\n",
      "699\n",
      "700\n",
      "701\n",
      "702\n",
      "703\n",
      "704\n",
      "705\n",
      "706\n",
      "707\n",
      "708\n",
      "709\n",
      "710\n",
      "711\n",
      "712\n",
      "713\n",
      "714\n",
      "715\n",
      "716\n",
      "717\n",
      "718\n",
      "719\n",
      "720\n",
      "721\n",
      "722\n",
      "723\n",
      "724\n",
      "725\n",
      "726\n",
      "727\n",
      "728\n",
      "729\n",
      "730\n",
      "731\n",
      "732\n",
      "733\n",
      "734\n",
      "735\n",
      "736\n",
      "737\n",
      "738\n",
      "739\n",
      "740\n",
      "741\n",
      "742\n",
      "743\n",
      "744\n",
      "745\n",
      "746\n",
      "747\n",
      "748\n",
      "749\n",
      "750\n",
      "751\n",
      "752\n",
      "753\n",
      "754\n",
      "755\n",
      "756\n",
      "757\n",
      "758\n",
      "759\n",
      "760\n",
      "761\n",
      "762\n",
      "763\n",
      "764\n",
      "765\n",
      "766\n",
      "767\n",
      "768\n",
      "769\n",
      "770\n",
      "771\n",
      "772\n",
      "773\n",
      "774\n",
      "775\n",
      "776\n",
      "777\n",
      "778\n",
      "779\n",
      "780\n",
      "781\n",
      "782\n",
      "783\n",
      "784\n",
      "785\n",
      "786\n",
      "787\n",
      "788\n",
      "789\n",
      "790\n",
      "791\n",
      "792\n",
      "793\n",
      "794\n",
      "795\n",
      "796\n",
      "797\n",
      "798\n",
      "799\n",
      "800\n",
      "801\n",
      "802\n",
      "803\n",
      "804\n",
      "805\n",
      "806\n",
      "807\n",
      "808\n",
      "809\n",
      "810\n",
      "811\n",
      "812\n",
      "813\n",
      "814\n",
      "815\n",
      "816\n",
      "817\n",
      "818\n",
      "819\n",
      "820\n",
      "821\n",
      "822\n",
      "823\n",
      "824\n",
      "825\n",
      "826\n",
      "827\n",
      "828\n",
      "829\n",
      "830\n",
      "831\n",
      "832\n",
      "833\n",
      "834\n",
      "835\n",
      "836\n",
      "837\n",
      "838\n",
      "839\n",
      "840\n",
      "841\n",
      "842\n",
      "843\n",
      "844\n",
      "845\n",
      "846\n",
      "847\n",
      "848\n",
      "849\n",
      "850\n",
      "851\n",
      "852\n",
      "853\n",
      "854\n",
      "855\n",
      "856\n",
      "857\n",
      "858\n",
      "859\n",
      "860\n",
      "861\n",
      "862\n",
      "863\n",
      "864\n",
      "865\n",
      "866\n",
      "867\n",
      "868\n",
      "869\n",
      "870\n",
      "871\n",
      "872\n",
      "873\n",
      "874\n",
      "875\n",
      "876\n",
      "877\n",
      "878\n",
      "879\n",
      "880\n",
      "881\n",
      "882\n",
      "883\n",
      "884\n",
      "885\n",
      "886\n",
      "887\n",
      "888\n",
      "889\n",
      "890\n",
      "891\n",
      "892\n",
      "893\n",
      "894\n",
      "895\n",
      "896\n",
      "897\n",
      "898\n",
      "899\n",
      "900\n",
      "901\n",
      "902\n",
      "903\n",
      "904\n",
      "905\n",
      "906\n",
      "907\n",
      "908\n",
      "909\n",
      "910\n",
      "911\n",
      "912\n",
      "913\n",
      "914\n",
      "915\n",
      "916\n",
      "917\n",
      "918\n",
      "919\n",
      "920\n",
      "921\n",
      "922\n",
      "923\n",
      "924\n",
      "925\n",
      "926\n",
      "927\n",
      "928\n",
      "929\n",
      "930\n",
      "931\n",
      "932\n",
      "933\n",
      "934\n",
      "935\n",
      "936\n",
      "937\n",
      "938\n",
      "939\n",
      "940\n",
      "941\n",
      "942\n",
      "943\n",
      "944\n",
      "945\n",
      "946\n",
      "947\n",
      "948\n",
      "949\n",
      "950\n",
      "951\n",
      "952\n",
      "953\n",
      "954\n",
      "955\n",
      "956\n",
      "957\n",
      "958\n",
      "959\n",
      "960\n",
      "961\n",
      "962\n",
      "963\n",
      "964\n",
      "965\n",
      "966\n",
      "967\n",
      "968\n",
      "969\n",
      "970\n",
      "971\n",
      "972\n",
      "973\n",
      "974\n",
      "975\n",
      "976\n",
      "977\n",
      "978\n",
      "979\n",
      "980\n",
      "981\n",
      "982\n",
      "983\n",
      "984\n",
      "985\n",
      "986\n",
      "987\n",
      "988\n",
      "989\n",
      "990\n",
      "991\n",
      "992\n",
      "993\n",
      "994\n",
      "995\n",
      "996\n",
      "997\n",
      "998\n",
      "999\n",
      "1000\n"
     ]
    }
   ],
   "source": [
    "i = 1\n",
    "while i <= 1000:\n",
    "    print(i)\n",
    "    i+=1"
   ]
  },
  {
   "cell_type": "code",
   "execution_count": 91,
   "id": "cc764528-9215-46aa-8906-efd96ff29212",
   "metadata": {},
   "outputs": [
    {
     "name": "stdin",
     "output_type": "stream",
     "text": [
      "Guess the number 50\n"
     ]
    },
    {
     "name": "stdout",
     "output_type": "stream",
     "text": [
      "Guess Higher\n"
     ]
    },
    {
     "name": "stdin",
     "output_type": "stream",
     "text": [
      "Guess the number 60\n"
     ]
    },
    {
     "name": "stdout",
     "output_type": "stream",
     "text": [
      "Guess Higher\n"
     ]
    },
    {
     "name": "stdin",
     "output_type": "stream",
     "text": [
      "Guess the number 70\n"
     ]
    },
    {
     "name": "stdout",
     "output_type": "stream",
     "text": [
      "Guess Higher\n"
     ]
    },
    {
     "name": "stdin",
     "output_type": "stream",
     "text": [
      "Guess the number 80\n"
     ]
    },
    {
     "name": "stdout",
     "output_type": "stream",
     "text": [
      "Guess Lower\n"
     ]
    },
    {
     "name": "stdin",
     "output_type": "stream",
     "text": [
      "Guess the number 85\n"
     ]
    },
    {
     "name": "stdout",
     "output_type": "stream",
     "text": [
      "Guess Lower\n"
     ]
    },
    {
     "name": "stdin",
     "output_type": "stream",
     "text": [
      "Guess the number 83\n"
     ]
    },
    {
     "name": "stdout",
     "output_type": "stream",
     "text": [
      "Guess Lower\n"
     ]
    },
    {
     "name": "stdin",
     "output_type": "stream",
     "text": [
      "Guess the number 75\n"
     ]
    },
    {
     "name": "stdout",
     "output_type": "stream",
     "text": [
      "Guess Lower\n"
     ]
    },
    {
     "name": "stdin",
     "output_type": "stream",
     "text": [
      "Guess the number 71\n"
     ]
    },
    {
     "name": "stdout",
     "output_type": "stream",
     "text": [
      "Guess Higher\n"
     ]
    },
    {
     "name": "stdin",
     "output_type": "stream",
     "text": [
      "Guess the number 72\n"
     ]
    },
    {
     "name": "stdout",
     "output_type": "stream",
     "text": [
      "Guess Higher\n"
     ]
    },
    {
     "name": "stdin",
     "output_type": "stream",
     "text": [
      "Guess the number 73\n"
     ]
    },
    {
     "name": "stdout",
     "output_type": "stream",
     "text": [
      "Correct answer\n",
      "You took 10 attempt\n"
     ]
    }
   ],
   "source": [
    "# Gessing game in python\n",
    "import random\n",
    "jackpot = random.randint(1,100)\n",
    "counter = 1\n",
    "guess = int(input('Guess the number'))\n",
    "\n",
    "while guess != jackpot:\n",
    "    if guess < jackpot:\n",
    "        print('Guess Higher')\n",
    "    else:\n",
    "        print('Guess Lower')\n",
    "\n",
    "    guess = int(input('Guess the number'))\n",
    "    counter +=1\n",
    "print('Correct answer')\n",
    "print('You took', counter ,'attempt')"
   ]
  },
  {
   "cell_type": "markdown",
   "id": "bd94aa0d-2afb-462e-a8eb-31837a62881e",
   "metadata": {},
   "source": [
    "# For Loop"
   ]
  },
  {
   "cell_type": "code",
   "execution_count": 3,
   "id": "38328c4e-84c3-4c18-86f8-9de65a79bc06",
   "metadata": {},
   "outputs": [
    {
     "data": {
      "text/plain": [
       "[1, 2, 3, 4, 5, 6, 7, 8, 9, 10]"
      ]
     },
     "execution_count": 3,
     "metadata": {},
     "output_type": "execute_result"
    }
   ],
   "source": [
    "# Range\n",
    "list(range(1,11))"
   ]
  },
  {
   "cell_type": "code",
   "execution_count": 6,
   "id": "40e8224d-72d3-47ae-929c-e7b6afd8108c",
   "metadata": {},
   "outputs": [
    {
     "data": {
      "text/plain": [
       "[1,\n",
       " 3,\n",
       " 5,\n",
       " 7,\n",
       " 9,\n",
       " 11,\n",
       " 13,\n",
       " 15,\n",
       " 17,\n",
       " 19,\n",
       " 21,\n",
       " 23,\n",
       " 25,\n",
       " 27,\n",
       " 29,\n",
       " 31,\n",
       " 33,\n",
       " 35,\n",
       " 37,\n",
       " 39,\n",
       " 41,\n",
       " 43,\n",
       " 45,\n",
       " 47,\n",
       " 49,\n",
       " 51,\n",
       " 53,\n",
       " 55,\n",
       " 57,\n",
       " 59,\n",
       " 61,\n",
       " 63,\n",
       " 65,\n",
       " 67,\n",
       " 69,\n",
       " 71,\n",
       " 73,\n",
       " 75,\n",
       " 77,\n",
       " 79,\n",
       " 81,\n",
       " 83,\n",
       " 85,\n",
       " 87,\n",
       " 89,\n",
       " 91,\n",
       " 93,\n",
       " 95,\n",
       " 97,\n",
       " 99]"
      ]
     },
     "execution_count": 6,
     "metadata": {},
     "output_type": "execute_result"
    }
   ],
   "source": [
    "list(range(1,100,2)) # Start,stop,step"
   ]
  },
  {
   "cell_type": "code",
   "execution_count": 7,
   "id": "fbb5f927-a772-4aba-8870-d4dc3d8f8dcf",
   "metadata": {},
   "outputs": [
    {
     "data": {
      "text/plain": [
       "[1,\n",
       " 5,\n",
       " 9,\n",
       " 13,\n",
       " 17,\n",
       " 21,\n",
       " 25,\n",
       " 29,\n",
       " 33,\n",
       " 37,\n",
       " 41,\n",
       " 45,\n",
       " 49,\n",
       " 53,\n",
       " 57,\n",
       " 61,\n",
       " 65,\n",
       " 69,\n",
       " 73,\n",
       " 77,\n",
       " 81,\n",
       " 85,\n",
       " 89,\n",
       " 93,\n",
       " 97]"
      ]
     },
     "execution_count": 7,
     "metadata": {},
     "output_type": "execute_result"
    }
   ],
   "source": [
    "list(range(1,100,4))"
   ]
  },
  {
   "cell_type": "code",
   "execution_count": 8,
   "id": "ac769059-79e1-47db-86cc-224d3ec930ec",
   "metadata": {},
   "outputs": [
    {
     "data": {
      "text/plain": [
       "[10, 9, 8, 7, 6, 5, 4, 3, 2, 1]"
      ]
     },
     "execution_count": 8,
     "metadata": {},
     "output_type": "execute_result"
    }
   ],
   "source": [
    "list(range(10,0,-1))"
   ]
  },
  {
   "cell_type": "code",
   "execution_count": 9,
   "id": "2a2307dc-f5bc-4a2d-beb3-69945ca4c3c5",
   "metadata": {},
   "outputs": [
    {
     "name": "stdout",
     "output_type": "stream",
     "text": [
      "10\n",
      "9\n",
      "8\n",
      "7\n",
      "6\n",
      "5\n",
      "4\n",
      "3\n",
      "2\n",
      "1\n"
     ]
    }
   ],
   "source": [
    "for i in range(10,0,-1):\n",
    "    print(i)"
   ]
  },
  {
   "cell_type": "code",
   "execution_count": 14,
   "id": "8b3a1a1e-5609-4335-a534-df661ecf7d9b",
   "metadata": {},
   "outputs": [
    {
     "name": "stdout",
     "output_type": "stream",
     "text": [
      "B\n",
      "a\n",
      "n\n",
      "g\n",
      "a\n",
      "l\n",
      "o\n",
      "r\n",
      "e\n"
     ]
    }
   ],
   "source": [
    "for i in \"Bangalore\":\n",
    "    print(i)"
   ]
  },
  {
   "cell_type": "code",
   "execution_count": 15,
   "id": "ea8e5f98-6947-47aa-90ef-cf10e40e5912",
   "metadata": {},
   "outputs": [
    {
     "name": "stdout",
     "output_type": "stream",
     "text": [
      "1\n",
      "2\n",
      "3\n",
      "4\n",
      "5\n",
      "6\n"
     ]
    }
   ],
   "source": [
    "for i in [1,2,3,4,5,6]:\n",
    "    print(i)"
   ]
  },
  {
   "cell_type": "code",
   "execution_count": 16,
   "id": "2f1946b1-59a4-4502-95a6-d59d397d3053",
   "metadata": {},
   "outputs": [
    {
     "name": "stdout",
     "output_type": "stream",
     "text": [
      "1\n",
      "2\n",
      "3\n",
      "4\n",
      "5\n",
      "6\n"
     ]
    }
   ],
   "source": [
    "for i in (1,2,3,4,5,6):\n",
    "    print(i)"
   ]
  },
  {
   "cell_type": "code",
   "execution_count": 17,
   "id": "2fde941f-73e3-42d2-a8f6-7888684dcdeb",
   "metadata": {},
   "outputs": [
    {
     "name": "stdout",
     "output_type": "stream",
     "text": [
      "1\n",
      "2\n",
      "3\n",
      "4\n",
      "5\n",
      "6\n"
     ]
    }
   ],
   "source": [
    "for i in {1,2,3,4,5,6}:\n",
    "    print(i)"
   ]
  },
  {
   "cell_type": "markdown",
   "id": "d7a0b1ab-b24b-41a6-a564-15b0145d3fc3",
   "metadata": {},
   "source": [
    "# Nested Loop"
   ]
  },
  {
   "cell_type": "code",
   "execution_count": 18,
   "id": "5116c9e6-f646-4075-b09d-865190d87d11",
   "metadata": {},
   "outputs": [],
   "source": [
    "# *\n",
    "# * *\n",
    "# * * *\n",
    "# * * * *\n",
    "# * * * *"
   ]
  },
  {
   "cell_type": "code",
   "execution_count": 22,
   "id": "660d43f2-ccce-467e-ab67-99e0cc1bd413",
   "metadata": {},
   "outputs": [
    {
     "name": "stdin",
     "output_type": "stream",
     "text": [
      "Enter the numbers of rows 10\n"
     ]
    },
    {
     "name": "stdout",
     "output_type": "stream",
     "text": [
      "* \n",
      "* * \n",
      "* * * \n",
      "* * * * \n",
      "* * * * * \n",
      "* * * * * * \n",
      "* * * * * * * \n",
      "* * * * * * * * \n",
      "* * * * * * * * * \n",
      "* * * * * * * * * * \n"
     ]
    }
   ],
   "source": [
    "rows = int(input('Enter the numbers of rows'))\n",
    "\n",
    "for i in range(1, rows + 1):\n",
    "    for j in range(0,i):\n",
    "        print('*',end=' ')\n",
    "    print('')"
   ]
  },
  {
   "cell_type": "code",
   "execution_count": 24,
   "id": "3e3cf0ed-ebc7-407d-9d60-d447162a3948",
   "metadata": {},
   "outputs": [
    {
     "name": "stdout",
     "output_type": "stream",
     "text": [
      "Finaz \n",
      "Finaz Finaz \n",
      "Finaz Finaz Finaz \n",
      "Finaz Finaz Finaz Finaz \n",
      "Finaz Finaz Finaz Finaz Finaz \n",
      "Finaz Finaz Finaz Finaz Finaz Finaz \n",
      "Finaz Finaz Finaz Finaz Finaz Finaz Finaz \n",
      "Finaz Finaz Finaz Finaz Finaz Finaz Finaz Finaz \n",
      "Finaz Finaz Finaz Finaz Finaz Finaz Finaz Finaz Finaz \n",
      "Finaz Finaz Finaz Finaz Finaz Finaz Finaz Finaz Finaz Finaz \n"
     ]
    }
   ],
   "source": [
    "for i in range(1,11):\n",
    "    for j in range(0,i):\n",
    "        print('Finaz',end=' ')\n",
    "    print('')"
   ]
  },
  {
   "cell_type": "markdown",
   "id": "4a51883a-c1fc-45ca-b46e-eeb1766d40bb",
   "metadata": {},
   "source": [
    "# Break, Continue & Pass Statements"
   ]
  },
  {
   "cell_type": "code",
   "execution_count": 25,
   "id": "91f3a94a-025d-4a19-8a00-b5e4eeb80860",
   "metadata": {},
   "outputs": [
    {
     "name": "stdout",
     "output_type": "stream",
     "text": [
      "1\n",
      "2\n",
      "3\n",
      "4\n",
      "5\n"
     ]
    }
   ],
   "source": [
    "# Break\n",
    "for i in range(1,11):\n",
    "    if i == 6:\n",
    "        break\n",
    "    print(i)"
   ]
  },
  {
   "cell_type": "code",
   "execution_count": 29,
   "id": "cb63634b-bca8-46d4-88de-8d53966331f3",
   "metadata": {},
   "outputs": [
    {
     "name": "stdout",
     "output_type": "stream",
     "text": [
      "1\n",
      "Hello\n",
      "2\n",
      "Hello\n",
      "3\n",
      "Hello\n",
      "4\n",
      "Hello\n",
      "6\n",
      "Hello\n",
      "7\n",
      "Hello\n",
      "8\n",
      "Hello\n",
      "9\n",
      "Hello\n",
      "10\n",
      "Hello\n"
     ]
    }
   ],
   "source": [
    "# Continue: It will skip that number\n",
    "for i in range(1,11):\n",
    "    if i == 5:\n",
    "        continue\n",
    "    print(i)\n",
    "    print('Hello')"
   ]
  },
  {
   "cell_type": "code",
   "execution_count": 31,
   "id": "34eea273-9445-4369-9fd6-74730ca19c01",
   "metadata": {},
   "outputs": [],
   "source": [
    "# Pass : if you don't know what to right in the code then you can simply right pass so that it will not give error\n",
    "for i in range(1,10):\n",
    "    pass"
   ]
  },
  {
   "cell_type": "markdown",
   "id": "db06b74a-53f8-468a-b1e6-71cb0ccf4445",
   "metadata": {},
   "source": [
    "# Built-in-functions"
   ]
  },
  {
   "cell_type": "code",
   "execution_count": 32,
   "id": "10807792-4642-44da-ad20-bd2b43349eb9",
   "metadata": {},
   "outputs": [
    {
     "name": "stdout",
     "output_type": "stream",
     "text": [
      "Hello Finaz\n"
     ]
    }
   ],
   "source": [
    "# Print\n",
    "print('Hello Finaz')"
   ]
  },
  {
   "cell_type": "code",
   "execution_count": 33,
   "id": "fecd1516-c76e-468f-979e-81588d256b9c",
   "metadata": {},
   "outputs": [
    {
     "name": "stdin",
     "output_type": "stream",
     "text": [
      "Enter the name Finaz\n"
     ]
    },
    {
     "data": {
      "text/plain": [
       "'Finaz'"
      ]
     },
     "execution_count": 33,
     "metadata": {},
     "output_type": "execute_result"
    }
   ],
   "source": [
    "# Input\n",
    "input('Enter the name')"
   ]
  },
  {
   "cell_type": "code",
   "execution_count": 41,
   "id": "8fdd9168-f061-4e84-bc02-f2322d3d9408",
   "metadata": {},
   "outputs": [
    {
     "data": {
      "text/plain": [
       "int"
      ]
     },
     "execution_count": 41,
     "metadata": {},
     "output_type": "execute_result"
    }
   ],
   "source": [
    "# Type\n",
    "a = 35\n",
    "type(a)"
   ]
  },
  {
   "cell_type": "code",
   "execution_count": 42,
   "id": "de753318-c14f-436d-90a3-d78d707de831",
   "metadata": {},
   "outputs": [
    {
     "data": {
      "text/plain": [
       "float"
      ]
     },
     "execution_count": 42,
     "metadata": {},
     "output_type": "execute_result"
    }
   ],
   "source": [
    "b = 39.90\n",
    "type(b)"
   ]
  },
  {
   "cell_type": "code",
   "execution_count": 43,
   "id": "076e4da6-3137-4da6-9c9f-d255a3938a50",
   "metadata": {},
   "outputs": [
    {
     "data": {
      "text/plain": [
       "bool"
      ]
     },
     "execution_count": 43,
     "metadata": {},
     "output_type": "execute_result"
    }
   ],
   "source": [
    "c = True\n",
    "type(c)"
   ]
  },
  {
   "cell_type": "code",
   "execution_count": 44,
   "id": "b3a087f5-97c7-4bd9-94e9-b5661af86df4",
   "metadata": {},
   "outputs": [
    {
     "data": {
      "text/plain": [
       "str"
      ]
     },
     "execution_count": 44,
     "metadata": {},
     "output_type": "execute_result"
    }
   ],
   "source": [
    "d = 'Finaz'\n",
    "type(d)"
   ]
  },
  {
   "cell_type": "code",
   "execution_count": 45,
   "id": "91b287b3-a1d9-48c3-ae48-9799d0379bc1",
   "metadata": {},
   "outputs": [
    {
     "data": {
      "text/plain": [
       "list"
      ]
     },
     "execution_count": 45,
     "metadata": {},
     "output_type": "execute_result"
    }
   ],
   "source": [
    "e = [1,2,3,4,5,6]\n",
    "type(e)"
   ]
  },
  {
   "cell_type": "code",
   "execution_count": 46,
   "id": "0e22cca4-2b31-4fdb-a297-a84a98dd5839",
   "metadata": {},
   "outputs": [
    {
     "data": {
      "text/plain": [
       "tuple"
      ]
     },
     "execution_count": 46,
     "metadata": {},
     "output_type": "execute_result"
    }
   ],
   "source": [
    "f = (1,2,3,4,5,6)\n",
    "type(f)"
   ]
  },
  {
   "cell_type": "code",
   "execution_count": null,
   "id": "b29ae212-3d7b-4d8f-a056-c6f0ad185f87",
   "metadata": {},
   "outputs": [],
   "source": []
  },
  {
   "cell_type": "code",
   "execution_count": null,
   "id": "d2f81a37-eb0e-42bd-a8b1-9e1f033359f1",
   "metadata": {},
   "outputs": [],
   "source": []
  },
  {
   "cell_type": "code",
   "execution_count": 47,
   "id": "a2c12cd4-71c1-4f74-aeb0-125f15398def",
   "metadata": {},
   "outputs": [
    {
     "data": {
      "text/plain": [
       "45"
      ]
     },
     "execution_count": 47,
     "metadata": {},
     "output_type": "execute_result"
    }
   ],
   "source": [
    "# abs : absolut, modulus, | |\n",
    "abs(-45)"
   ]
  },
  {
   "cell_type": "code",
   "execution_count": 48,
   "id": "70225537-abf1-4430-9a0d-804b823f1f5b",
   "metadata": {},
   "outputs": [
    {
     "data": {
      "text/plain": [
       "4096"
      ]
     },
     "execution_count": 48,
     "metadata": {},
     "output_type": "execute_result"
    }
   ],
   "source": [
    "# Pow : Power\n",
    "pow(4,6)"
   ]
  },
  {
   "cell_type": "code",
   "execution_count": 49,
   "id": "38143364-e2f3-45cb-8bdc-5617214a8421",
   "metadata": {},
   "outputs": [
    {
     "data": {
      "text/plain": [
       "4"
      ]
     },
     "execution_count": 49,
     "metadata": {},
     "output_type": "execute_result"
    }
   ],
   "source": [
    "pow(2,2)"
   ]
  },
  {
   "cell_type": "code",
   "execution_count": 51,
   "id": "713f026c-5f4c-4831-9b4e-f3f610dc88f8",
   "metadata": {},
   "outputs": [
    {
     "data": {
      "text/plain": [
       "10"
      ]
     },
     "execution_count": 51,
     "metadata": {},
     "output_type": "execute_result"
    }
   ],
   "source": [
    "# min/max : Minimum, Maximum\n",
    "x = [1,2,3,4,5,6,7,8,9,10]\n",
    "max(x)"
   ]
  },
  {
   "cell_type": "code",
   "execution_count": 52,
   "id": "557b0910-aa69-4f61-94cc-4677e5364c9b",
   "metadata": {},
   "outputs": [
    {
     "data": {
      "text/plain": [
       "1"
      ]
     },
     "execution_count": 52,
     "metadata": {},
     "output_type": "execute_result"
    }
   ],
   "source": [
    "min(x)"
   ]
  },
  {
   "cell_type": "code",
   "execution_count": 56,
   "id": "117ad05b-fdb7-446a-bbb9-dfdbbe3d93df",
   "metadata": {},
   "outputs": [
    {
     "data": {
      "text/plain": [
       "'a'"
      ]
     },
     "execution_count": 56,
     "metadata": {},
     "output_type": "execute_result"
    }
   ],
   "source": [
    "min('bangalore')"
   ]
  },
  {
   "cell_type": "code",
   "execution_count": 58,
   "id": "676bac06-8b08-4a6a-9e98-87fb61aba50f",
   "metadata": {},
   "outputs": [
    {
     "data": {
      "text/plain": [
       "'r'"
      ]
     },
     "execution_count": 58,
     "metadata": {},
     "output_type": "execute_result"
    }
   ],
   "source": [
    "max('bangalore')"
   ]
  },
  {
   "cell_type": "code",
   "execution_count": 62,
   "id": "3258e8dc-e346-4831-a1af-a85011cf7d58",
   "metadata": {},
   "outputs": [
    {
     "data": {
      "text/plain": [
       "16"
      ]
     },
     "execution_count": 62,
     "metadata": {},
     "output_type": "execute_result"
    }
   ],
   "source": [
    "# Round : It will round up the value from decimal\n",
    "b = 345/22\n",
    "round(b)"
   ]
  },
  {
   "cell_type": "code",
   "execution_count": 64,
   "id": "8c0d03b6-3fb3-4f73-8d09-5f5b55876e8b",
   "metadata": {},
   "outputs": [
    {
     "data": {
      "text/plain": [
       "(2, 0)"
      ]
     },
     "execution_count": 64,
     "metadata": {},
     "output_type": "execute_result"
    }
   ],
   "source": [
    "# divmod : Return the tuple (x//y, x%y).  Invariant: div*y + mod == x\n",
    "divmod(6,3)"
   ]
  },
  {
   "cell_type": "code",
   "execution_count": 66,
   "id": "e95440bf-89e0-4e21-9a6a-d0e50bd4eacd",
   "metadata": {},
   "outputs": [
    {
     "data": {
      "text/plain": [
       "'0b110'"
      ]
     },
     "execution_count": 66,
     "metadata": {},
     "output_type": "execute_result"
    }
   ],
   "source": [
    "# bin : Return the binary representation of an integer.\n",
    "bin(6)"
   ]
  },
  {
   "cell_type": "code",
   "execution_count": 67,
   "id": "440551a3-e2f6-4df7-995b-a1ba54fe23b2",
   "metadata": {},
   "outputs": [
    {
     "data": {
      "text/plain": [
       "'0o6'"
      ]
     },
     "execution_count": 67,
     "metadata": {},
     "output_type": "execute_result"
    }
   ],
   "source": [
    "# oct : Return the octal representation of an integer.\n",
    "oct(6)"
   ]
  },
  {
   "cell_type": "code",
   "execution_count": 68,
   "id": "f782589e-d198-43af-a15a-c387328a53bc",
   "metadata": {},
   "outputs": [
    {
     "data": {
      "text/plain": [
       "'0x6'"
      ]
     },
     "execution_count": 68,
     "metadata": {},
     "output_type": "execute_result"
    }
   ],
   "source": [
    "# hex : Return the hexadecimal representation of an integer.\n",
    "hex(6)"
   ]
  },
  {
   "cell_type": "code",
   "execution_count": 72,
   "id": "322fc57e-d79d-4f1d-af22-606a6c72f53e",
   "metadata": {},
   "outputs": [
    {
     "data": {
      "text/plain": [
       "140709096940424"
      ]
     },
     "execution_count": 72,
     "metadata": {},
     "output_type": "execute_result"
    }
   ],
   "source": [
    "# id : Return the identity of an object.\n",
    "a = 4\n",
    "id(a)"
   ]
  },
  {
   "cell_type": "code",
   "execution_count": 73,
   "id": "8b741350-232f-4574-82ad-6fee799e9ce1",
   "metadata": {},
   "outputs": [
    {
     "data": {
      "text/plain": [
       "70"
      ]
     },
     "execution_count": 73,
     "metadata": {},
     "output_type": "execute_result"
    }
   ],
   "source": [
    "# ord : Return the Unicode code point for a one-character string.\n",
    "ord('F')"
   ]
  },
  {
   "cell_type": "code",
   "execution_count": 74,
   "id": "a6619739-701d-4e52-bdac-df8a41a32ab7",
   "metadata": {},
   "outputs": [
    {
     "data": {
      "text/plain": [
       "102"
      ]
     },
     "execution_count": 74,
     "metadata": {},
     "output_type": "execute_result"
    }
   ],
   "source": [
    "ord('f')"
   ]
  },
  {
   "cell_type": "code",
   "execution_count": 75,
   "id": "7e1aca7d-3912-4c8e-b735-318258031ca6",
   "metadata": {},
   "outputs": [
    {
     "data": {
      "text/plain": [
       "6"
      ]
     },
     "execution_count": 75,
     "metadata": {},
     "output_type": "execute_result"
    }
   ],
   "source": [
    "# len : Return the number of items in a container.\n",
    "len([1,2,3,4,5,6])"
   ]
  },
  {
   "cell_type": "code",
   "execution_count": 76,
   "id": "7fbb925e-c2e9-4cc4-bffc-21c3453fe586",
   "metadata": {},
   "outputs": [
    {
     "data": {
      "text/plain": [
       "6"
      ]
     },
     "execution_count": 76,
     "metadata": {},
     "output_type": "execute_result"
    }
   ],
   "source": [
    "len((1,2,3,4,5,6))"
   ]
  },
  {
   "cell_type": "code",
   "execution_count": 77,
   "id": "208f318d-4afe-4aa4-ac37-ee54493df073",
   "metadata": {},
   "outputs": [
    {
     "data": {
      "text/plain": [
       "6"
      ]
     },
     "execution_count": 77,
     "metadata": {},
     "output_type": "execute_result"
    }
   ],
   "source": [
    "len({1,2,3,4,5,6})"
   ]
  },
  {
   "cell_type": "code",
   "execution_count": 78,
   "id": "c8c44ed6-71a6-4448-899c-331d5396233a",
   "metadata": {},
   "outputs": [
    {
     "data": {
      "text/plain": [
       "21"
      ]
     },
     "execution_count": 78,
     "metadata": {},
     "output_type": "execute_result"
    }
   ],
   "source": [
    "# Sum \n",
    "sum((1,2,3,4,5,6))"
   ]
  },
  {
   "cell_type": "code",
   "execution_count": 80,
   "id": "89860ecb-ab44-4081-be7e-22272ac17b41",
   "metadata": {},
   "outputs": [
    {
     "name": "stdout",
     "output_type": "stream",
     "text": [
      "Help on built-in function ord in module builtins:\n",
      "\n",
      "ord(c, /)\n",
      "    Return the Unicode code point for a one-character string.\n",
      "\n"
     ]
    }
   ],
   "source": [
    "# help : \n",
    "help('ord')"
   ]
  },
  {
   "cell_type": "code",
   "execution_count": 81,
   "id": "8cc686ac-48f7-4a8a-bc59-6f4f560a637a",
   "metadata": {},
   "outputs": [
    {
     "name": "stdout",
     "output_type": "stream",
     "text": [
      "Help on built-in function divmod in module builtins:\n",
      "\n",
      "divmod(x, y, /)\n",
      "    Return the tuple (x//y, x%y).  Invariant: div*y + mod == x.\n",
      "\n"
     ]
    }
   ],
   "source": [
    "help('divmod')"
   ]
  },
  {
   "cell_type": "markdown",
   "id": "409419da-dbe5-43a9-9397-cc281e6d18a9",
   "metadata": {},
   "source": [
    "# Built-in-Module"
   ]
  },
  {
   "cell_type": "markdown",
   "id": "08cd3265-1260-45c9-b92a-30ff148c27be",
   "metadata": {},
   "source": [
    "#### What are modules?"
   ]
  },
  {
   "cell_type": "markdown",
   "id": "373a6160-bafc-42ab-9bcc-01fa936e2474",
   "metadata": {},
   "source": [
    "Consider a module to be the same as a code library.\n",
    "\n",
    "A file containing a set of functions you want to include in your application.\n",
    "\n",
    "Examples of python modules\n",
    "\n",
    "Math\n",
    "\n",
    "Random\n",
    "\n",
    "os\n",
    "\n",
    "time"
   ]
  },
  {
   "cell_type": "code",
   "execution_count": 83,
   "id": "6004434a-ef10-46b1-a68d-afdbc8c079c4",
   "metadata": {},
   "outputs": [
    {
     "name": "stdout",
     "output_type": "stream",
     "text": [
      "\n",
      "Please wait a moment while I gather a list of all available modules...\n",
      "\n"
     ]
    },
    {
     "name": "stderr",
     "output_type": "stream",
     "text": [
      "C:\\Users\\finaz\\anaconda3\\Lib\\site-packages\\nltk\\twitter\\__init__.py:20: UserWarning: The twython library has not been installed. Some functionality from the twitter package will not be available.\n",
      "  warnings.warn(\n",
      "C:\\Users\\finaz\\anaconda3\\Lib\\pkgutil.py:92: NumbaPendingDeprecationWarning: \u001b[1mThe 'pycc' module is pending deprecation. Replacement technology is being developed.\n",
      "\n",
      "Pending Deprecation in Numba 0.57.0. For more information please see: https://numba.readthedocs.io/en/stable/reference/deprecation.html#deprecation-of-the-numba-pycc-module\u001b[0m\n",
      "  __import__(info.name)\n",
      "C:\\Users\\finaz\\anaconda3\\Lib\\pkgutil.py:92: UserWarning: The numpy.array_api submodule is still experimental. See NEP 47.\n",
      "  __import__(info.name)\n",
      "C:\\Users\\finaz\\anaconda3\\Lib\\site-packages\\_distutils_hack\\__init__.py:33: UserWarning: Setuptools is replacing distutils.\n",
      "  warnings.warn(\"Setuptools is replacing distutils.\")\n",
      "No QCoreApplication instance found. Application patches not applied. You have to call load_stylesheet function after instantiation of QApplication to take effect. \n",
      "None of PyTorch, TensorFlow >= 2.0, or Flax have been found. Models won't be available and only tokenizers, configuration and file/data utilities can be used.\n"
     ]
    },
    {
     "name": "stdout",
     "output_type": "stream",
     "text": [
      "IPython             concurrent          mdurl               smtplib\n",
      "OpenSSL             conda               menuinst            sndhdr\n",
      "PIL                 conda_build         mimetypes           sniffio\n",
      "PyQt5               conda_content_trust mistune             snowballstemmer\n",
      "TBB                 conda_env           mkl                 socket\n",
      "__future__          conda_index         mmap                socketserver\n",
      "__hello__           conda_libmamba_solver mmapfile            socks\n",
      "__phello__          conda_pack          mmsystem            sockshandler\n",
      "_abc                conda_package_handling modulefinder        sortedcontainers\n",
      "_aix_support        conda_package_streaming more_itertools      soupsieve\n",
      "_argon2_cffi_bindings conda_token         mpmath              sphinx\n",
      "_ast                conda_verify        msgpack             spyder\n",
      "_asyncio            configparser        msilib              spyder_kernels\n",
      "_bisect             constantly          msvcrt              sqlalchemy\n",
      "_black_version      contextlib          multidict           sqlite3\n",
      "_blake2             contextvars         multipledispatch    sre_compile\n",
      "_bootsubprocess     contourpy           multiprocess        sre_constants\n",
      "_bz2                cookiecutter        multiprocessing     sre_parse\n",
      "_cffi_backend       copy                munkres             ssl\n",
      "_codecs             copyreg             mypy_extensions     sspi\n",
      "_codecs_cn          cpuinfo             nacl                sspicon\n",
      "_codecs_hk          crypt               navigator_updater   stack_data\n",
      "_codecs_iso2022     cryptography        nbclient            stat\n",
      "_codecs_jp          cssselect           nbconvert           statistics\n",
      "_codecs_kr          csv                 nbformat            statsmodels\n",
      "_codecs_tw          ctypes              nest_asyncio        string\n",
      "_collections        curl                netbios             stringprep\n",
      "_collections_abc    curses              netrc               struct\n",
      "_compat_pickle      cwp                 networkx            subprocess\n",
      "_compression        cycler              nltk                sunau\n",
      "_contextvars        cytoolz             nntplib             sympy\n",
      "_csv                daal4py             notebook            symtable\n",
      "_ctypes             dask                notebook_shim       sys\n",
      "_ctypes_test        dataclasses         nt                  sysconfig\n",
      "_datetime           datasets            ntpath              tables\n",
      "_decimal            datashader          ntsecuritycon       tabnanny\n",
      "_distutils_hack     datashape           nturl2path          tabulate\n",
      "_elementtree        datetime            numba               tarfile\n",
      "_functools          dateutil            numbergen           tbb\n",
      "_hashlib            dbi                 numbers             tblib\n",
      "_heapq              dbm                 numexpr             telnetlib\n",
      "_imp                dde                 numpy               tempfile\n",
      "_io                 debugpy             numpydoc            tenacity\n",
      "_json               decimal             odbc                terminado\n",
      "_locale             decorator           onedal              test\n",
      "_lsprof             defusedxml          opcode              test_pycosat\n",
      "_lzma               diff_match_patch    openpyxl            text_unidecode\n",
      "_markupbase         difflib             operator            textdistance\n",
      "_md5                dill                optparse            textwrap\n",
      "_msi                dis                 os                  this\n",
      "_multibytecodec     distributed         overrides           threading\n",
      "_multiprocess       distutils           packaging           threadpoolctl\n",
      "_multiprocessing    docstring_to_markdown pandas              three_merge\n",
      "_nsis               doctest             pandocfilters       tifffile\n",
      "_opcode             docutils            panel               time\n",
      "_operator           dotenv              param               timeit\n",
      "_osx_support        email               paramiko            timer\n",
      "_overlapped         encodings           parsel              tinycss2\n",
      "_pickle             ensurepip           parso               tkinter\n",
      "_plotly_future_     entrypoints         partd               tldextract\n",
      "_plotly_utils       enum                past                tlz\n",
      "_py_abc             erfa                pathlib             token\n",
      "_pydecimal          errno               pathspec            tokenize\n",
      "_pyio               et_xmlfile          patsy               tokenizers\n",
      "_pytest             exceptiongroup      pdb                 toml\n",
      "_queue              executing           pep8                tomli\n",
      "_random             fastjsonschema      perfmon             tomlkit\n",
      "_ruamel_yaml        faulthandler        pexpect             tomllib\n",
      "_sha1               filecmp             pickle              toolz\n",
      "_sha256             fileinput           pickleshare         tornado\n",
      "_sha3               filelock            pickletools         tqdm\n",
      "_sha512             flake8              pip                 trace\n",
      "_signal             flask               pipes               traceback\n",
      "_sitebuiltins       fnmatch             pkce                tracemalloc\n",
      "_socket             fontTools           pkg_resources       traitlets\n",
      "_sqlite3            fqdn                pkginfo             transformers\n",
      "_sre                fractions           pkgutil             tty\n",
      "_ssl                frozenlist          pkgutil_resolve_name turtle\n",
      "_stat               fsspec              platform            turtledemo\n",
      "_statistics         ftplib              platformdirs        twisted\n",
      "_string             functools           plistlib            types\n",
      "_strptime           future              plotly              typing\n",
      "_struct             gc                  pluggy              typing_extensions\n",
      "_symtable           genericpath         ply                 typing_utils\n",
      "_system_path        gensim              poplib              tzdata\n",
      "_testbuffer         getopt              posixpath           uc_micro\n",
      "_testcapi           getpass             pprint              ujson\n",
      "_testconsole        gettext             profile             unicodedata\n",
      "_testimportmultiple glob                prometheus_client   unittest\n",
      "_testinternalcapi   glob2               prompt_toolkit      uri_template\n",
      "_testmultiphase     graphlib            protego             urllib\n",
      "_thread             greenlet            pstats              urllib3\n",
      "_threading_local    gzip                psutil              uu\n",
      "_tkinter            h5py                pty                 uuid\n",
      "_tokenize           hashlib             ptyprocess          venv\n",
      "_tracemalloc        heapq               pure_eval           w3lib\n",
      "_typing             hmac                py                  warnings\n",
      "_uuid               holoviews           py_compile          watchdog\n",
      "_warnings           html                pyarrow             wave\n",
      "_weakref            http                pyasn1              wcwidth\n",
      "_weakrefset         huggingface_hub     pyasn1_modules      weakref\n",
      "_win32sysloader     hvplot              pyclbr              webbrowser\n",
      "_winapi             hyperlink           pycodestyle         webcolors\n",
      "_winxptheme         idlelib             pycosat             webencodings\n",
      "_xxsubinterpreters  idna                pycparser           websocket\n",
      "_yaml               imagecodecs         pyct                werkzeug\n",
      "_zoneinfo           imageio             pycurl              whatthepatch\n",
      "abc                 imagesize           pydantic            wheel\n",
      "adodbapi            imaplib             pydispatch          widgetsnbextension\n",
      "afxres              imblearn            pydoc               win2kras\n",
      "aifc                imghdr              pydoc_data          win32api\n",
      "aiobotocore         imp                 pydocstyle          win32clipboard\n",
      "aiohttp             importlib           pyexpat             win32com\n",
      "aioitertools        importlib_metadata  pyflakes            win32con\n",
      "aiosignal           importlib_resources pygments            win32console\n",
      "alabaster           incremental         pylab               win32cred\n",
      "anaconda_anon_usage inflection          pylint              win32crypt\n",
      "anaconda_catalogs   iniconfig           pylint_venv         win32cryptcon\n",
      "anaconda_cloud_auth inspect             pyls_spyder         win32ctypes\n",
      "anaconda_navigator  intake              pylsp               win32event\n",
      "anaconda_project    intervaltree        pylsp_black         win32evtlog\n",
      "antigravity         io                  pylsp_jsonrpc       win32evtlogutil\n",
      "anyio               ipaddress           pyodbc              win32file\n",
      "appdirs             ipykernel           pyparsing           win32gui\n",
      "argon2              ipykernel_launcher  pytest              win32gui_struct\n",
      "argparse            ipython_genutils    pythoncom           win32help\n",
      "array               ipywidgets          pythonjsonlogger    win32inet\n",
      "arrow               isapi               pytoolconfig        win32inetcon\n",
      "ast                 isoduration         pytz                win32job\n",
      "astroid             isort               pyviz_comms         win32lz\n",
      "astropy             isympy              pywin               win32net\n",
      "asttokens           itemadapter         pywin32_bootstrap   win32netcon\n",
      "async_lru           itemloaders         pywin32_testutil    win32pdh\n",
      "async_timeout       itertools           pywintypes          win32pdhquery\n",
      "asynchat            itsdangerous        pywt                win32pdhutil\n",
      "asyncio             jedi                qdarkstyle          win32pipe\n",
      "asyncore            jellyfish           qstylizer           win32print\n",
      "atexit              jinja2              qtawesome           win32process\n",
      "atomicwrites        jmespath            qtconsole           win32profile\n",
      "attr                joblib              qtpy                win32ras\n",
      "attrs               json                queue               win32rcparser\n",
      "audioop             json5               queuelib            win32security\n",
      "automat             jsonpatch           quopri              win32service\n",
      "autopep8            jsonpointer         random              win32serviceutil\n",
      "babel               jsonschema          rasutil             win32timezone\n",
      "backcall            jsonschema_specifications re                  win32trace\n",
      "backports           jupyter             referencing         win32traceutil\n",
      "base64              jupyter_client      regcheck            win32transaction\n",
      "bcrypt              jupyter_console     regex               win32ts\n",
      "bdb                 jupyter_core        regutil             win32ui\n",
      "binaryornot         jupyter_events      repo_cli            win32uiole\n",
      "binascii            jupyter_lsp         reprlib             win32verstamp\n",
      "binstar_client      jupyter_server      requests            win32wnet\n",
      "bisect              jupyter_server_terminals requests_file       win_inet_pton\n",
      "black               jupyterlab          requests_toolbelt   winerror\n",
      "blackd              jupyterlab_plotly   rfc3339_validator   winioctlcon\n",
      "bleach              jupyterlab_pygments rfc3986_validator   winnt\n",
      "blib2to3            jupyterlab_server   rich                winperf\n",
      "blinker             jupyterlab_widgets  rlcompleter         winpty\n",
      "bokeh               jwt                 rope                winreg\n",
      "boltons             keyring             rpds                winsound\n",
      "botocore            keyword             rtree               winxpgui\n",
      "brotli              kiwisolver          ruamel_yaml         winxptheme\n",
      "bs4                 lazy_loader         runpy               wrapt\n",
      "builtins            lazy_object_proxy   s3fs                wsgiref\n",
      "bz2                 lib2to3             sacremoses          xarray\n",
      "cProfile            libarchive          safetensors         xdrlib\n",
      "cached_property     libfuturize         sched               xlwings\n",
      "calendar            libmambapy          scipy               xlwingsjs\n",
      "certifi             libpasteurize       scrapy              xml\n",
      "cffi                lief                seaborn             xmlrpc\n",
      "cgi                 linecache           secrets             xxhash\n",
      "cgitb               linkify_it          select              xxlimited\n",
      "chardet             llvmlite            selectors           xxlimited_35\n",
      "charset_normalizer  locale              send2trash          xxsubtype\n",
      "chunk               locket              service_identity    xyzservices\n",
      "click               logging             servicemanager      yaml\n",
      "cloudpickle         lxml                setuptools          yapf\n",
      "clyent              lz4                 shelve              yapftests\n",
      "cmath               lzma                shlex               yarl\n",
      "cmd                 mailbox             shutil              zict\n",
      "code                mailcap             signal              zipapp\n",
      "codecs              markdown            sipbuild            zipfile\n",
      "codeop              markdown_it         site                zipimport\n",
      "collections         markupsafe          six                 zipp\n",
      "colorama            marshal             skimage             zlib\n",
      "colorcet            math                sklearn             zmq\n",
      "colorsys            matplotlib          sklearnex           zoneinfo\n",
      "comm                matplotlib_inline   slugify             zstandard\n",
      "commctrl            mccabe              smart_open          \n",
      "compileall          mdit_py_plugins     smtpd               \n",
      "\n",
      "Enter any module name to get more help.  Or, type \"modules spam\" to search\n",
      "for modules whose name or summary contain the string \"spam\".\n",
      "\n"
     ]
    }
   ],
   "source": [
    "help('modules')"
   ]
  },
  {
   "cell_type": "code",
   "execution_count": 84,
   "id": "f4f9317a-0df2-4e29-84a2-d58679c72d18",
   "metadata": {},
   "outputs": [],
   "source": [
    "#Built-in-module:is besically a python library"
   ]
  },
  {
   "cell_type": "code",
   "execution_count": 85,
   "id": "9f5d510b-0557-4735-a0c3-3b6ba76abe41",
   "metadata": {},
   "outputs": [],
   "source": [
    "import math"
   ]
  },
  {
   "cell_type": "code",
   "execution_count": 86,
   "id": "9e26f389-138e-418f-8e7a-39cc4e60e233",
   "metadata": {},
   "outputs": [
    {
     "data": {
      "text/plain": [
       "3.141592653589793"
      ]
     },
     "execution_count": 86,
     "metadata": {},
     "output_type": "execute_result"
    }
   ],
   "source": [
    "math.pi"
   ]
  },
  {
   "cell_type": "code",
   "execution_count": 87,
   "id": "8b198582-b1dd-4f2c-8fe5-a8d31bf05fa1",
   "metadata": {},
   "outputs": [
    {
     "data": {
      "text/plain": [
       "2.718281828459045"
      ]
     },
     "execution_count": 87,
     "metadata": {},
     "output_type": "execute_result"
    }
   ],
   "source": [
    "math.e"
   ]
  },
  {
   "cell_type": "code",
   "execution_count": 89,
   "id": "87b8abcd-6c07-40c3-a647-951778c32e40",
   "metadata": {},
   "outputs": [
    {
     "data": {
      "text/plain": [
       "5040"
      ]
     },
     "execution_count": 89,
     "metadata": {},
     "output_type": "execute_result"
    }
   ],
   "source": [
    "math.factorial(7)"
   ]
  },
  {
   "cell_type": "code",
   "execution_count": 93,
   "id": "aa5567de-17fb-436c-b4ac-9fc0a3e8bb12",
   "metadata": {},
   "outputs": [
    {
     "data": {
      "text/plain": [
       "8"
      ]
     },
     "execution_count": 93,
     "metadata": {},
     "output_type": "execute_result"
    }
   ],
   "source": [
    "math.ceil(7.9)"
   ]
  },
  {
   "cell_type": "code",
   "execution_count": 96,
   "id": "b6214dfd-b35b-424e-b6b1-aee3cc4f0dc6",
   "metadata": {},
   "outputs": [
    {
     "data": {
      "text/plain": [
       "9"
      ]
     },
     "execution_count": 96,
     "metadata": {},
     "output_type": "execute_result"
    }
   ],
   "source": [
    "math.floor(9.6)"
   ]
  },
  {
   "cell_type": "code",
   "execution_count": 98,
   "id": "9a8a72f4-32de-424f-abf4-2d2a30bec06f",
   "metadata": {},
   "outputs": [
    {
     "data": {
      "text/plain": [
       "10.0"
      ]
     },
     "execution_count": 98,
     "metadata": {},
     "output_type": "execute_result"
    }
   ],
   "source": [
    "math.sqrt(100)"
   ]
  },
  {
   "cell_type": "code",
   "execution_count": 99,
   "id": "3bee692a-ad06-42d9-b800-88105bcc61b8",
   "metadata": {},
   "outputs": [],
   "source": [
    "import random"
   ]
  },
  {
   "cell_type": "code",
   "execution_count": 100,
   "id": "aa8f6984-15ef-4a51-b4a2-dbb6be915666",
   "metadata": {},
   "outputs": [
    {
     "data": {
      "text/plain": [
       "17"
      ]
     },
     "execution_count": 100,
     "metadata": {},
     "output_type": "execute_result"
    }
   ],
   "source": [
    "random.randint(1,51)"
   ]
  },
  {
   "cell_type": "code",
   "execution_count": 104,
   "id": "491030de-b111-4725-93c3-e37bdbc926a6",
   "metadata": {},
   "outputs": [
    {
     "name": "stdout",
     "output_type": "stream",
     "text": [
      "[19, 2, 33, 5, 46, 41, 16, 50, 15, 37, 44]\n"
     ]
    }
   ],
   "source": [
    "num = []\n",
    "for i in range(11):\n",
    "    random_num = random.randint(1,50)\n",
    "    num.append(random_num)\n",
    "\n",
    "print(num)\n",
    "    "
   ]
  },
  {
   "cell_type": "code",
   "execution_count": 108,
   "id": "362c84a7-a11d-4b58-aaa9-5012535f9623",
   "metadata": {},
   "outputs": [
    {
     "name": "stdout",
     "output_type": "stream",
     "text": [
      "[3, 30, 4, 43, 32, 22, 42, 16, 21, 49, 14, 39, 1, 38, 31, 15, 10, 26, 24, 5, 18, 34, 29, 36, 40, 41, 45, 46, 19, 12, 28, 23, 7, 9, 13, 6, 47, 20, 8, 33, 27, 25, 17, 11, 48, 35, 37, 44, 2]\n"
     ]
    }
   ],
   "source": [
    "numbers = list(range(1,50))\n",
    "\n",
    "random.shuffle(numbers)\n",
    "\n",
    "print(numbers)"
   ]
  },
  {
   "cell_type": "code",
   "execution_count": 109,
   "id": "ea995df0-2786-4c8b-82b9-840e190d02f0",
   "metadata": {},
   "outputs": [],
   "source": [
    "import time"
   ]
  },
  {
   "cell_type": "code",
   "execution_count": 110,
   "id": "223b3205-5856-456f-99ce-d07a72520dca",
   "metadata": {},
   "outputs": [
    {
     "data": {
      "text/plain": [
       "1695626340.9640055"
      ]
     },
     "execution_count": 110,
     "metadata": {},
     "output_type": "execute_result"
    }
   ],
   "source": [
    "time.time()"
   ]
  },
  {
   "cell_type": "code",
   "execution_count": 111,
   "id": "971b35d9-a04b-4650-8b43-cc7b30fba035",
   "metadata": {},
   "outputs": [
    {
     "data": {
      "text/plain": [
       "'Mon Sep 25 12:49:13 2023'"
      ]
     },
     "execution_count": 111,
     "metadata": {},
     "output_type": "execute_result"
    }
   ],
   "source": [
    "time.ctime()"
   ]
  },
  {
   "cell_type": "code",
   "execution_count": 112,
   "id": "390f460f-7cc1-4927-8cb8-c80cdfe65525",
   "metadata": {},
   "outputs": [],
   "source": [
    "import os"
   ]
  },
  {
   "cell_type": "code",
   "execution_count": 113,
   "id": "7a653bd3-660d-4019-a3c0-3f2a797546fb",
   "metadata": {},
   "outputs": [
    {
     "data": {
      "text/plain": [
       "'C:\\\\Users\\\\finaz\\\\Python_files'"
      ]
     },
     "execution_count": 113,
     "metadata": {},
     "output_type": "execute_result"
    }
   ],
   "source": [
    "os.getcwd()"
   ]
  },
  {
   "cell_type": "code",
   "execution_count": 114,
   "id": "862a603c-64e7-4018-9cac-9bbfed9b435e",
   "metadata": {},
   "outputs": [
    {
     "data": {
      "text/plain": [
       "['.ipynb_checkpoints',\n",
       " 'concrete_data.csv',\n",
       " 'Python_Campusx.ipynb',\n",
       " 'Statistics_.ipynb',\n",
       " 'train.csv']"
      ]
     },
     "execution_count": 114,
     "metadata": {},
     "output_type": "execute_result"
    }
   ],
   "source": [
    "os.listdir()"
   ]
  },
  {
   "cell_type": "markdown",
   "id": "ff142b88-5efa-4467-bf52-3eaf775914c9",
   "metadata": {},
   "source": [
    "# Strings"
   ]
  },
  {
   "cell_type": "markdown",
   "id": "e96c0b5a-ad8a-491a-baa3-d35faf73e932",
   "metadata": {},
   "source": [
    "Strings are sequence of Characters\n",
    "\n",
    "In Python specifically, strings are a sequence of Unicode Characters\n",
    "\n",
    "* Creating Strings\n",
    "* Accessing Strings\n",
    "* Adding Chars to Strings\n",
    "* Editing Strings\n",
    "* Deleting Strings\n",
    "* Operations on Strings\n",
    "* String Functions"
   ]
  },
  {
   "cell_type": "code",
   "execution_count": 115,
   "id": "caf46376-0187-4a11-905f-dfe34752da84",
   "metadata": {},
   "outputs": [
    {
     "name": "stdout",
     "output_type": "stream",
     "text": [
      "Hello\n",
      "Hello\n",
      "Hello\n",
      "Hello\n"
     ]
    }
   ],
   "source": [
    "# Creating str\n",
    "c = 'Hello'\n",
    "print(c)\n",
    "d = \"Hello\"\n",
    "print(d)\n",
    "e = '''Hello''' # Multiline string\n",
    "print(e)\n",
    "f = \"\"\"Hello\"\"\"\n",
    "print(f)"
   ]
  },
  {
   "cell_type": "code",
   "execution_count": 116,
   "id": "c1d60bff-5138-4ba3-97ff-c8ea980c75bb",
   "metadata": {},
   "outputs": [
    {
     "name": "stdout",
     "output_type": "stream",
     "text": [
      "Hello\n"
     ]
    }
   ],
   "source": [
    "# Accessing substrings from a string\n",
    "# Concept of indexing. two types of indexing * Positive ind * Negative ind\n",
    "c = 'Hello'\n",
    "print(c)"
   ]
  },
  {
   "cell_type": "code",
   "execution_count": 117,
   "id": "281d2b85-39d9-4851-81b0-3c30910540ad",
   "metadata": {},
   "outputs": [
    {
     "data": {
      "text/plain": [
       "'l'"
      ]
     },
     "execution_count": 117,
     "metadata": {},
     "output_type": "execute_result"
    }
   ],
   "source": [
    "c[2]"
   ]
  },
  {
   "cell_type": "code",
   "execution_count": 120,
   "id": "0e163d53-7669-46b5-979b-a13b66f21916",
   "metadata": {},
   "outputs": [
    {
     "data": {
      "text/plain": [
       "'e'"
      ]
     },
     "execution_count": 120,
     "metadata": {},
     "output_type": "execute_result"
    }
   ],
   "source": [
    "c[-4]"
   ]
  },
  {
   "cell_type": "code",
   "execution_count": 121,
   "id": "cefe5864-b0d8-4050-bb5a-986b813ca79a",
   "metadata": {},
   "outputs": [
    {
     "name": "stdout",
     "output_type": "stream",
     "text": [
      "Hello World\n"
     ]
    }
   ],
   "source": [
    "c = 'Hello World'\n",
    "print(c)"
   ]
  },
  {
   "cell_type": "code",
   "execution_count": 122,
   "id": "2dc1f853-6f3d-4a3d-9e46-dda84447d6c5",
   "metadata": {},
   "outputs": [
    {
     "data": {
      "text/plain": [
       "'Hello'"
      ]
     },
     "execution_count": 122,
     "metadata": {},
     "output_type": "execute_result"
    }
   ],
   "source": [
    "c[0:5]"
   ]
  },
  {
   "cell_type": "code",
   "execution_count": 123,
   "id": "27c20574-d1d6-407a-ade7-bd49ccf4aec6",
   "metadata": {},
   "outputs": [
    {
     "data": {
      "text/plain": [
       "'ello W'"
      ]
     },
     "execution_count": 123,
     "metadata": {},
     "output_type": "execute_result"
    }
   ],
   "source": [
    "c[1:7]"
   ]
  },
  {
   "cell_type": "code",
   "execution_count": 126,
   "id": "23433149-c7fb-47a1-a3ee-6ccf8d83b0cb",
   "metadata": {},
   "outputs": [
    {
     "data": {
      "text/plain": [
       "'Hello Worl'"
      ]
     },
     "execution_count": 126,
     "metadata": {},
     "output_type": "execute_result"
    }
   ],
   "source": [
    "c[:-1]"
   ]
  },
  {
   "cell_type": "code",
   "execution_count": 127,
   "id": "d71d8c5d-48be-47b9-aa21-c1bedbf6901b",
   "metadata": {},
   "outputs": [
    {
     "data": {
      "text/plain": [
       "'Hello World'"
      ]
     },
     "execution_count": 127,
     "metadata": {},
     "output_type": "execute_result"
    }
   ],
   "source": [
    "c[:]"
   ]
  },
  {
   "cell_type": "code",
   "execution_count": 129,
   "id": "357c9782-c399-4854-b93b-55c55f64b134",
   "metadata": {},
   "outputs": [
    {
     "data": {
      "text/plain": [
       "'dlroW olleH'"
      ]
     },
     "execution_count": 129,
     "metadata": {},
     "output_type": "execute_result"
    }
   ],
   "source": [
    "c[::-1]"
   ]
  },
  {
   "cell_type": "code",
   "execution_count": 133,
   "id": "80801bf3-796c-4a54-9672-99c6ee5727fb",
   "metadata": {},
   "outputs": [
    {
     "data": {
      "text/plain": [
       "'Hello World'"
      ]
     },
     "execution_count": 133,
     "metadata": {},
     "output_type": "execute_result"
    }
   ],
   "source": [
    "c[0:11:1]"
   ]
  },
  {
   "cell_type": "code",
   "execution_count": 134,
   "id": "75e0f07a-45c8-4d39-93ac-ebfb45252e43",
   "metadata": {},
   "outputs": [
    {
     "data": {
      "text/plain": [
       "'HloWrd'"
      ]
     },
     "execution_count": 134,
     "metadata": {},
     "output_type": "execute_result"
    }
   ],
   "source": [
    "c[0:11:2]"
   ]
  },
  {
   "cell_type": "code",
   "execution_count": 135,
   "id": "e35d30dd-e3ac-4ff8-bf7e-489b2bc52b43",
   "metadata": {},
   "outputs": [
    {
     "data": {
      "text/plain": [
       "'HlWl'"
      ]
     },
     "execution_count": 135,
     "metadata": {},
     "output_type": "execute_result"
    }
   ],
   "source": [
    "c[0:11:3]"
   ]
  },
  {
   "cell_type": "code",
   "execution_count": 136,
   "id": "cc9c56cf-3434-4f42-a6f0-d4990e54f6e7",
   "metadata": {},
   "outputs": [
    {
     "data": {
      "text/plain": [
       "'Hello World'"
      ]
     },
     "execution_count": 136,
     "metadata": {},
     "output_type": "execute_result"
    }
   ],
   "source": [
    "c"
   ]
  },
  {
   "cell_type": "code",
   "execution_count": 139,
   "id": "72685d74-0f75-4281-b2e8-f66b187f00a3",
   "metadata": {},
   "outputs": [
    {
     "data": {
      "text/plain": [
       "'llo W'"
      ]
     },
     "execution_count": 139,
     "metadata": {},
     "output_type": "execute_result"
    }
   ],
   "source": [
    "c[2:7:1]"
   ]
  },
  {
   "cell_type": "code",
   "execution_count": 140,
   "id": "a8b233e5-6223-4387-b047-c613dfbb0a4c",
   "metadata": {},
   "outputs": [
    {
     "name": "stdout",
     "output_type": "stream",
     "text": [
      "dlro\n"
     ]
    }
   ],
   "source": [
    "print(c[-1:-5:-1])"
   ]
  },
  {
   "cell_type": "code",
   "execution_count": 141,
   "id": "ad8870a3-79e9-42cc-bfcb-841cc951bb88",
   "metadata": {},
   "outputs": [
    {
     "name": "stdout",
     "output_type": "stream",
     "text": [
      "Hello\n"
     ]
    }
   ],
   "source": [
    "# Editing & deleting in strings\n",
    "c = \"Hello\"\n",
    "print(c)"
   ]
  },
  {
   "cell_type": "code",
   "execution_count": 142,
   "id": "1b8d8bf2-ffcb-44f7-ae16-e39dbca6030c",
   "metadata": {},
   "outputs": [
    {
     "ename": "TypeError",
     "evalue": "'str' object does not support item assignment",
     "output_type": "error",
     "traceback": [
      "\u001b[1;31m---------------------------------------------------------------------------\u001b[0m",
      "\u001b[1;31mTypeError\u001b[0m                                 Traceback (most recent call last)",
      "Cell \u001b[1;32mIn[142], line 1\u001b[0m\n\u001b[1;32m----> 1\u001b[0m \u001b[43mc\u001b[49m\u001b[43m[\u001b[49m\u001b[38;5;241;43m0\u001b[39;49m\u001b[43m]\u001b[49m\u001b[38;5;241m=\u001b[39m\u001b[38;5;124m'\u001b[39m\u001b[38;5;124mX\u001b[39m\u001b[38;5;124m'\u001b[39m\n",
      "\u001b[1;31mTypeError\u001b[0m: 'str' object does not support item assignment"
     ]
    }
   ],
   "source": [
    "c[0]='X'"
   ]
  },
  {
   "cell_type": "code",
   "execution_count": 143,
   "id": "f7a02062-2530-47d5-bcae-76e521eaf54e",
   "metadata": {},
   "outputs": [],
   "source": [
    "# strings are immutable datatype"
   ]
  },
  {
   "cell_type": "code",
   "execution_count": 144,
   "id": "1f38c3fe-e89e-4276-aabc-dec135742196",
   "metadata": {},
   "outputs": [
    {
     "name": "stdout",
     "output_type": "stream",
     "text": [
      "Hello\n"
     ]
    }
   ],
   "source": [
    "c = \"Hello\"\n",
    "print(c)"
   ]
  },
  {
   "cell_type": "code",
   "execution_count": 145,
   "id": "f6d70662-9ab7-4a15-8e1c-49050b7cf11b",
   "metadata": {},
   "outputs": [],
   "source": [
    "del c"
   ]
  },
  {
   "cell_type": "code",
   "execution_count": 146,
   "id": "d1a25c80-8f4d-44be-9959-85c719d95604",
   "metadata": {},
   "outputs": [
    {
     "ename": "NameError",
     "evalue": "name 'c' is not defined",
     "output_type": "error",
     "traceback": [
      "\u001b[1;31m---------------------------------------------------------------------------\u001b[0m",
      "\u001b[1;31mNameError\u001b[0m                                 Traceback (most recent call last)",
      "Cell \u001b[1;32mIn[146], line 1\u001b[0m\n\u001b[1;32m----> 1\u001b[0m \u001b[38;5;28mprint\u001b[39m(\u001b[43mc\u001b[49m)\n",
      "\u001b[1;31mNameError\u001b[0m: name 'c' is not defined"
     ]
    }
   ],
   "source": [
    "print(c)"
   ]
  },
  {
   "cell_type": "code",
   "execution_count": 147,
   "id": "1bad8936-e6ec-4d28-9e98-6fd68f76bc2b",
   "metadata": {},
   "outputs": [
    {
     "name": "stdout",
     "output_type": "stream",
     "text": [
      "Hello\n"
     ]
    }
   ],
   "source": [
    "c = \"Hello\"\n",
    "print(c)"
   ]
  },
  {
   "cell_type": "code",
   "execution_count": 148,
   "id": "acc8525b-f3bd-40fe-9387-7c43cefbde8f",
   "metadata": {},
   "outputs": [
    {
     "ename": "TypeError",
     "evalue": "'str' object doesn't support item deletion",
     "output_type": "error",
     "traceback": [
      "\u001b[1;31m---------------------------------------------------------------------------\u001b[0m",
      "\u001b[1;31mTypeError\u001b[0m                                 Traceback (most recent call last)",
      "Cell \u001b[1;32mIn[148], line 1\u001b[0m\n\u001b[1;32m----> 1\u001b[0m \u001b[38;5;28;01mdel\u001b[39;00m \u001b[43mc\u001b[49m\u001b[43m[\u001b[49m\u001b[38;5;241;43m3\u001b[39;49m\u001b[43m]\u001b[49m\n",
      "\u001b[1;31mTypeError\u001b[0m: 'str' object doesn't support item deletion"
     ]
    }
   ],
   "source": [
    "del c[3]"
   ]
  },
  {
   "cell_type": "markdown",
   "id": "c82df837-a533-4ca4-a35b-13eaa31587a7",
   "metadata": {},
   "source": [
    "# Operations on strings"
   ]
  },
  {
   "cell_type": "markdown",
   "id": "628ffa5a-d617-4f57-b9d6-6a988f505be5",
   "metadata": {},
   "source": [
    "* Arithmetic Operations\n",
    "* Relational Operations\n",
    "* Logical Operations\n",
    "* Loops on Strings\n",
    "* Membership Operations"
   ]
  },
  {
   "cell_type": "code",
   "execution_count": 149,
   "id": "c3dbd274-8612-4be8-8308-ae89e13e36c4",
   "metadata": {},
   "outputs": [
    {
     "data": {
      "text/plain": [
       "'Finaz Nadaf'"
      ]
     },
     "execution_count": 149,
     "metadata": {},
     "output_type": "execute_result"
    }
   ],
   "source": [
    "# Concatinate twi strings\n",
    "'Finaz'+' '+'Nadaf'"
   ]
  },
  {
   "cell_type": "code",
   "execution_count": 152,
   "id": "1b43f8a6-8290-4c94-b2d2-28021cc1e601",
   "metadata": {},
   "outputs": [
    {
     "name": "stdout",
     "output_type": "stream",
     "text": [
      "**************************************************\n"
     ]
    }
   ],
   "source": [
    "print('*'*50)"
   ]
  },
  {
   "cell_type": "code",
   "execution_count": 154,
   "id": "66f2641c-04ce-472a-a01d-7a28b802d4be",
   "metadata": {},
   "outputs": [
    {
     "name": "stdout",
     "output_type": "stream",
     "text": [
      " Finaz  Finaz  Finaz  Finaz  Finaz  Finaz  Finaz  Finaz  Finaz  Finaz \n"
     ]
    }
   ],
   "source": [
    "print(' Finaz '*10)"
   ]
  },
  {
   "cell_type": "code",
   "execution_count": 155,
   "id": "1acef331-6665-4392-8730-8444a9da394d",
   "metadata": {},
   "outputs": [
    {
     "data": {
      "text/plain": [
       "False"
      ]
     },
     "execution_count": 155,
     "metadata": {},
     "output_type": "execute_result"
    }
   ],
   "source": [
    "\"Hello\" == \"World\""
   ]
  },
  {
   "cell_type": "code",
   "execution_count": 156,
   "id": "72f84502-1c61-4d3f-a9a7-4c25f3dabd95",
   "metadata": {},
   "outputs": [
    {
     "data": {
      "text/plain": [
       "True"
      ]
     },
     "execution_count": 156,
     "metadata": {},
     "output_type": "execute_result"
    }
   ],
   "source": [
    "\"Hello\" != \"World\""
   ]
  },
  {
   "cell_type": "code",
   "execution_count": 157,
   "id": "25657bbe-9b41-48f2-85aa-f56600e0f788",
   "metadata": {},
   "outputs": [
    {
     "data": {
      "text/plain": [
       "False"
      ]
     },
     "execution_count": 157,
     "metadata": {},
     "output_type": "execute_result"
    }
   ],
   "source": [
    "\"Hello\" > \"World\"\n",
    "# Lexiographically"
   ]
  },
  {
   "cell_type": "code",
   "execution_count": 158,
   "id": "0d5e8b30-e2f0-4939-900a-ab30d82a4ebe",
   "metadata": {},
   "outputs": [
    {
     "data": {
      "text/plain": [
       "True"
      ]
     },
     "execution_count": 158,
     "metadata": {},
     "output_type": "execute_result"
    }
   ],
   "source": [
    "'karnataka' > 'goa'"
   ]
  },
  {
   "cell_type": "code",
   "execution_count": 159,
   "id": "bfc6ac3b-7b3e-4c65-b286-931409b71001",
   "metadata": {},
   "outputs": [
    {
     "data": {
      "text/plain": [
       "'World'"
      ]
     },
     "execution_count": 159,
     "metadata": {},
     "output_type": "execute_result"
    }
   ],
   "source": [
    "\"Hello\" and \"World\""
   ]
  },
  {
   "cell_type": "code",
   "execution_count": 160,
   "id": "4fcf128f-932b-4668-b51f-20249acd4c9f",
   "metadata": {},
   "outputs": [
    {
     "data": {
      "text/plain": [
       "'Hello'"
      ]
     },
     "execution_count": 160,
     "metadata": {},
     "output_type": "execute_result"
    }
   ],
   "source": [
    "\"Hello\" or \"World\""
   ]
  },
  {
   "cell_type": "code",
   "execution_count": 162,
   "id": "2b3546c8-14d1-4ec0-b721-9244d1598e79",
   "metadata": {},
   "outputs": [],
   "source": [
    "# ''-> False\n",
    "# 'string'->True"
   ]
  },
  {
   "cell_type": "code",
   "execution_count": 164,
   "id": "fb4908fd-86ce-4b94-a736-3520e96ef507",
   "metadata": {},
   "outputs": [
    {
     "data": {
      "text/plain": [
       "''"
      ]
     },
     "execution_count": 164,
     "metadata": {},
     "output_type": "execute_result"
    }
   ],
   "source": [
    "\"\" and \"Hello\""
   ]
  },
  {
   "cell_type": "code",
   "execution_count": 165,
   "id": "f88da87d-9646-4486-8f39-0fe4c590226a",
   "metadata": {},
   "outputs": [
    {
     "data": {
      "text/plain": [
       "''"
      ]
     },
     "execution_count": 165,
     "metadata": {},
     "output_type": "execute_result"
    }
   ],
   "source": [
    "\"Hello\" and \"\""
   ]
  },
  {
   "cell_type": "code",
   "execution_count": 166,
   "id": "b0784609-a1fd-4f70-837b-033ee65812c0",
   "metadata": {},
   "outputs": [
    {
     "data": {
      "text/plain": [
       "'world'"
      ]
     },
     "execution_count": 166,
     "metadata": {},
     "output_type": "execute_result"
    }
   ],
   "source": [
    "\"\" or \"world\""
   ]
  },
  {
   "cell_type": "code",
   "execution_count": 167,
   "id": "d2ff21a2-0cb0-4f44-9a81-35c2685a1bc9",
   "metadata": {},
   "outputs": [
    {
     "data": {
      "text/plain": [
       "False"
      ]
     },
     "execution_count": 167,
     "metadata": {},
     "output_type": "execute_result"
    }
   ],
   "source": [
    "not \"hello\""
   ]
  },
  {
   "cell_type": "code",
   "execution_count": 168,
   "id": "9407fefa-9d85-4f8a-9d9a-50888b5a3265",
   "metadata": {},
   "outputs": [
    {
     "data": {
      "text/plain": [
       "'Hello'"
      ]
     },
     "execution_count": 168,
     "metadata": {},
     "output_type": "execute_result"
    }
   ],
   "source": [
    "c"
   ]
  },
  {
   "cell_type": "code",
   "execution_count": 169,
   "id": "0b044e89-4f0d-46cb-a3d4-928d9806ef4d",
   "metadata": {},
   "outputs": [
    {
     "data": {
      "text/plain": [
       "True"
      ]
     },
     "execution_count": 169,
     "metadata": {},
     "output_type": "execute_result"
    }
   ],
   "source": [
    "not ''"
   ]
  },
  {
   "cell_type": "code",
   "execution_count": 172,
   "id": "893a4587-c947-49eb-89a4-0b8bf361b4d2",
   "metadata": {},
   "outputs": [
    {
     "name": "stdout",
     "output_type": "stream",
     "text": [
      "H\n",
      "e\n",
      "l\n",
      "l\n",
      "o\n",
      " \n",
      "W\n",
      "o\n",
      "r\n",
      "l\n",
      "d\n"
     ]
    }
   ],
   "source": [
    "c = 'Hello World'\n",
    "for i in c:\n",
    "    print(i)"
   ]
  },
  {
   "cell_type": "code",
   "execution_count": 173,
   "id": "1d0e7e59-78b8-4706-b9ff-dea59a1c39ec",
   "metadata": {},
   "outputs": [
    {
     "name": "stdout",
     "output_type": "stream",
     "text": [
      "e\n",
      "l\n",
      " \n",
      "o\n"
     ]
    }
   ],
   "source": [
    "c = 'Hello World'\n",
    "for i in c[1:8:2]:\n",
    "    print(i)"
   ]
  },
  {
   "cell_type": "code",
   "execution_count": 174,
   "id": "437ca1d1-fd42-41e8-b4f5-a5cd288ccdea",
   "metadata": {},
   "outputs": [
    {
     "name": "stdout",
     "output_type": "stream",
     "text": [
      "d\n",
      "l\n",
      "r\n",
      "o\n",
      "W\n",
      " \n",
      "o\n",
      "l\n",
      "l\n",
      "e\n",
      "H\n"
     ]
    }
   ],
   "source": [
    "c = 'Hello World'\n",
    "for i in c[::-1]:\n",
    "    print(i)"
   ]
  },
  {
   "cell_type": "code",
   "execution_count": 175,
   "id": "fdc9ba56-d466-42d5-a086-9cfb870ba157",
   "metadata": {},
   "outputs": [
    {
     "data": {
      "text/plain": [
       "'Hello World'"
      ]
     },
     "execution_count": 175,
     "metadata": {},
     "output_type": "execute_result"
    }
   ],
   "source": [
    "c"
   ]
  },
  {
   "cell_type": "code",
   "execution_count": 176,
   "id": "455c297e-22f4-4825-a8ba-126fc3c53365",
   "metadata": {},
   "outputs": [
    {
     "data": {
      "text/plain": [
       "True"
      ]
     },
     "execution_count": 176,
     "metadata": {},
     "output_type": "execute_result"
    }
   ],
   "source": [
    "'H' in c"
   ]
  },
  {
   "cell_type": "code",
   "execution_count": 177,
   "id": "be7ba519-abb4-4fcc-8f2f-5224113d51d1",
   "metadata": {},
   "outputs": [
    {
     "data": {
      "text/plain": [
       "False"
      ]
     },
     "execution_count": 177,
     "metadata": {},
     "output_type": "execute_result"
    }
   ],
   "source": [
    "'h' in c"
   ]
  },
  {
   "cell_type": "code",
   "execution_count": 178,
   "id": "c96a2cd1-c7db-4c7b-8bf4-9281ca6d133d",
   "metadata": {},
   "outputs": [
    {
     "data": {
      "text/plain": [
       "False"
      ]
     },
     "execution_count": 178,
     "metadata": {},
     "output_type": "execute_result"
    }
   ],
   "source": [
    "'Hello' not in c"
   ]
  },
  {
   "cell_type": "code",
   "execution_count": 180,
   "id": "2eac8df3-5249-40ea-a24f-2b26387baa2a",
   "metadata": {},
   "outputs": [
    {
     "data": {
      "text/plain": [
       "True"
      ]
     },
     "execution_count": 180,
     "metadata": {},
     "output_type": "execute_result"
    }
   ],
   "source": [
    "'uhg' not in c"
   ]
  },
  {
   "cell_type": "markdown",
   "id": "4b3e4e1e-3421-4e30-b6e2-fe3350917945",
   "metadata": {},
   "source": [
    "Common Functions\n",
    "* len\n",
    "* max\n",
    "* min\n",
    "* sorted"
   ]
  },
  {
   "cell_type": "code",
   "execution_count": 186,
   "id": "5c66c1e2-2274-489f-ba36-766406875db8",
   "metadata": {},
   "outputs": [
    {
     "data": {
      "text/plain": [
       "10"
      ]
     },
     "execution_count": 186,
     "metadata": {},
     "output_type": "execute_result"
    }
   ],
   "source": [
    "c = 'finaznadaf'\n",
    "len(c)"
   ]
  },
  {
   "cell_type": "code",
   "execution_count": 187,
   "id": "4f1d61f0-36b0-4b24-91f6-cc890fde87b8",
   "metadata": {},
   "outputs": [
    {
     "data": {
      "text/plain": [
       "'a'"
      ]
     },
     "execution_count": 187,
     "metadata": {},
     "output_type": "execute_result"
    }
   ],
   "source": [
    "min(c)"
   ]
  },
  {
   "cell_type": "code",
   "execution_count": 188,
   "id": "06b8f6da-ac61-4f57-8045-26118ebf306f",
   "metadata": {},
   "outputs": [
    {
     "data": {
      "text/plain": [
       "'z'"
      ]
     },
     "execution_count": 188,
     "metadata": {},
     "output_type": "execute_result"
    }
   ],
   "source": [
    "max(c)"
   ]
  },
  {
   "cell_type": "code",
   "execution_count": 189,
   "id": "772cc1c7-9d20-4c7e-b634-296910469f95",
   "metadata": {},
   "outputs": [
    {
     "data": {
      "text/plain": [
       "['a', 'a', 'a', 'd', 'f', 'f', 'i', 'n', 'n', 'z']"
      ]
     },
     "execution_count": 189,
     "metadata": {},
     "output_type": "execute_result"
    }
   ],
   "source": [
    "sorted(c)"
   ]
  },
  {
   "cell_type": "code",
   "execution_count": 190,
   "id": "b54249cb-4c15-4890-bf6b-953e2dc53ccc",
   "metadata": {},
   "outputs": [
    {
     "data": {
      "text/plain": [
       "['z', 'n', 'n', 'i', 'f', 'f', 'd', 'a', 'a', 'a']"
      ]
     },
     "execution_count": 190,
     "metadata": {},
     "output_type": "execute_result"
    }
   ],
   "source": [
    "sorted(c, reverse=True)"
   ]
  },
  {
   "cell_type": "markdown",
   "id": "bc38b5f7-27a3-48b3-99b1-6801a1f622e2",
   "metadata": {},
   "source": [
    "## 1. Capitalize/Title/Upper/Lower/Swapcase"
   ]
  },
  {
   "cell_type": "code",
   "execution_count": 191,
   "id": "88fd546c-c43c-4782-af17-2293cc3ae3ff",
   "metadata": {},
   "outputs": [
    {
     "data": {
      "text/plain": [
       "'Finaz nadaf'"
      ]
     },
     "execution_count": 191,
     "metadata": {},
     "output_type": "execute_result"
    }
   ],
   "source": [
    "# Capitalize : It will capitalize first charectors of the word.\n",
    "'finaz nadaf'.capitalize()"
   ]
  },
  {
   "cell_type": "code",
   "execution_count": 192,
   "id": "6e970a60-1170-4396-bbbc-1a2683dd1271",
   "metadata": {},
   "outputs": [
    {
     "data": {
      "text/plain": [
       "'Finaz Nadaf'"
      ]
     },
     "execution_count": 192,
     "metadata": {},
     "output_type": "execute_result"
    }
   ],
   "source": [
    "# Title : It will capitalize every word.\n",
    "'finaz nadaf'.title()"
   ]
  },
  {
   "cell_type": "code",
   "execution_count": 193,
   "id": "1b88bdc2-31e9-4b87-8dba-da10899a2330",
   "metadata": {},
   "outputs": [
    {
     "data": {
      "text/plain": [
       "'FINAZ NADAF'"
      ]
     },
     "execution_count": 193,
     "metadata": {},
     "output_type": "execute_result"
    }
   ],
   "source": [
    "'finaz nadaf'.upper()"
   ]
  },
  {
   "cell_type": "code",
   "execution_count": 194,
   "id": "dce75341-92ad-4884-a904-e677706037b7",
   "metadata": {},
   "outputs": [
    {
     "data": {
      "text/plain": [
       "'finaz nadaf'"
      ]
     },
     "execution_count": 194,
     "metadata": {},
     "output_type": "execute_result"
    }
   ],
   "source": [
    "'Finaz Nadaf'.lower()"
   ]
  },
  {
   "cell_type": "code",
   "execution_count": 195,
   "id": "867a0bcb-e419-40a6-b013-fbed49c300eb",
   "metadata": {},
   "outputs": [
    {
     "data": {
      "text/plain": [
       "'fInAz NaDaF'"
      ]
     },
     "execution_count": 195,
     "metadata": {},
     "output_type": "execute_result"
    }
   ],
   "source": [
    "'FiNaZ nAdAf'.swapcase()"
   ]
  },
  {
   "cell_type": "markdown",
   "id": "9e591264-c81a-462e-900d-4187f21dd306",
   "metadata": {},
   "source": [
    "## 2. Count"
   ]
  },
  {
   "cell_type": "code",
   "execution_count": 197,
   "id": "a7c8907e-9cda-462a-946a-b6b9cedd0853",
   "metadata": {},
   "outputs": [
    {
     "data": {
      "text/plain": [
       "1"
      ]
     },
     "execution_count": 197,
     "metadata": {},
     "output_type": "execute_result"
    }
   ],
   "source": [
    "'it is raining'.count('t')"
   ]
  },
  {
   "cell_type": "code",
   "execution_count": 198,
   "id": "aab95d30-a252-4af6-ac65-b4948da4e442",
   "metadata": {},
   "outputs": [
    {
     "data": {
      "text/plain": [
       "0"
      ]
     },
     "execution_count": 198,
     "metadata": {},
     "output_type": "execute_result"
    }
   ],
   "source": [
    "'it is raining'.count('x')"
   ]
  },
  {
   "cell_type": "markdown",
   "id": "9b2ebe5c-22eb-40c2-a44c-587ab5d468a9",
   "metadata": {},
   "source": [
    "## 3. Find/Index"
   ]
  },
  {
   "cell_type": "code",
   "execution_count": 199,
   "id": "f072a07e-4dea-4036-b2d7-96c887366702",
   "metadata": {},
   "outputs": [
    {
     "data": {
      "text/plain": [
       "1"
      ]
     },
     "execution_count": 199,
     "metadata": {},
     "output_type": "execute_result"
    }
   ],
   "source": [
    "'it is raining'.find('t')"
   ]
  },
  {
   "cell_type": "code",
   "execution_count": 200,
   "id": "2ae9ee71-971d-4a54-83cc-d03ee369ff17",
   "metadata": {},
   "outputs": [
    {
     "data": {
      "text/plain": [
       "-1"
      ]
     },
     "execution_count": 200,
     "metadata": {},
     "output_type": "execute_result"
    }
   ],
   "source": [
    "'it is raining'.find('x')"
   ]
  },
  {
   "cell_type": "markdown",
   "id": "7ecae2c6-c7e3-46af-b08b-5e4c2c43449a",
   "metadata": {},
   "source": [
    "## 4. endswith/startswith"
   ]
  },
  {
   "cell_type": "code",
   "execution_count": 203,
   "id": "b8caf35d-512f-47f2-a002-382c25dcb1b5",
   "metadata": {},
   "outputs": [
    {
     "data": {
      "text/plain": [
       "True"
      ]
     },
     "execution_count": 203,
     "metadata": {},
     "output_type": "execute_result"
    }
   ],
   "source": [
    "'it is raining'.endswith('ing')"
   ]
  },
  {
   "cell_type": "code",
   "execution_count": 204,
   "id": "24ede57b-6572-4f1d-8421-a2bf44bcb551",
   "metadata": {},
   "outputs": [
    {
     "data": {
      "text/plain": [
       "False"
      ]
     },
     "execution_count": 204,
     "metadata": {},
     "output_type": "execute_result"
    }
   ],
   "source": [
    "'it is raining'.endswith('t')"
   ]
  },
  {
   "cell_type": "code",
   "execution_count": 205,
   "id": "1aaff2b7-7017-4e86-95db-196c5e22b9bd",
   "metadata": {},
   "outputs": [
    {
     "data": {
      "text/plain": [
       "True"
      ]
     },
     "execution_count": 205,
     "metadata": {},
     "output_type": "execute_result"
    }
   ],
   "source": [
    "'it is raining'.startswith('it')"
   ]
  },
  {
   "cell_type": "code",
   "execution_count": 206,
   "id": "06de0eee-d715-4d17-9f13-0e76ccf535bb",
   "metadata": {},
   "outputs": [
    {
     "data": {
      "text/plain": [
       "False"
      ]
     },
     "execution_count": 206,
     "metadata": {},
     "output_type": "execute_result"
    }
   ],
   "source": [
    "'it is raining'.startswith('t')"
   ]
  },
  {
   "cell_type": "markdown",
   "id": "40d09a41-3569-41ce-8386-f4e4fb11a1bf",
   "metadata": {},
   "source": [
    "## 5. Format"
   ]
  },
  {
   "cell_type": "code",
   "execution_count": 207,
   "id": "0ce28837-e959-4610-a25a-5fce2124d19a",
   "metadata": {},
   "outputs": [
    {
     "data": {
      "text/plain": [
       "'Hello my name is Finaz and I am 24'"
      ]
     },
     "execution_count": 207,
     "metadata": {},
     "output_type": "execute_result"
    }
   ],
   "source": [
    "'Hello my name is {} and I am {}'.format('Finaz',24)"
   ]
  },
  {
   "cell_type": "code",
   "execution_count": 208,
   "id": "afcf4cd7-7a57-4185-a906-b67fa37d09a7",
   "metadata": {},
   "outputs": [
    {
     "data": {
      "text/plain": [
       "'Hello my name is 24 and I am Finaz'"
      ]
     },
     "execution_count": 208,
     "metadata": {},
     "output_type": "execute_result"
    }
   ],
   "source": [
    "\"Hello my name is {1} and I am {0}\".format('Finaz',24)"
   ]
  },
  {
   "cell_type": "markdown",
   "id": "cbd01001-02e8-409a-9127-9f7b31a9e96b",
   "metadata": {},
   "source": [
    "## 6. isalnum/ isalpha/ isdecimal/ isdigit/ isidentifier"
   ]
  },
  {
   "cell_type": "code",
   "execution_count": 209,
   "id": "c9a100c8-6d1f-409a-8d25-85e953dc7938",
   "metadata": {},
   "outputs": [
    {
     "data": {
      "text/plain": [
       "True"
      ]
     },
     "execution_count": 209,
     "metadata": {},
     "output_type": "execute_result"
    }
   ],
   "source": [
    "'GHJO098'.isalnum()"
   ]
  },
  {
   "cell_type": "code",
   "execution_count": 210,
   "id": "3879f25a-1516-4b89-8a3d-297dc1ee2567",
   "metadata": {},
   "outputs": [
    {
     "data": {
      "text/plain": [
       "True"
      ]
     },
     "execution_count": 210,
     "metadata": {},
     "output_type": "execute_result"
    }
   ],
   "source": [
    "'08677'.isalnum()"
   ]
  },
  {
   "cell_type": "code",
   "execution_count": 211,
   "id": "cc1bbd97-63f1-4501-bc1e-9b2d837493b5",
   "metadata": {},
   "outputs": [
    {
     "data": {
      "text/plain": [
       "False"
      ]
     },
     "execution_count": 211,
     "metadata": {},
     "output_type": "execute_result"
    }
   ],
   "source": [
    "'GHJO098*'.isalnum()"
   ]
  },
  {
   "cell_type": "code",
   "execution_count": 212,
   "id": "4d489285-1491-47f3-b1c9-36c888a39858",
   "metadata": {},
   "outputs": [
    {
     "data": {
      "text/plain": [
       "False"
      ]
     },
     "execution_count": 212,
     "metadata": {},
     "output_type": "execute_result"
    }
   ],
   "source": [
    "\"20A\".isdigit()"
   ]
  },
  {
   "cell_type": "code",
   "execution_count": 215,
   "id": "59f1ff81-a7b6-4e65-9ab4-b6391ed085bd",
   "metadata": {},
   "outputs": [
    {
     "data": {
      "text/plain": [
       "True"
      ]
     },
     "execution_count": 215,
     "metadata": {},
     "output_type": "execute_result"
    }
   ],
   "source": [
    "\"hello_world\".isidentifier()"
   ]
  },
  {
   "cell_type": "markdown",
   "id": "4c464dfa-23c9-4b03-8f97-b7045abf31ea",
   "metadata": {},
   "source": [
    "## 7. Split"
   ]
  },
  {
   "cell_type": "code",
   "execution_count": 216,
   "id": "21b7704c-f106-4825-a28b-f34ed846b7b9",
   "metadata": {},
   "outputs": [
    {
     "data": {
      "text/plain": [
       "['who', 'is', 'the', 'pm', 'of', 'india']"
      ]
     },
     "execution_count": 216,
     "metadata": {},
     "output_type": "execute_result"
    }
   ],
   "source": [
    "'who is the pm of india'.split()"
   ]
  },
  {
   "cell_type": "code",
   "execution_count": 223,
   "id": "69fa3a9b-4178-4483-af05-f8f7a7360a3e",
   "metadata": {},
   "outputs": [
    {
     "data": {
      "text/plain": [
       "['who ', 's the pm of ', 'nd', 'a']"
      ]
     },
     "execution_count": 223,
     "metadata": {},
     "output_type": "execute_result"
    }
   ],
   "source": [
    "'who is the pm of india'.split('i')"
   ]
  },
  {
   "cell_type": "code",
   "execution_count": 224,
   "id": "b8c748dc-6548-4ae6-b36b-02fa0d798492",
   "metadata": {},
   "outputs": [
    {
     "data": {
      "text/plain": [
       "['who is the ', ' of india']"
      ]
     },
     "execution_count": 224,
     "metadata": {},
     "output_type": "execute_result"
    }
   ],
   "source": [
    "'who is the pm of india'.split('pm')"
   ]
  },
  {
   "cell_type": "markdown",
   "id": "f3095c7f-8f39-403b-82c5-c54f68c87008",
   "metadata": {},
   "source": [
    "## 8. Join"
   ]
  },
  {
   "cell_type": "code",
   "execution_count": 225,
   "id": "48ae4e93-6475-4258-b9d6-f724a0adc688",
   "metadata": {},
   "outputs": [
    {
     "data": {
      "text/plain": [
       "'who is the pm of india'"
      ]
     },
     "execution_count": 225,
     "metadata": {},
     "output_type": "execute_result"
    }
   ],
   "source": [
    "' '.join(['who', 'is', 'the', 'pm', 'of', 'india'])"
   ]
  },
  {
   "cell_type": "code",
   "execution_count": 227,
   "id": "8bcc6615-a3cc-40e3-a254-b6ba75633d39",
   "metadata": {},
   "outputs": [
    {
     "data": {
      "text/plain": [
       "'who/is/the/pm/of/india'"
      ]
     },
     "execution_count": 227,
     "metadata": {},
     "output_type": "execute_result"
    }
   ],
   "source": [
    "'/'.join(['who', 'is', 'the', 'pm', 'of', 'india'])"
   ]
  },
  {
   "cell_type": "code",
   "execution_count": 228,
   "id": "2bbe32ee-f480-4217-be3b-de30dcb4bb2b",
   "metadata": {},
   "outputs": [
    {
     "data": {
      "text/plain": [
       "'who-is-the-pm-of-india'"
      ]
     },
     "execution_count": 228,
     "metadata": {},
     "output_type": "execute_result"
    }
   ],
   "source": [
    "'-'.join(['who', 'is', 'the', 'pm', 'of', 'india'])"
   ]
  },
  {
   "cell_type": "markdown",
   "id": "9c09e853-6221-46d8-b7bb-4d627d7feb7e",
   "metadata": {},
   "source": [
    "## 9. Replace"
   ]
  },
  {
   "cell_type": "code",
   "execution_count": 230,
   "id": "e30da3fd-84fd-4cb6-a652-24b95ba5ab61",
   "metadata": {},
   "outputs": [
    {
     "data": {
      "text/plain": [
       "'Hi my name is Ayat'"
      ]
     },
     "execution_count": 230,
     "metadata": {},
     "output_type": "execute_result"
    }
   ],
   "source": [
    "'Hi my name is Finaz'.replace('Finaz','Ayat')"
   ]
  },
  {
   "cell_type": "markdown",
   "id": "6ddc9063-3c65-44da-aa05-b8083f96879e",
   "metadata": {},
   "source": [
    "## 10. Strip"
   ]
  },
  {
   "cell_type": "code",
   "execution_count": 231,
   "id": "6dfd6482-ffe7-40d5-aeb9-403b803df824",
   "metadata": {},
   "outputs": [
    {
     "data": {
      "text/plain": [
       "'Finaz'"
      ]
     },
     "execution_count": 231,
     "metadata": {},
     "output_type": "execute_result"
    }
   ],
   "source": [
    "name = '            Finaz               '\n",
    "name.strip()"
   ]
  },
  {
   "cell_type": "markdown",
   "id": "a45f2574-0f16-400d-bb69-a44fe2584baf",
   "metadata": {},
   "source": [
    "# Lists"
   ]
  },
  {
   "cell_type": "markdown",
   "id": "acb463e6-6e0a-438e-9990-fcc1347cacb8",
   "metadata": {},
   "source": [
    "List : Lists are data type where you store multiple data type together"
   ]
  },
  {
   "cell_type": "markdown",
   "id": "d015786a-528f-41a5-bb16-7cdda9bb2f2a",
   "metadata": {},
   "source": [
    "* Array vs List\n",
    "\n",
    "array homogenous - list hetrogenous\n",
    "\n",
    "array stores contenous memory - list does not store contenous memory\n",
    "\n",
    "array much faster - list is not much faster compaire to array\n",
    "\n",
    "array's are not programming friendly - lists are programming friendly"
   ]
  },
  {
   "cell_type": "code",
   "execution_count": 62,
   "id": "81c33cdf-7cf2-4f5a-b0f2-28d138b6185d",
   "metadata": {},
   "outputs": [
    {
     "data": {
      "text/plain": [
       "[]"
      ]
     },
     "execution_count": 62,
     "metadata": {},
     "output_type": "execute_result"
    }
   ],
   "source": [
    "L = []\n",
    "L"
   ]
  },
  {
   "cell_type": "code",
   "execution_count": 63,
   "id": "9dce3f90-0a8d-4013-b4d7-d30e889cee5d",
   "metadata": {},
   "outputs": [
    {
     "data": {
      "text/plain": [
       "[1, 2, 3, 4, 5, 6, 7]"
      ]
     },
     "execution_count": 63,
     "metadata": {},
     "output_type": "execute_result"
    }
   ],
   "source": [
    "L = [1,2,3,4,5,6,7]\n",
    "L"
   ]
  },
  {
   "cell_type": "code",
   "execution_count": 64,
   "id": "4b712055-ab8d-436a-bb8e-ed876a1e2165",
   "metadata": {},
   "outputs": [
    {
     "data": {
      "text/plain": [
       "['Hello', 6, 7, 8, 9, True, 5.6, 7.8, (6+7j)]"
      ]
     },
     "execution_count": 64,
     "metadata": {},
     "output_type": "execute_result"
    }
   ],
   "source": [
    "L2 = ['Hello',6,7,8,9,True,5.6,7.8,6+7j]\n",
    "L2"
   ]
  },
  {
   "cell_type": "code",
   "execution_count": 65,
   "id": "aadfc3ee-243c-4f73-a384-bf7fc3b5ef29",
   "metadata": {},
   "outputs": [
    {
     "data": {
      "text/plain": [
       "[1, 2, 3, [4, 5, 6, 7], 8, 9]"
      ]
     },
     "execution_count": 65,
     "metadata": {},
     "output_type": "execute_result"
    }
   ],
   "source": [
    "# Multi-dim lists\n",
    "# 2D\n",
    "L3 = [1,2,3,[4,5,6,7],8,9]\n",
    "L3"
   ]
  },
  {
   "cell_type": "code",
   "execution_count": 66,
   "id": "4c8751aa-6069-4b74-8811-0c2bda02ee34",
   "metadata": {},
   "outputs": [
    {
     "data": {
      "text/plain": [
       "6"
      ]
     },
     "execution_count": 66,
     "metadata": {},
     "output_type": "execute_result"
    }
   ],
   "source": [
    "L3[-3][-2]"
   ]
  },
  {
   "cell_type": "code",
   "execution_count": 67,
   "id": "d4ea5369-c64f-47bd-8754-63efa4735538",
   "metadata": {},
   "outputs": [
    {
     "data": {
      "text/plain": [
       "6"
      ]
     },
     "execution_count": 67,
     "metadata": {},
     "output_type": "execute_result"
    }
   ],
   "source": [
    "L3[3][2]"
   ]
  },
  {
   "cell_type": "code",
   "execution_count": 68,
   "id": "4315efd6-7562-4a0c-b12c-f862df2ed085",
   "metadata": {},
   "outputs": [
    {
     "data": {
      "text/plain": [
       "[1, 2, 3, 4, [2, 3, 4, 5, [5, 6, 7, 8], 3, 4, 6, 7], 4, 5, 7, 8]"
      ]
     },
     "execution_count": 68,
     "metadata": {},
     "output_type": "execute_result"
    }
   ],
   "source": [
    "#3D\n",
    "L4 = [1,2,3,4,[2,3,4,5,[5,6,7,8],3,4,6,7],4,5,7,8]\n",
    "L4"
   ]
  },
  {
   "cell_type": "code",
   "execution_count": 69,
   "id": "382f233f-9584-449f-af68-63b5f109adb2",
   "metadata": {},
   "outputs": [
    {
     "data": {
      "text/plain": [
       "8"
      ]
     },
     "execution_count": 69,
     "metadata": {},
     "output_type": "execute_result"
    }
   ],
   "source": [
    "L4[4][4][3]"
   ]
  },
  {
   "cell_type": "code",
   "execution_count": 70,
   "id": "745db9a4-4c0b-4740-85a1-9a63582533ef",
   "metadata": {},
   "outputs": [
    {
     "data": {
      "text/plain": [
       "8"
      ]
     },
     "execution_count": 70,
     "metadata": {},
     "output_type": "execute_result"
    }
   ],
   "source": [
    "L4[-5][-5][-1]"
   ]
  },
  {
   "cell_type": "code",
   "execution_count": 71,
   "id": "636654b2-d8c3-4d91-94fb-dc98d40495c7",
   "metadata": {},
   "outputs": [
    {
     "data": {
      "text/plain": [
       "['F', 'i', 'n', 'a', 'z']"
      ]
     },
     "execution_count": 71,
     "metadata": {},
     "output_type": "execute_result"
    }
   ],
   "source": [
    "L5 = list('Finaz')\n",
    "L5"
   ]
  },
  {
   "cell_type": "code",
   "execution_count": 72,
   "id": "420219c1-dbf5-483a-9e2e-ca48d5c9b71d",
   "metadata": {},
   "outputs": [
    {
     "data": {
      "text/plain": [
       "()"
      ]
     },
     "execution_count": 72,
     "metadata": {},
     "output_type": "execute_result"
    }
   ],
   "source": [
    "L6 = ()\n",
    "L6"
   ]
  },
  {
   "cell_type": "code",
   "execution_count": 73,
   "id": "155da580-36a3-4589-a401-9ab74c262885",
   "metadata": {},
   "outputs": [
    {
     "data": {
      "text/plain": [
       "(1, 2, 3, 4)"
      ]
     },
     "execution_count": 73,
     "metadata": {},
     "output_type": "execute_result"
    }
   ],
   "source": [
    "L7 = (1,2,3,4)\n",
    "L7"
   ]
  },
  {
   "cell_type": "code",
   "execution_count": 74,
   "id": "943785ed-7a93-4c6c-a6bd-e49f6909439d",
   "metadata": {},
   "outputs": [
    {
     "data": {
      "text/plain": [
       "[1, 2, 3, 4, 5, 6, 7]"
      ]
     },
     "execution_count": 74,
     "metadata": {},
     "output_type": "execute_result"
    }
   ],
   "source": [
    "L"
   ]
  },
  {
   "cell_type": "code",
   "execution_count": 75,
   "id": "c990c2c5-c794-4a25-9233-c548a65b6653",
   "metadata": {},
   "outputs": [
    {
     "data": {
      "text/plain": [
       "5"
      ]
     },
     "execution_count": 75,
     "metadata": {},
     "output_type": "execute_result"
    }
   ],
   "source": [
    "L[4]"
   ]
  },
  {
   "cell_type": "code",
   "execution_count": 76,
   "id": "ef343cdf-08fd-40f7-8346-288ba96d618e",
   "metadata": {},
   "outputs": [
    {
     "data": {
      "text/plain": [
       "7"
      ]
     },
     "execution_count": 76,
     "metadata": {},
     "output_type": "execute_result"
    }
   ],
   "source": [
    "L[-1]"
   ]
  },
  {
   "cell_type": "code",
   "execution_count": 77,
   "id": "0fd14769-3b22-4523-9f2c-9419232d346b",
   "metadata": {},
   "outputs": [
    {
     "data": {
      "text/plain": [
       "4"
      ]
     },
     "execution_count": 77,
     "metadata": {},
     "output_type": "execute_result"
    }
   ],
   "source": [
    "L[-4]"
   ]
  },
  {
   "cell_type": "code",
   "execution_count": 78,
   "id": "455d78a7-d619-434d-9891-2c1b1c01a065",
   "metadata": {},
   "outputs": [
    {
     "data": {
      "text/plain": [
       "[2, 3, 4, 5, 6]"
      ]
     },
     "execution_count": 78,
     "metadata": {},
     "output_type": "execute_result"
    }
   ],
   "source": [
    "L[1:6]"
   ]
  },
  {
   "cell_type": "code",
   "execution_count": 79,
   "id": "0e8a7278-6b53-44f8-b5e5-b89ba983cf12",
   "metadata": {},
   "outputs": [
    {
     "data": {
      "text/plain": [
       "[1, 3, 5, 7]"
      ]
     },
     "execution_count": 79,
     "metadata": {},
     "output_type": "execute_result"
    }
   ],
   "source": [
    "L[0:9:2]"
   ]
  },
  {
   "cell_type": "code",
   "execution_count": 80,
   "id": "e0346525-fa38-4b65-b489-a63d508b493e",
   "metadata": {},
   "outputs": [
    {
     "data": {
      "text/plain": [
       "[7, 6, 5, 4, 3, 2, 1]"
      ]
     },
     "execution_count": 80,
     "metadata": {},
     "output_type": "execute_result"
    }
   ],
   "source": [
    "L[::-1]"
   ]
  },
  {
   "cell_type": "code",
   "execution_count": 81,
   "id": "cf042f79-2762-4190-8a73-3700a5ecbca8",
   "metadata": {},
   "outputs": [
    {
     "data": {
      "text/plain": [
       "[1, 2, 3, 4, 5, 6, 7]"
      ]
     },
     "execution_count": 81,
     "metadata": {},
     "output_type": "execute_result"
    }
   ],
   "source": [
    "# editting list\n",
    "L"
   ]
  },
  {
   "cell_type": "code",
   "execution_count": 82,
   "id": "8ea9118f-3381-4ee9-a843-1d4f63a24051",
   "metadata": {},
   "outputs": [
    {
     "data": {
      "text/plain": [
       "[100, 2, 3, 4, 5, 6, 7]"
      ]
     },
     "execution_count": 82,
     "metadata": {},
     "output_type": "execute_result"
    }
   ],
   "source": [
    "L[0] = 100 # Lists are mutable\n",
    "L"
   ]
  },
  {
   "cell_type": "code",
   "execution_count": 83,
   "id": "ea6e83d7-3f72-4097-967b-a85c5cff3489",
   "metadata": {},
   "outputs": [
    {
     "data": {
      "text/plain": [
       "[100, 2, 3, 4, 5, 6, 700]"
      ]
     },
     "execution_count": 83,
     "metadata": {},
     "output_type": "execute_result"
    }
   ],
   "source": [
    "L[-1] = 700\n",
    "L"
   ]
  },
  {
   "cell_type": "code",
   "execution_count": 84,
   "id": "f7605426-90e8-4d63-b531-a19401708846",
   "metadata": {},
   "outputs": [
    {
     "data": {
      "text/plain": [
       "[100, 200, 300, 400, 500, 600, 700]"
      ]
     },
     "execution_count": 84,
     "metadata": {},
     "output_type": "execute_result"
    }
   ],
   "source": [
    "# Silicing\n",
    "L[1:6] = [200,300,400,500,600]\n",
    "L"
   ]
  },
  {
   "cell_type": "code",
   "execution_count": 85,
   "id": "7ea5d090-a753-4ebf-8ca8-e3e4a7cdb80c",
   "metadata": {},
   "outputs": [
    {
     "data": {
      "text/plain": [
       "[100, 200, 300, 400, 500, 600, 700, 'Finaz']"
      ]
     },
     "execution_count": 85,
     "metadata": {},
     "output_type": "execute_result"
    }
   ],
   "source": [
    "# Append\n",
    "L.append('Finaz')\n",
    "L"
   ]
  },
  {
   "cell_type": "code",
   "execution_count": 86,
   "id": "b133be60-e393-440a-8493-5fbb76613fa6",
   "metadata": {},
   "outputs": [],
   "source": [
    "L.remove('Finaz')"
   ]
  },
  {
   "cell_type": "code",
   "execution_count": 87,
   "id": "f26423a0-5ea3-4924-ad97-884730e1673c",
   "metadata": {},
   "outputs": [
    {
     "ename": "ValueError",
     "evalue": "list.remove(x): x not in list",
     "output_type": "error",
     "traceback": [
      "\u001b[1;31m---------------------------------------------------------------------------\u001b[0m",
      "\u001b[1;31mValueError\u001b[0m                                Traceback (most recent call last)",
      "Cell \u001b[1;32mIn[87], line 1\u001b[0m\n\u001b[1;32m----> 1\u001b[0m \u001b[43mL\u001b[49m\u001b[38;5;241;43m.\u001b[39;49m\u001b[43mremove\u001b[49m\u001b[43m(\u001b[49m\u001b[38;5;124;43m'\u001b[39;49m\u001b[38;5;124;43mFinaz\u001b[39;49m\u001b[38;5;124;43m'\u001b[39;49m\u001b[43m)\u001b[49m\n",
      "\u001b[1;31mValueError\u001b[0m: list.remove(x): x not in list"
     ]
    }
   ],
   "source": [
    "L.remove('Finaz')"
   ]
  },
  {
   "cell_type": "code",
   "execution_count": 88,
   "id": "823a5781-d2a2-421f-a1e7-abab39a059e6",
   "metadata": {},
   "outputs": [
    {
     "data": {
      "text/plain": [
       "[100, 200, 300, 400, 500, 600, 700]"
      ]
     },
     "execution_count": 88,
     "metadata": {},
     "output_type": "execute_result"
    }
   ],
   "source": [
    "L"
   ]
  },
  {
   "cell_type": "code",
   "execution_count": 89,
   "id": "64156608-97ff-4bd4-ae16-492a61b31e8f",
   "metadata": {},
   "outputs": [
    {
     "data": {
      "text/plain": [
       "[100, 200, 300, 400, 500, 600, 700, [1, 2, 3]]"
      ]
     },
     "execution_count": 89,
     "metadata": {},
     "output_type": "execute_result"
    }
   ],
   "source": [
    "L.append([1,2,3])\n",
    "L"
   ]
  },
  {
   "cell_type": "code",
   "execution_count": 90,
   "id": "2f9f4aa2-eae6-4876-ad21-4723f0a6d273",
   "metadata": {},
   "outputs": [
    {
     "data": {
      "text/plain": [
       "[100, 200, 300, 400, 500, 600, 700, [1, 2, 3], 'F', 'i', 'n', 'a', 'z']"
      ]
     },
     "execution_count": 90,
     "metadata": {},
     "output_type": "execute_result"
    }
   ],
   "source": [
    "# Extend\n",
    "L.extend('Finaz')\n",
    "L"
   ]
  },
  {
   "cell_type": "code",
   "execution_count": 91,
   "id": "0f2bd4d7-5c17-427e-869f-c5574f02e455",
   "metadata": {},
   "outputs": [
    {
     "data": {
      "text/plain": [
       "[100,\n",
       " 200,\n",
       " 300,\n",
       " 400,\n",
       " 500,\n",
       " 600,\n",
       " 700,\n",
       " [1, 2, 3],\n",
       " 'F',\n",
       " 'i',\n",
       " 'n',\n",
       " 'a',\n",
       " 'z',\n",
       " 1,\n",
       " 2,\n",
       " 3,\n",
       " 4,\n",
       " 5]"
      ]
     },
     "execution_count": 91,
     "metadata": {},
     "output_type": "execute_result"
    }
   ],
   "source": [
    "L.extend([1,2,3,4,5])\n",
    "L"
   ]
  },
  {
   "cell_type": "code",
   "execution_count": 92,
   "id": "cca97f30-586a-4fed-b35c-3a3f4dc011a2",
   "metadata": {},
   "outputs": [
    {
     "data": {
      "text/plain": [
       "[100,\n",
       " 200,\n",
       " 'Finaz',\n",
       " 300,\n",
       " 400,\n",
       " 500,\n",
       " 600,\n",
       " 700,\n",
       " [1, 2, 3],\n",
       " 'F',\n",
       " 'i',\n",
       " 'n',\n",
       " 'a',\n",
       " 'z',\n",
       " 1,\n",
       " 2,\n",
       " 3,\n",
       " 4,\n",
       " 5]"
      ]
     },
     "execution_count": 92,
     "metadata": {},
     "output_type": "execute_result"
    }
   ],
   "source": [
    "# Insert\n",
    "L.insert(2,'Finaz')\n",
    "L"
   ]
  },
  {
   "cell_type": "code",
   "execution_count": 93,
   "id": "6eadd2fe-a794-4dba-8930-bb2af6014dd7",
   "metadata": {},
   "outputs": [
    {
     "data": {
      "text/plain": [
       "[100,\n",
       " 200,\n",
       " 'Finaz',\n",
       " 300,\n",
       " [22, 33, 44],\n",
       " 400,\n",
       " 500,\n",
       " 600,\n",
       " 700,\n",
       " [1, 2, 3],\n",
       " 'F',\n",
       " 'i',\n",
       " 'n',\n",
       " 'a',\n",
       " 'z',\n",
       " 1,\n",
       " 2,\n",
       " 3,\n",
       " 4,\n",
       " 5]"
      ]
     },
     "execution_count": 93,
     "metadata": {},
     "output_type": "execute_result"
    }
   ],
   "source": [
    "L.insert(4,[22,33,44])\n",
    "L"
   ]
  },
  {
   "cell_type": "code",
   "execution_count": 101,
   "id": "1bfc77e5-65f1-4c92-8d52-3d3b966897de",
   "metadata": {},
   "outputs": [
    {
     "data": {
      "text/plain": [
       "[1, 2, 3, 4, [2, 3, 4, 5, [5, 6, 7, 8], 3, 4, 6, 7], 4, 5, 7, 8]"
      ]
     },
     "execution_count": 101,
     "metadata": {},
     "output_type": "execute_result"
    }
   ],
   "source": [
    "L4"
   ]
  },
  {
   "cell_type": "code",
   "execution_count": 102,
   "id": "600f4bab-1194-44d3-bac1-cd02fe95f817",
   "metadata": {},
   "outputs": [],
   "source": [
    "# Delete (del)\n",
    "del L4"
   ]
  },
  {
   "cell_type": "code",
   "execution_count": 103,
   "id": "3f31cff4-5f5e-482c-a245-aed7d6d6b4ca",
   "metadata": {},
   "outputs": [
    {
     "ename": "NameError",
     "evalue": "name 'L4' is not defined",
     "output_type": "error",
     "traceback": [
      "\u001b[1;31m---------------------------------------------------------------------------\u001b[0m",
      "\u001b[1;31mNameError\u001b[0m                                 Traceback (most recent call last)",
      "Cell \u001b[1;32mIn[103], line 1\u001b[0m\n\u001b[1;32m----> 1\u001b[0m \u001b[43mL4\u001b[49m\n",
      "\u001b[1;31mNameError\u001b[0m: name 'L4' is not defined"
     ]
    }
   ],
   "source": [
    "L4"
   ]
  },
  {
   "cell_type": "code",
   "execution_count": 104,
   "id": "7b19cc9c-d99e-437c-b6e5-e0c1239e8390",
   "metadata": {},
   "outputs": [
    {
     "data": {
      "text/plain": [
       "[100,\n",
       " 200,\n",
       " 'Finaz',\n",
       " 300,\n",
       " [22, 33, 44],\n",
       " 400,\n",
       " 500,\n",
       " 600,\n",
       " 700,\n",
       " [1, 2, 3],\n",
       " 'F',\n",
       " 'i',\n",
       " 'n',\n",
       " 'a',\n",
       " 'z',\n",
       " 1,\n",
       " 2,\n",
       " 3,\n",
       " 4,\n",
       " 5]"
      ]
     },
     "execution_count": 104,
     "metadata": {},
     "output_type": "execute_result"
    }
   ],
   "source": [
    "L"
   ]
  },
  {
   "cell_type": "code",
   "execution_count": 105,
   "id": "8479c6eb-182e-401a-a15e-58500fdece8c",
   "metadata": {},
   "outputs": [
    {
     "data": {
      "text/plain": [
       "[100,\n",
       " 200,\n",
       " 300,\n",
       " [22, 33, 44],\n",
       " 400,\n",
       " 500,\n",
       " 600,\n",
       " 700,\n",
       " [1, 2, 3],\n",
       " 'F',\n",
       " 'i',\n",
       " 'n',\n",
       " 'a',\n",
       " 'z',\n",
       " 1,\n",
       " 2,\n",
       " 3,\n",
       " 4,\n",
       " 5]"
      ]
     },
     "execution_count": 105,
     "metadata": {},
     "output_type": "execute_result"
    }
   ],
   "source": [
    "# Remove\n",
    "L.remove('Finaz')\n",
    "L"
   ]
  },
  {
   "cell_type": "code",
   "execution_count": 108,
   "id": "0881c30b-cc18-442f-9223-21dacead073c",
   "metadata": {},
   "outputs": [
    {
     "data": {
      "text/plain": [
       "[100,\n",
       " 200,\n",
       " 300,\n",
       " [22, 33, 44],\n",
       " 400,\n",
       " 500,\n",
       " 600,\n",
       " 700,\n",
       " [1, 2, 3],\n",
       " 'F',\n",
       " 'i',\n",
       " 'n',\n",
       " 'a',\n",
       " 'z',\n",
       " 1,\n",
       " 2,\n",
       " 3,\n",
       " 4]"
      ]
     },
     "execution_count": 108,
     "metadata": {},
     "output_type": "execute_result"
    }
   ],
   "source": [
    "# Pop\n",
    "L.pop()\n",
    "L"
   ]
  },
  {
   "cell_type": "code",
   "execution_count": 111,
   "id": "e4acbb08-c382-4461-ac42-9d78ae65e100",
   "metadata": {},
   "outputs": [
    {
     "data": {
      "text/plain": [
       "[]"
      ]
     },
     "execution_count": 111,
     "metadata": {},
     "output_type": "execute_result"
    }
   ],
   "source": [
    "# Clear\n",
    "L.clear()\n",
    "L"
   ]
  },
  {
   "cell_type": "code",
   "execution_count": 112,
   "id": "d9d65e35-8711-4b8d-8d67-5d8aaa23a878",
   "metadata": {},
   "outputs": [
    {
     "data": {
      "text/plain": [
       "[1, 2, 3, 4, 5, 6, 7, 8]"
      ]
     },
     "execution_count": 112,
     "metadata": {},
     "output_type": "execute_result"
    }
   ],
   "source": [
    "# Operations on List\n",
    "l = [1,2,3,4]\n",
    "l2 = [5,6,7,8]\n",
    "l+l2 # Concatenate"
   ]
  },
  {
   "cell_type": "code",
   "execution_count": 113,
   "id": "30e5b457-e040-4ef1-b3a7-511591e0a8e7",
   "metadata": {},
   "outputs": [
    {
     "data": {
      "text/plain": [
       "[1, 2, 3, 4, 1, 2, 3, 4, 1, 2, 3, 4]"
      ]
     },
     "execution_count": 113,
     "metadata": {},
     "output_type": "execute_result"
    }
   ],
   "source": [
    "l* 3"
   ]
  },
  {
   "cell_type": "code",
   "execution_count": 114,
   "id": "b1d471e5-8710-41db-a2b3-29442e1b3bfd",
   "metadata": {},
   "outputs": [
    {
     "name": "stdout",
     "output_type": "stream",
     "text": [
      "1\n",
      "2\n",
      "3\n",
      "4\n"
     ]
    }
   ],
   "source": [
    "for i in l:\n",
    "    print(i)"
   ]
  },
  {
   "cell_type": "code",
   "execution_count": 115,
   "id": "a739cd8c-6a3b-457b-afcb-89c00f75c545",
   "metadata": {},
   "outputs": [
    {
     "name": "stdout",
     "output_type": "stream",
     "text": [
      "1\n",
      "2\n",
      "3\n",
      "[4, 5]\n"
     ]
    }
   ],
   "source": [
    "l3 = [1,2,3,[4,5]]\n",
    "for i in l3:\n",
    "    print(i)"
   ]
  },
  {
   "cell_type": "code",
   "execution_count": 116,
   "id": "f5b54287-4b10-43da-b548-0953fc4bdea1",
   "metadata": {},
   "outputs": [
    {
     "data": {
      "text/plain": [
       "False"
      ]
     },
     "execution_count": 116,
     "metadata": {},
     "output_type": "execute_result"
    }
   ],
   "source": [
    "4 in l3"
   ]
  },
  {
   "cell_type": "code",
   "execution_count": 117,
   "id": "abc08800-5b13-4479-bc3f-d6f2965e26e4",
   "metadata": {},
   "outputs": [
    {
     "data": {
      "text/plain": [
       "True"
      ]
     },
     "execution_count": 117,
     "metadata": {},
     "output_type": "execute_result"
    }
   ],
   "source": [
    "3 in l3"
   ]
  },
  {
   "cell_type": "code",
   "execution_count": 119,
   "id": "b92ccb35-9e99-43be-b16c-3c7551598af3",
   "metadata": {},
   "outputs": [
    {
     "data": {
      "text/plain": [
       "4"
      ]
     },
     "execution_count": 119,
     "metadata": {},
     "output_type": "execute_result"
    }
   ],
   "source": [
    "# Functions in lists\n",
    "len(l)"
   ]
  },
  {
   "cell_type": "code",
   "execution_count": 120,
   "id": "ef04c120-c1c5-4147-bc09-dad315870772",
   "metadata": {},
   "outputs": [
    {
     "data": {
      "text/plain": [
       "1"
      ]
     },
     "execution_count": 120,
     "metadata": {},
     "output_type": "execute_result"
    }
   ],
   "source": [
    "min(l)"
   ]
  },
  {
   "cell_type": "code",
   "execution_count": 121,
   "id": "ac59ae78-9dfd-4316-a130-54f7ad0dfe76",
   "metadata": {},
   "outputs": [
    {
     "data": {
      "text/plain": [
       "4"
      ]
     },
     "execution_count": 121,
     "metadata": {},
     "output_type": "execute_result"
    }
   ],
   "source": [
    "max(l)"
   ]
  },
  {
   "cell_type": "code",
   "execution_count": 122,
   "id": "5455fe77-9958-4e9c-a8b0-c43317e6c36c",
   "metadata": {},
   "outputs": [
    {
     "data": {
      "text/plain": [
       "[1, 2, 3, 4]"
      ]
     },
     "execution_count": 122,
     "metadata": {},
     "output_type": "execute_result"
    }
   ],
   "source": [
    "sorted(l)"
   ]
  },
  {
   "cell_type": "code",
   "execution_count": 123,
   "id": "c559e537-3e91-404d-b2a8-c773e0c14849",
   "metadata": {},
   "outputs": [
    {
     "data": {
      "text/plain": [
       "[4, 3, 2, 1]"
      ]
     },
     "execution_count": 123,
     "metadata": {},
     "output_type": "execute_result"
    }
   ],
   "source": [
    "sorted(l,reverse=True)"
   ]
  },
  {
   "cell_type": "code",
   "execution_count": 126,
   "id": "1462a403-272a-46b2-8821-96a18e9060d8",
   "metadata": {},
   "outputs": [
    {
     "data": {
      "text/plain": [
       "[1, 2, 3, 4]"
      ]
     },
     "execution_count": 126,
     "metadata": {},
     "output_type": "execute_result"
    }
   ],
   "source": [
    "l.sort()\n",
    "l"
   ]
  },
  {
   "cell_type": "code",
   "execution_count": 133,
   "id": "efd9ea36-8c30-432f-ac1b-bd6a9cabf5bd",
   "metadata": {},
   "outputs": [
    {
     "name": "stdout",
     "output_type": "stream",
     "text": [
      "['today', 'has', 'been', 'great', 'for', 'me']\n",
      "Today\n",
      "Has\n",
      "Been\n",
      "Great\n",
      "For\n",
      "Me\n",
      "['Today', 'Has', 'Been', 'Great', 'For', 'Me']\n",
      "Today Has Been Great For Me\n"
     ]
    }
   ],
   "source": [
    "sample = 'today has been great for me'\n",
    "\n",
    "print(sample.split())\n",
    "\n",
    "L = []\n",
    "\n",
    "for i in sample.split():\n",
    "    print(i.capitalize())\n",
    "    L.append(i.capitalize())\n",
    "\n",
    "print(L)\n",
    "print(' '.join(L))\n",
    "    \n",
    "\n"
   ]
  },
  {
   "cell_type": "code",
   "execution_count": 135,
   "id": "68ee0a52-d6f5-483d-bace-fdf0ef0b2a9b",
   "metadata": {},
   "outputs": [
    {
     "name": "stdout",
     "output_type": "stream",
     "text": [
      "finaz\n"
     ]
    }
   ],
   "source": [
    "email = 'finaz@gmail.com'\n",
    "\n",
    "print(email[:email.find('@')])"
   ]
  },
  {
   "cell_type": "code",
   "execution_count": 139,
   "id": "8005d3d8-b579-46a9-8e36-cd74ac4b63f1",
   "metadata": {},
   "outputs": [
    {
     "name": "stdout",
     "output_type": "stream",
     "text": [
      "[1, 2, 3, 4]\n"
     ]
    }
   ],
   "source": [
    "a = [1,1,1,1,2,2,2,2,3,3,3,3,4,4,4,4]\n",
    "b = []\n",
    "for i in a:\n",
    "    if i not in b:\n",
    "        b.append(i)\n",
    "print(b)"
   ]
  },
  {
   "cell_type": "code",
   "execution_count": 140,
   "id": "569fcb23-d054-4a3c-b6cb-c2c202a4b1e6",
   "metadata": {},
   "outputs": [
    {
     "name": "stdout",
     "output_type": "stream",
     "text": [
      "[1, 2, 3]\n"
     ]
    }
   ],
   "source": [
    "a = [1,2,2,3]\n",
    "\n",
    "b = []\n",
    "for i in a:\n",
    "    if i not in b:\n",
    "        b.append(i)\n",
    "print(b)"
   ]
  },
  {
   "cell_type": "markdown",
   "id": "d43eed49-418e-4cd0-b54d-1ed4afa3d215",
   "metadata": {},
   "source": [
    "# Tuples\n",
    "* Tuples are immutables"
   ]
  },
  {
   "cell_type": "code",
   "execution_count": 141,
   "id": "42008a0c-cb3f-432e-a199-be61a4e5fad5",
   "metadata": {},
   "outputs": [
    {
     "data": {
      "text/plain": [
       "()"
      ]
     },
     "execution_count": 141,
     "metadata": {},
     "output_type": "execute_result"
    }
   ],
   "source": [
    "# Create\n",
    "T = ()\n",
    "T"
   ]
  },
  {
   "cell_type": "code",
   "execution_count": 142,
   "id": "409da5f7-3c80-4544-b5aa-8683902ab549",
   "metadata": {},
   "outputs": [
    {
     "data": {
      "text/plain": [
       "(1, 2, 3, 4, 5)"
      ]
     },
     "execution_count": 142,
     "metadata": {},
     "output_type": "execute_result"
    }
   ],
   "source": [
    "T1 = (1,2,3,4,5)\n",
    "T1"
   ]
  },
  {
   "cell_type": "code",
   "execution_count": 143,
   "id": "c46bb086-07da-40ad-aaba-cdf552f5dba8",
   "metadata": {},
   "outputs": [
    {
     "data": {
      "text/plain": [
       "(1, 2, 3, 4, 5, 'Finaz', True, 5.6, 7.8, (2+6j))"
      ]
     },
     "execution_count": 143,
     "metadata": {},
     "output_type": "execute_result"
    }
   ],
   "source": [
    "T2 = (1,2,3,4,5,'Finaz',True,5.6,7.8,2+6j)\n",
    "T2"
   ]
  },
  {
   "cell_type": "code",
   "execution_count": 144,
   "id": "71f2ed3d-d553-4795-b211-d6cf083507bc",
   "metadata": {},
   "outputs": [
    {
     "data": {
      "text/plain": [
       "(1, 2, 3, 4, (3, 4, 5, 6), 7, 8, 9)"
      ]
     },
     "execution_count": 144,
     "metadata": {},
     "output_type": "execute_result"
    }
   ],
   "source": [
    "T3 = (1,2,3,4,(3,4,5,6),7,8,9)\n",
    "T3"
   ]
  },
  {
   "cell_type": "code",
   "execution_count": 146,
   "id": "cc59bbc3-7b19-427d-8b91-4c3953502fe7",
   "metadata": {},
   "outputs": [
    {
     "data": {
      "text/plain": [
       "(1,)"
      ]
     },
     "execution_count": 146,
     "metadata": {},
     "output_type": "execute_result"
    }
   ],
   "source": [
    "T4 = (1,) # for single tuple variable\n",
    "T4"
   ]
  },
  {
   "cell_type": "code",
   "execution_count": 147,
   "id": "622189dd-bcbd-4281-b4e8-df6559f362a7",
   "metadata": {},
   "outputs": [
    {
     "data": {
      "text/plain": [
       "('F', 'i', 'n', 'a', 'z')"
      ]
     },
     "execution_count": 147,
     "metadata": {},
     "output_type": "execute_result"
    }
   ],
   "source": [
    "T5 = tuple('Finaz')\n",
    "T5"
   ]
  },
  {
   "cell_type": "code",
   "execution_count": 149,
   "id": "42e3ee7b-6976-4633-a9e5-49c8fb8dea73",
   "metadata": {},
   "outputs": [
    {
     "data": {
      "text/plain": [
       "(1, 2, 3, 4)"
      ]
     },
     "execution_count": 149,
     "metadata": {},
     "output_type": "execute_result"
    }
   ],
   "source": [
    "T6 = tuple([1,2,3,4])\n",
    "T6"
   ]
  },
  {
   "cell_type": "code",
   "execution_count": 150,
   "id": "76ffe6e2-fe04-4ee3-806d-13ed748cd36d",
   "metadata": {},
   "outputs": [
    {
     "data": {
      "text/plain": [
       "(1, 2, 3, (4, 5, 6, 7), 8, 9)"
      ]
     },
     "execution_count": 150,
     "metadata": {},
     "output_type": "execute_result"
    }
   ],
   "source": [
    "# Access a tuple\n",
    "T7 = (1,2,3,(4,5,6,7),8,9) # same as list only by accessing tuple examples\n",
    "T7"
   ]
  },
  {
   "cell_type": "code",
   "execution_count": 151,
   "id": "2c6a7062-3e55-444e-af40-216355572216",
   "metadata": {},
   "outputs": [
    {
     "ename": "TypeError",
     "evalue": "'tuple' object does not support item assignment",
     "output_type": "error",
     "traceback": [
      "\u001b[1;31m---------------------------------------------------------------------------\u001b[0m",
      "\u001b[1;31mTypeError\u001b[0m                                 Traceback (most recent call last)",
      "Cell \u001b[1;32mIn[151], line 2\u001b[0m\n\u001b[0;32m      1\u001b[0m \u001b[38;5;66;03m# edit\u001b[39;00m\n\u001b[1;32m----> 2\u001b[0m \u001b[43mT7\u001b[49m\u001b[43m[\u001b[49m\u001b[38;5;241;43m1\u001b[39;49m\u001b[43m]\u001b[49m \u001b[38;5;241m=\u001b[39m \u001b[38;5;241m100\u001b[39m\n",
      "\u001b[1;31mTypeError\u001b[0m: 'tuple' object does not support item assignment"
     ]
    }
   ],
   "source": [
    "# edit : 'tuple' object does not support item assignment\n",
    "T7[1] = 100"
   ]
  },
  {
   "cell_type": "code",
   "execution_count": 152,
   "id": "7e27aaf3-3c1a-4c4c-8a81-9e26e5dac0ee",
   "metadata": {},
   "outputs": [],
   "source": [
    "# Adding : tuples are immjutable so that we cannot add to exsisting tuple"
   ]
  },
  {
   "cell_type": "code",
   "execution_count": 153,
   "id": "e1c71362-3dee-4fba-8c76-04280b3872fb",
   "metadata": {},
   "outputs": [
    {
     "data": {
      "text/plain": [
       "(1, 2, 3, 4, 5, 'Finaz', True, 5.6, 7.8, (2+6j))"
      ]
     },
     "execution_count": 153,
     "metadata": {},
     "output_type": "execute_result"
    }
   ],
   "source": [
    "T2"
   ]
  },
  {
   "cell_type": "code",
   "execution_count": 154,
   "id": "866803ab-72a6-432a-afa1-9c77aa34fb3c",
   "metadata": {},
   "outputs": [],
   "source": [
    "del T2"
   ]
  },
  {
   "cell_type": "code",
   "execution_count": 155,
   "id": "a77388dc-5263-4510-9f18-f709b8decfdc",
   "metadata": {},
   "outputs": [
    {
     "ename": "NameError",
     "evalue": "name 'T2' is not defined",
     "output_type": "error",
     "traceback": [
      "\u001b[1;31m---------------------------------------------------------------------------\u001b[0m",
      "\u001b[1;31mNameError\u001b[0m                                 Traceback (most recent call last)",
      "Cell \u001b[1;32mIn[155], line 1\u001b[0m\n\u001b[1;32m----> 1\u001b[0m \u001b[43mT2\u001b[49m\n",
      "\u001b[1;31mNameError\u001b[0m: name 'T2' is not defined"
     ]
    }
   ],
   "source": [
    "T2"
   ]
  },
  {
   "cell_type": "code",
   "execution_count": 156,
   "id": "ac73cc16-f378-4fa5-b59b-20fc54e225cb",
   "metadata": {},
   "outputs": [
    {
     "data": {
      "text/plain": [
       "(1, 2, 3, 4, (3, 4, 5, 6), 7, 8, 9)"
      ]
     },
     "execution_count": 156,
     "metadata": {},
     "output_type": "execute_result"
    }
   ],
   "source": [
    "T3"
   ]
  },
  {
   "cell_type": "code",
   "execution_count": 157,
   "id": "31f7a8ee-6f18-4bd0-9f25-2b196dc8be36",
   "metadata": {},
   "outputs": [
    {
     "ename": "TypeError",
     "evalue": "'tuple' object doesn't support item deletion",
     "output_type": "error",
     "traceback": [
      "\u001b[1;31m---------------------------------------------------------------------------\u001b[0m",
      "\u001b[1;31mTypeError\u001b[0m                                 Traceback (most recent call last)",
      "Cell \u001b[1;32mIn[157], line 1\u001b[0m\n\u001b[1;32m----> 1\u001b[0m \u001b[38;5;28;01mdel\u001b[39;00m \u001b[43mT3\u001b[49m\u001b[43m[\u001b[49m\u001b[38;5;241;43m0\u001b[39;49m\u001b[43m]\u001b[49m\n",
      "\u001b[1;31mTypeError\u001b[0m: 'tuple' object doesn't support item deletion"
     ]
    }
   ],
   "source": [
    "del T3[0] # you cannot change the tuple"
   ]
  },
  {
   "cell_type": "code",
   "execution_count": 159,
   "id": "4f8cd6ec-ab96-4433-bc70-aa09beb135e7",
   "metadata": {},
   "outputs": [
    {
     "data": {
      "text/plain": [
       "(1, 2, 3, 4, 'F', 'i', 'n', 'a', 'z')"
      ]
     },
     "execution_count": 159,
     "metadata": {},
     "output_type": "execute_result"
    }
   ],
   "source": [
    "T6 + T5"
   ]
  },
  {
   "cell_type": "code",
   "execution_count": 160,
   "id": "c6802648-4790-480b-bdce-7bbe87c7b0ff",
   "metadata": {},
   "outputs": [
    {
     "data": {
      "text/plain": [
       "(1, 2, 3, 4, 1, 2, 3, 4, 1, 2, 3, 4, 1, 2, 3, 4)"
      ]
     },
     "execution_count": 160,
     "metadata": {},
     "output_type": "execute_result"
    }
   ],
   "source": [
    "T6*4"
   ]
  },
  {
   "cell_type": "code",
   "execution_count": 161,
   "id": "dd8da8c3-3ebd-4ca8-bfc6-9f6c17c80f68",
   "metadata": {},
   "outputs": [
    {
     "name": "stdout",
     "output_type": "stream",
     "text": [
      "1\n",
      "2\n",
      "3\n",
      "4\n"
     ]
    }
   ],
   "source": [
    "for i in T6:\n",
    "    print(i)"
   ]
  },
  {
   "cell_type": "code",
   "execution_count": 162,
   "id": "99747707-3b63-4a7d-b439-de7d906dd9a0",
   "metadata": {},
   "outputs": [
    {
     "data": {
      "text/plain": [
       "True"
      ]
     },
     "execution_count": 162,
     "metadata": {},
     "output_type": "execute_result"
    }
   ],
   "source": [
    "1 in T6"
   ]
  },
  {
   "cell_type": "code",
   "execution_count": 163,
   "id": "a701fd52-1908-4f7a-9f10-53d4440cff78",
   "metadata": {},
   "outputs": [
    {
     "data": {
      "text/plain": [
       "False"
      ]
     },
     "execution_count": 163,
     "metadata": {},
     "output_type": "execute_result"
    }
   ],
   "source": [
    "8 in T6"
   ]
  },
  {
   "cell_type": "code",
   "execution_count": 165,
   "id": "e39128c8-b07a-4741-af75-d2e59f4d44ba",
   "metadata": {},
   "outputs": [
    {
     "data": {
      "text/plain": [
       "4"
      ]
     },
     "execution_count": 165,
     "metadata": {},
     "output_type": "execute_result"
    }
   ],
   "source": [
    "# Function in tuples\n",
    "len(T6)"
   ]
  },
  {
   "cell_type": "code",
   "execution_count": 166,
   "id": "09637d4e-8240-4f66-a78d-9fc1cd105294",
   "metadata": {},
   "outputs": [
    {
     "data": {
      "text/plain": [
       "1"
      ]
     },
     "execution_count": 166,
     "metadata": {},
     "output_type": "execute_result"
    }
   ],
   "source": [
    "min(T6)"
   ]
  },
  {
   "cell_type": "code",
   "execution_count": 167,
   "id": "dde83824-7643-4e3b-b4c8-ea1f61399314",
   "metadata": {},
   "outputs": [
    {
     "data": {
      "text/plain": [
       "4"
      ]
     },
     "execution_count": 167,
     "metadata": {},
     "output_type": "execute_result"
    }
   ],
   "source": [
    "max(T6)"
   ]
  },
  {
   "cell_type": "code",
   "execution_count": 169,
   "id": "5e566a58-f8af-4555-a360-58f3c7434bc0",
   "metadata": {},
   "outputs": [
    {
     "data": {
      "text/plain": [
       "[1, 2, 3, 4]"
      ]
     },
     "execution_count": 169,
     "metadata": {},
     "output_type": "execute_result"
    }
   ],
   "source": [
    "sorted(T6)"
   ]
  },
  {
   "cell_type": "markdown",
   "id": "4ddc03fa-50d7-414a-98f8-40c5a2d8f667",
   "metadata": {},
   "source": [
    "# Set"
   ]
  },
  {
   "cell_type": "code",
   "execution_count": 172,
   "id": "7248a4f7-6987-420f-ac31-e396db5a0a1a",
   "metadata": {},
   "outputs": [
    {
     "data": {
      "text/plain": [
       "{}"
      ]
     },
     "execution_count": 172,
     "metadata": {},
     "output_type": "execute_result"
    }
   ],
   "source": [
    "s = {} # by using this formate we cannot use empty set like this.insted of this use type conversion.\n",
    "s"
   ]
  },
  {
   "cell_type": "code",
   "execution_count": 173,
   "id": "fe487e4b-1e64-4684-ad0c-02276d7a2289",
   "metadata": {},
   "outputs": [
    {
     "data": {
      "text/plain": [
       "dict"
      ]
     },
     "execution_count": 173,
     "metadata": {},
     "output_type": "execute_result"
    }
   ],
   "source": [
    "type(s)"
   ]
  },
  {
   "cell_type": "code",
   "execution_count": 175,
   "id": "c13466b1-b1d0-457c-924f-8cf2fc44d0fd",
   "metadata": {},
   "outputs": [
    {
     "data": {
      "text/plain": [
       "set()"
      ]
     },
     "execution_count": 175,
     "metadata": {},
     "output_type": "execute_result"
    }
   ],
   "source": [
    "s1 = set()\n",
    "s1"
   ]
  },
  {
   "cell_type": "code",
   "execution_count": 176,
   "id": "91732b30-d903-4ae0-905d-a21abc542780",
   "metadata": {},
   "outputs": [
    {
     "data": {
      "text/plain": [
       "set"
      ]
     },
     "execution_count": 176,
     "metadata": {},
     "output_type": "execute_result"
    }
   ],
   "source": [
    "type(s1)"
   ]
  },
  {
   "cell_type": "code",
   "execution_count": 177,
   "id": "89e5bb96-fa86-42dc-84cd-58cc0a9b11d6",
   "metadata": {},
   "outputs": [
    {
     "data": {
      "text/plain": [
       "{1, 2, 3, 4, 5, 6}"
      ]
     },
     "execution_count": 177,
     "metadata": {},
     "output_type": "execute_result"
    }
   ],
   "source": [
    "# homogenous\n",
    "s3 = {1,2,3,4,5,6}\n",
    "s3"
   ]
  },
  {
   "cell_type": "code",
   "execution_count": 178,
   "id": "b164923f-da89-47be-a09e-8d458f06812e",
   "metadata": {},
   "outputs": [
    {
     "data": {
      "text/plain": [
       "{1, 2, 3, 3.4, 'finaz'}"
      ]
     },
     "execution_count": 178,
     "metadata": {},
     "output_type": "execute_result"
    }
   ],
   "source": [
    "# hetrogenous\n",
    "s4 = {1,2,3,'finaz',3.4, True}\n",
    "s4"
   ]
  },
  {
   "cell_type": "code",
   "execution_count": 186,
   "id": "2923fbbe-efe4-4797-b59e-6382ee8f3fb1",
   "metadata": {},
   "outputs": [],
   "source": [
    "# Set object will not support indexing/sclicing"
   ]
  },
  {
   "cell_type": "code",
   "execution_count": 179,
   "id": "2616d39d-e7df-497c-bb2d-0020017be330",
   "metadata": {},
   "outputs": [
    {
     "data": {
      "text/plain": [
       "{1, 2, 3}"
      ]
     },
     "execution_count": 179,
     "metadata": {},
     "output_type": "execute_result"
    }
   ],
   "source": [
    "# it will not allow duplicates\n",
    "s5 = {1,1,1,1,2,2,2,3,3,3}\n",
    "s5"
   ]
  },
  {
   "cell_type": "code",
   "execution_count": 180,
   "id": "a1e0a10d-f2e4-4335-b7e6-5a8ea2bbf94c",
   "metadata": {},
   "outputs": [
    {
     "ename": "TypeError",
     "evalue": "unhashable type: 'list'",
     "output_type": "error",
     "traceback": [
      "\u001b[1;31m---------------------------------------------------------------------------\u001b[0m",
      "\u001b[1;31mTypeError\u001b[0m                                 Traceback (most recent call last)",
      "Cell \u001b[1;32mIn[180], line 1\u001b[0m\n\u001b[1;32m----> 1\u001b[0m s6 \u001b[38;5;241m=\u001b[39m {[\u001b[38;5;241m1\u001b[39m,\u001b[38;5;241m2\u001b[39m,\u001b[38;5;241m3\u001b[39m],\u001b[38;5;124m'\u001b[39m\u001b[38;5;124mFinaz\u001b[39m\u001b[38;5;124m'\u001b[39m}\n\u001b[0;32m      2\u001b[0m s6\n",
      "\u001b[1;31mTypeError\u001b[0m: unhashable type: 'list'"
     ]
    }
   ],
   "source": [
    "s6 = {[1,2,3],'Finaz'} #set don't allow mutable data type. \n",
    "s6"
   ]
  },
  {
   "cell_type": "code",
   "execution_count": 184,
   "id": "c8ebdbcc-b5db-4bf2-bf5b-25082eb62465",
   "metadata": {},
   "outputs": [
    {
     "data": {
      "text/plain": [
       "{(1, 2, 3), 'Finaz'}"
      ]
     },
     "execution_count": 184,
     "metadata": {},
     "output_type": "execute_result"
    }
   ],
   "source": [
    "s6 = {(1,2,3),\"Finaz\"} #set will allow mutable data type.\n",
    "s6                      #its becouse of hashing (it will change the position at output)"
   ]
  },
  {
   "cell_type": "code",
   "execution_count": 185,
   "id": "8bf04481-f9a5-4218-8082-ef89a9c72b0f",
   "metadata": {},
   "outputs": [
    {
     "ename": "TypeError",
     "evalue": "unhashable type: 'set'",
     "output_type": "error",
     "traceback": [
      "\u001b[1;31m---------------------------------------------------------------------------\u001b[0m",
      "\u001b[1;31mTypeError\u001b[0m                                 Traceback (most recent call last)",
      "Cell \u001b[1;32mIn[185], line 1\u001b[0m\n\u001b[1;32m----> 1\u001b[0m s7 \u001b[38;5;241m=\u001b[39m {{\u001b[38;5;241m1\u001b[39m},{\u001b[38;5;241m2\u001b[39m}} \u001b[38;5;66;03m# 2D,3D sets are not possible\u001b[39;00m\n\u001b[0;32m      2\u001b[0m s7\n",
      "\u001b[1;31mTypeError\u001b[0m: unhashable type: 'set'"
     ]
    }
   ],
   "source": [
    "s7 = {{1},{2}} # 2D,3D sets are not possible\n",
    "s7"
   ]
  },
  {
   "cell_type": "code",
   "execution_count": 187,
   "id": "31b22a50-e2b7-4090-a8c6-8f90d78de8cd",
   "metadata": {},
   "outputs": [],
   "source": [
    "# we can't edit sets"
   ]
  },
  {
   "cell_type": "code",
   "execution_count": 189,
   "id": "a9c4a96f-6754-4597-a073-8fdb8a674149",
   "metadata": {},
   "outputs": [
    {
     "data": {
      "text/plain": [
       "{1, 2, 3, 4, 5, 6, 7}"
      ]
     },
     "execution_count": 189,
     "metadata": {},
     "output_type": "execute_result"
    }
   ],
   "source": [
    "# add\n",
    "s3.add(7)\n",
    "s3"
   ]
  },
  {
   "cell_type": "code",
   "execution_count": 190,
   "id": "b053f8d5-f035-4dc9-9b67-ae34c6f520f3",
   "metadata": {},
   "outputs": [
    {
     "data": {
      "text/plain": [
       "{1, 2, 3, 4, 5, 6, 7}"
      ]
     },
     "execution_count": 190,
     "metadata": {},
     "output_type": "execute_result"
    }
   ],
   "source": [
    "# Delete: del,remove,pop\n",
    "s3"
   ]
  },
  {
   "cell_type": "code",
   "execution_count": 194,
   "id": "26a0ac55-fff8-4e1c-854c-7c90eedf7307",
   "metadata": {},
   "outputs": [],
   "source": [
    "del s5 # we can delete entire s5 but we can't delete single value in s5."
   ]
  },
  {
   "cell_type": "code",
   "execution_count": 195,
   "id": "f5878dc9-7212-4557-8fd3-a1e8db77bd28",
   "metadata": {},
   "outputs": [
    {
     "ename": "TypeError",
     "evalue": "'set' object doesn't support item deletion",
     "output_type": "error",
     "traceback": [
      "\u001b[1;31m---------------------------------------------------------------------------\u001b[0m",
      "\u001b[1;31mTypeError\u001b[0m                                 Traceback (most recent call last)",
      "Cell \u001b[1;32mIn[195], line 1\u001b[0m\n\u001b[1;32m----> 1\u001b[0m \u001b[38;5;28;01mdel\u001b[39;00m \u001b[43ms6\u001b[49m\u001b[43m[\u001b[49m\u001b[38;5;241;43m1\u001b[39;49m\u001b[43m]\u001b[49m\n",
      "\u001b[1;31mTypeError\u001b[0m: 'set' object doesn't support item deletion"
     ]
    }
   ],
   "source": [
    "del s6[1]"
   ]
  },
  {
   "cell_type": "code",
   "execution_count": 200,
   "id": "5efdf57d-002f-40a8-b991-dbcd44b973d9",
   "metadata": {},
   "outputs": [
    {
     "data": {
      "text/plain": [
       "{1, 2, 3, 4, 5}"
      ]
     },
     "execution_count": 200,
     "metadata": {},
     "output_type": "execute_result"
    }
   ],
   "source": [
    "s3.remove(6)\n",
    "s3"
   ]
  },
  {
   "cell_type": "code",
   "execution_count": 201,
   "id": "d80c23c3-9ab4-415d-a0f6-6c7abb24690f",
   "metadata": {},
   "outputs": [
    {
     "data": {
      "text/plain": [
       "{2, 3, 4, 5}"
      ]
     },
     "execution_count": 201,
     "metadata": {},
     "output_type": "execute_result"
    }
   ],
   "source": [
    "s3.pop()\n",
    "s3  # its because of hashing"
   ]
  },
  {
   "cell_type": "code",
   "execution_count": 206,
   "id": "9160b724-480c-453c-b087-6b7f63108881",
   "metadata": {},
   "outputs": [],
   "source": [
    "s1 = {1,2,3,4}\n",
    "s2 = {3,4,5,6}"
   ]
  },
  {
   "cell_type": "code",
   "execution_count": 208,
   "id": "64c3601f-369b-4816-817a-0741e57514f2",
   "metadata": {},
   "outputs": [
    {
     "ename": "TypeError",
     "evalue": "unsupported operand type(s) for +: 'set' and 'set'",
     "output_type": "error",
     "traceback": [
      "\u001b[1;31m---------------------------------------------------------------------------\u001b[0m",
      "\u001b[1;31mTypeError\u001b[0m                                 Traceback (most recent call last)",
      "Cell \u001b[1;32mIn[208], line 1\u001b[0m\n\u001b[1;32m----> 1\u001b[0m \u001b[43ms1\u001b[49m\u001b[38;5;241;43m+\u001b[39;49m\u001b[43ms2\u001b[49m \u001b[38;5;66;03m# we can't concatenate & multiply oprations sets \u001b[39;00m\n",
      "\u001b[1;31mTypeError\u001b[0m: unsupported operand type(s) for +: 'set' and 'set'"
     ]
    }
   ],
   "source": [
    "s1+s2 # we can't concatenate & multiply oprations sets "
   ]
  },
  {
   "cell_type": "code",
   "execution_count": 209,
   "id": "23debd14-7969-4168-ab8d-527aa6c59efc",
   "metadata": {},
   "outputs": [
    {
     "ename": "TypeError",
     "evalue": "unsupported operand type(s) for *: 'set' and 'int'",
     "output_type": "error",
     "traceback": [
      "\u001b[1;31m---------------------------------------------------------------------------\u001b[0m",
      "\u001b[1;31mTypeError\u001b[0m                                 Traceback (most recent call last)",
      "Cell \u001b[1;32mIn[209], line 1\u001b[0m\n\u001b[1;32m----> 1\u001b[0m \u001b[43ms1\u001b[49m\u001b[38;5;241;43m*\u001b[39;49m\u001b[38;5;241;43m4\u001b[39;49m\n",
      "\u001b[1;31mTypeError\u001b[0m: unsupported operand type(s) for *: 'set' and 'int'"
     ]
    }
   ],
   "source": [
    "s1*4"
   ]
  },
  {
   "cell_type": "code",
   "execution_count": 210,
   "id": "73db4ad6-9769-472b-a287-9041ec9f46b5",
   "metadata": {},
   "outputs": [
    {
     "name": "stdout",
     "output_type": "stream",
     "text": [
      "3\n",
      "4\n",
      "5\n",
      "6\n"
     ]
    }
   ],
   "source": [
    "for i in s1:\n",
    "    print(i)"
   ]
  },
  {
   "cell_type": "code",
   "execution_count": 218,
   "id": "ad1c87bf-1a94-4358-bfd2-7dfcf3d7033f",
   "metadata": {},
   "outputs": [
    {
     "data": {
      "text/plain": [
       "4"
      ]
     },
     "execution_count": 218,
     "metadata": {},
     "output_type": "execute_result"
    }
   ],
   "source": [
    "# Function in sets\n",
    "s1 = {1,2,3,4}\n",
    "s2 = {3,4,5,6}\n",
    "len(s1)"
   ]
  },
  {
   "cell_type": "code",
   "execution_count": 219,
   "id": "65f4995d-d7dc-450b-8f55-78d68a09c52c",
   "metadata": {},
   "outputs": [
    {
     "data": {
      "text/plain": [
       "1"
      ]
     },
     "execution_count": 219,
     "metadata": {},
     "output_type": "execute_result"
    }
   ],
   "source": [
    "min(s1)"
   ]
  },
  {
   "cell_type": "code",
   "execution_count": 220,
   "id": "091bab50-b5d1-4c91-be13-7cb12668af48",
   "metadata": {},
   "outputs": [
    {
     "data": {
      "text/plain": [
       "4"
      ]
     },
     "execution_count": 220,
     "metadata": {},
     "output_type": "execute_result"
    }
   ],
   "source": [
    "max(s1)"
   ]
  },
  {
   "cell_type": "code",
   "execution_count": 221,
   "id": "9674511b-4270-40ec-acea-55c57104c659",
   "metadata": {},
   "outputs": [
    {
     "data": {
      "text/plain": [
       "[1, 2, 3, 4]"
      ]
     },
     "execution_count": 221,
     "metadata": {},
     "output_type": "execute_result"
    }
   ],
   "source": [
    "sorted(s1)"
   ]
  },
  {
   "cell_type": "code",
   "execution_count": 222,
   "id": "3e56f264-2ed0-4162-a7b5-262a765b8ab1",
   "metadata": {},
   "outputs": [
    {
     "data": {
      "text/plain": [
       "[4, 3, 2, 1]"
      ]
     },
     "execution_count": 222,
     "metadata": {},
     "output_type": "execute_result"
    }
   ],
   "source": [
    "sorted(s1,reverse=True)"
   ]
  },
  {
   "cell_type": "code",
   "execution_count": 224,
   "id": "7a0b9d36-41e8-41fb-9bc5-9aca111a343e",
   "metadata": {},
   "outputs": [
    {
     "data": {
      "text/plain": [
       "{1, 2, 3, 4}"
      ]
     },
     "execution_count": 224,
     "metadata": {},
     "output_type": "execute_result"
    }
   ],
   "source": [
    "s1"
   ]
  },
  {
   "cell_type": "code",
   "execution_count": 225,
   "id": "25497386-5e6f-4bbb-a47d-784123e21af1",
   "metadata": {},
   "outputs": [
    {
     "data": {
      "text/plain": [
       "{3, 4, 5, 6}"
      ]
     },
     "execution_count": 225,
     "metadata": {},
     "output_type": "execute_result"
    }
   ],
   "source": [
    "s2"
   ]
  },
  {
   "cell_type": "code",
   "execution_count": 227,
   "id": "fbae1150-2a7c-499c-9207-50cfb7af5ea5",
   "metadata": {},
   "outputs": [
    {
     "data": {
      "text/plain": [
       "{1, 2, 3, 4, 5, 6}"
      ]
     },
     "execution_count": 227,
     "metadata": {},
     "output_type": "execute_result"
    }
   ],
   "source": [
    "s1.union(s2)"
   ]
  },
  {
   "cell_type": "code",
   "execution_count": 228,
   "id": "8e28b8e6-bcdd-434b-a500-19fa12b1591d",
   "metadata": {},
   "outputs": [
    {
     "data": {
      "text/plain": [
       "{3, 4}"
      ]
     },
     "execution_count": 228,
     "metadata": {},
     "output_type": "execute_result"
    }
   ],
   "source": [
    "s1.intersection(s2)"
   ]
  },
  {
   "cell_type": "code",
   "execution_count": 229,
   "id": "38df098c-12ae-48f2-9db2-1812f3138df3",
   "metadata": {},
   "outputs": [
    {
     "data": {
      "text/plain": [
       "{1, 2}"
      ]
     },
     "execution_count": 229,
     "metadata": {},
     "output_type": "execute_result"
    }
   ],
   "source": [
    "s1.difference(s2)"
   ]
  },
  {
   "cell_type": "code",
   "execution_count": 230,
   "id": "bf152485-5c6e-4dc4-a500-f5a8fbe20d90",
   "metadata": {},
   "outputs": [
    {
     "data": {
      "text/plain": [
       "{5, 6}"
      ]
     },
     "execution_count": 230,
     "metadata": {},
     "output_type": "execute_result"
    }
   ],
   "source": [
    "s2.difference(s1)"
   ]
  },
  {
   "cell_type": "code",
   "execution_count": 231,
   "id": "81a6f62a-2bba-4bd1-94e2-74da6b255d5e",
   "metadata": {},
   "outputs": [
    {
     "data": {
      "text/plain": [
       "{1, 2, 5, 6}"
      ]
     },
     "execution_count": 231,
     "metadata": {},
     "output_type": "execute_result"
    }
   ],
   "source": [
    "s1.symmetric_difference(s2)"
   ]
  },
  {
   "cell_type": "code",
   "execution_count": 232,
   "id": "25f8eb7d-08b8-4e99-a5ec-ba339e21d096",
   "metadata": {},
   "outputs": [
    {
     "data": {
      "text/plain": [
       "False"
      ]
     },
     "execution_count": 232,
     "metadata": {},
     "output_type": "execute_result"
    }
   ],
   "source": [
    "s1.isdisjoint(s2)"
   ]
  },
  {
   "cell_type": "code",
   "execution_count": 233,
   "id": "83c92617-347e-40ca-b547-fd2e22ba5197",
   "metadata": {},
   "outputs": [
    {
     "data": {
      "text/plain": [
       "False"
      ]
     },
     "execution_count": 233,
     "metadata": {},
     "output_type": "execute_result"
    }
   ],
   "source": [
    "s1.issubset(s2)"
   ]
  },
  {
   "cell_type": "code",
   "execution_count": 234,
   "id": "e2768f33-a6f3-4b77-83e4-3977c55e3be1",
   "metadata": {},
   "outputs": [
    {
     "data": {
      "text/plain": [
       "False"
      ]
     },
     "execution_count": 234,
     "metadata": {},
     "output_type": "execute_result"
    }
   ],
   "source": [
    "s1.issuperset(s2)"
   ]
  },
  {
   "cell_type": "markdown",
   "id": "6f964ed3-0850-419a-8230-b8a68d805157",
   "metadata": {},
   "source": [
    "# Dictionary"
   ]
  },
  {
   "cell_type": "code",
   "execution_count": 235,
   "id": "f0e1af3e-b44f-4fc3-94d9-5937e4a4496e",
   "metadata": {},
   "outputs": [
    {
     "data": {
      "text/plain": [
       "{}"
      ]
     },
     "execution_count": 235,
     "metadata": {},
     "output_type": "execute_result"
    }
   ],
   "source": [
    "# create\n",
    "d ={}\n",
    "d"
   ]
  },
  {
   "cell_type": "code",
   "execution_count": 236,
   "id": "fa9267f2-26f4-4508-8d2c-a42b0fb119a0",
   "metadata": {},
   "outputs": [
    {
     "data": {
      "text/plain": [
       "{'name': 'finaz', 'gender': 'female'}"
      ]
     },
     "execution_count": 236,
     "metadata": {},
     "output_type": "execute_result"
    }
   ],
   "source": [
    "d = {'name':'finaz','gender':'female'}\n",
    "d"
   ]
  },
  {
   "cell_type": "code",
   "execution_count": 237,
   "id": "3bebd82f-26de-406f-b6c5-e7f4573c3d4f",
   "metadata": {},
   "outputs": [
    {
     "ename": "TypeError",
     "evalue": "unhashable type: 'list'",
     "output_type": "error",
     "traceback": [
      "\u001b[1;31m---------------------------------------------------------------------------\u001b[0m",
      "\u001b[1;31mTypeError\u001b[0m                                 Traceback (most recent call last)",
      "Cell \u001b[1;32mIn[237], line 1\u001b[0m\n\u001b[1;32m----> 1\u001b[0m d1 \u001b[38;5;241m=\u001b[39m {[\u001b[38;5;241m1\u001b[39m,\u001b[38;5;241m2\u001b[39m,\u001b[38;5;241m3\u001b[39m]:\u001b[38;5;124m'\u001b[39m\u001b[38;5;124mfinaz\u001b[39m\u001b[38;5;124m'\u001b[39m}\n\u001b[0;32m      2\u001b[0m d1\n",
      "\u001b[1;31mTypeError\u001b[0m: unhashable type: 'list'"
     ]
    }
   ],
   "source": [
    "d1 = {[1,2,3]:'finaz'} # here keys are immutable, values are mutable\n",
    "d1"
   ]
  },
  {
   "cell_type": "code",
   "execution_count": 238,
   "id": "f836b223-5966-43ff-97c3-725642b5089e",
   "metadata": {},
   "outputs": [
    {
     "data": {
      "text/plain": [
       "{(1, 2, 3): 'finaz'}"
      ]
     },
     "execution_count": 238,
     "metadata": {},
     "output_type": "execute_result"
    }
   ],
   "source": [
    "d2 = {(1,2,3):'finaz'} # here keys are immutable, values are mutable\n",
    "d2"
   ]
  },
  {
   "cell_type": "code",
   "execution_count": 240,
   "id": "c071e353-958e-4bcf-8481-e7bea8991f48",
   "metadata": {},
   "outputs": [
    {
     "data": {
      "text/plain": [
       "{'name': 'female'}"
      ]
     },
     "execution_count": 240,
     "metadata": {},
     "output_type": "execute_result"
    }
   ],
   "source": [
    "d3 = {'name':'finaz','name':'female'}\n",
    "d3"
   ]
  },
  {
   "cell_type": "code",
   "execution_count": 242,
   "id": "8343d981-51a8-4d74-869b-22703e94cb94",
   "metadata": {},
   "outputs": [
    {
     "data": {
      "text/plain": [
       "{'name': 'finaz', 'college': 'KSS', 'Marks': {'M1': 45, 'DS': 98, 'DA': 87}}"
      ]
     },
     "execution_count": 242,
     "metadata": {},
     "output_type": "execute_result"
    }
   ],
   "source": [
    "# 2D dict\n",
    "d4 = {'name':'finaz','college':'KSS','Marks':{'M1':45,'DS':98,'DA':87}}\n",
    "d4"
   ]
  },
  {
   "cell_type": "code",
   "execution_count": 246,
   "id": "1e446d58-7dfd-4b04-9d2e-bfddde36b303",
   "metadata": {},
   "outputs": [
    {
     "data": {
      "text/plain": [
       "{'name': 'finaz', 'college': 'KSS', 'Marks': {'M1': 45, 'DS': 98, 'DA': 87}}"
      ]
     },
     "execution_count": 246,
     "metadata": {},
     "output_type": "execute_result"
    }
   ],
   "source": [
    "# Access from dict\n",
    "d4"
   ]
  },
  {
   "cell_type": "code",
   "execution_count": 247,
   "id": "39c89893-fff6-426f-a43d-ef624578e7d4",
   "metadata": {},
   "outputs": [
    {
     "data": {
      "text/plain": [
       "'finaz'"
      ]
     },
     "execution_count": 247,
     "metadata": {},
     "output_type": "execute_result"
    }
   ],
   "source": [
    "d4['name']"
   ]
  },
  {
   "cell_type": "code",
   "execution_count": 249,
   "id": "40e96f7c-5ce7-480a-b2e8-b496d5b4e8af",
   "metadata": {},
   "outputs": [
    {
     "data": {
      "text/plain": [
       "'KSS'"
      ]
     },
     "execution_count": 249,
     "metadata": {},
     "output_type": "execute_result"
    }
   ],
   "source": [
    "d4['college']"
   ]
  },
  {
   "cell_type": "code",
   "execution_count": 250,
   "id": "9d58ad4b-76a9-424b-a667-d953f8398901",
   "metadata": {},
   "outputs": [
    {
     "data": {
      "text/plain": [
       "45"
      ]
     },
     "execution_count": 250,
     "metadata": {},
     "output_type": "execute_result"
    }
   ],
   "source": [
    "d4['Marks']['M1']"
   ]
  },
  {
   "cell_type": "code",
   "execution_count": 251,
   "id": "c66c26a5-b6c2-4751-8681-098478250e73",
   "metadata": {},
   "outputs": [
    {
     "data": {
      "text/plain": [
       "{'name': 'Ayat', 'college': 'KSS', 'Marks': {'M1': 45, 'DS': 98, 'DA': 87}}"
      ]
     },
     "execution_count": 251,
     "metadata": {},
     "output_type": "execute_result"
    }
   ],
   "source": [
    "# Edit\n",
    "d4['name'] = 'Ayat'\n",
    "d4"
   ]
  },
  {
   "cell_type": "code",
   "execution_count": 252,
   "id": "8930645a-17ee-474c-9e06-8f85e592291f",
   "metadata": {},
   "outputs": [
    {
     "data": {
      "text/plain": [
       "{'name': 'Ayat', 'college': 'KSS', 'Marks': {'M1': 78, 'DS': 98, 'DA': 87}}"
      ]
     },
     "execution_count": 252,
     "metadata": {},
     "output_type": "execute_result"
    }
   ],
   "source": [
    "d4['Marks']['M1'] = 78\n",
    "d4"
   ]
  },
  {
   "cell_type": "code",
   "execution_count": 255,
   "id": "a50e2c8e-de53-48e1-a765-2594d5af3401",
   "metadata": {},
   "outputs": [
    {
     "data": {
      "text/plain": [
       "{'name': 'finaz', 'gender': 'female', 'Age': 24}"
      ]
     },
     "execution_count": 255,
     "metadata": {},
     "output_type": "execute_result"
    }
   ],
   "source": [
    "# Add a new key-values\n",
    "d['Age']=24\n",
    "d"
   ]
  },
  {
   "cell_type": "code",
   "execution_count": 256,
   "id": "41ef1094-0f73-4b06-9c80-162de18be2d3",
   "metadata": {},
   "outputs": [
    {
     "data": {
      "text/plain": [
       "{'name': 'Ayat',\n",
       " 'college': 'KSS',\n",
       " 'Marks': {'M1': 78, 'DS': 98, 'DA': 87, 'M2': 76}}"
      ]
     },
     "execution_count": 256,
     "metadata": {},
     "output_type": "execute_result"
    }
   ],
   "source": [
    "d4['Marks']['M2'] = 76\n",
    "d4"
   ]
  },
  {
   "cell_type": "code",
   "execution_count": 257,
   "id": "ceb20eba-53e1-45f8-847d-886e418e4fc0",
   "metadata": {},
   "outputs": [],
   "source": [
    "# Delete : del,clear\n",
    "del d['name']"
   ]
  },
  {
   "cell_type": "code",
   "execution_count": 258,
   "id": "1664c678-ac19-44f6-ada8-80bc82a50c8c",
   "metadata": {},
   "outputs": [
    {
     "data": {
      "text/plain": [
       "{'gender': 'female', 'Age': 24}"
      ]
     },
     "execution_count": 258,
     "metadata": {},
     "output_type": "execute_result"
    }
   ],
   "source": [
    "d"
   ]
  },
  {
   "cell_type": "code",
   "execution_count": 259,
   "id": "4ddb4ef8-1a6b-441f-a140-b46f87e66735",
   "metadata": {},
   "outputs": [],
   "source": [
    "del d"
   ]
  },
  {
   "cell_type": "code",
   "execution_count": 260,
   "id": "32bb2d77-94b7-430d-9812-2ec74a23112a",
   "metadata": {},
   "outputs": [],
   "source": [
    "d = {'gender': 'female', 'Age': 24}\n",
    "d.clear()"
   ]
  },
  {
   "cell_type": "code",
   "execution_count": 262,
   "id": "32968841-ed6a-400e-8916-127689a55619",
   "metadata": {},
   "outputs": [
    {
     "ename": "TypeError",
     "evalue": "unsupported operand type(s) for +: 'dict' and 'dict'",
     "output_type": "error",
     "traceback": [
      "\u001b[1;31m---------------------------------------------------------------------------\u001b[0m",
      "\u001b[1;31mTypeError\u001b[0m                                 Traceback (most recent call last)",
      "Cell \u001b[1;32mIn[262], line 3\u001b[0m\n\u001b[0;32m      1\u001b[0m d1 \u001b[38;5;241m=\u001b[39m {\u001b[38;5;124m'\u001b[39m\u001b[38;5;124mgender\u001b[39m\u001b[38;5;124m'\u001b[39m: \u001b[38;5;124m'\u001b[39m\u001b[38;5;124mfemale\u001b[39m\u001b[38;5;124m'\u001b[39m, \u001b[38;5;124m'\u001b[39m\u001b[38;5;124mAge\u001b[39m\u001b[38;5;124m'\u001b[39m: \u001b[38;5;241m24\u001b[39m} \u001b[38;5;66;03m# concatenate will not possible\u001b[39;00m\n\u001b[0;32m      2\u001b[0m d2 \u001b[38;5;241m=\u001b[39m {\u001b[38;5;124m'\u001b[39m\u001b[38;5;124mname\u001b[39m\u001b[38;5;124m'\u001b[39m:\u001b[38;5;124m'\u001b[39m\u001b[38;5;124mfinaz\u001b[39m\u001b[38;5;124m'\u001b[39m}\n\u001b[1;32m----> 3\u001b[0m \u001b[43md1\u001b[49m\u001b[38;5;241;43m+\u001b[39;49m\u001b[43md2\u001b[49m\n",
      "\u001b[1;31mTypeError\u001b[0m: unsupported operand type(s) for +: 'dict' and 'dict'"
     ]
    }
   ],
   "source": [
    "d1 = {'gender': 'female', 'Age': 24} # concatenate will not possible\n",
    "d2 = {'name':'finaz'}\n",
    "d1+d2"
   ]
  },
  {
   "cell_type": "code",
   "execution_count": 264,
   "id": "787756f4-bbfa-44eb-9e1c-e72b402576d8",
   "metadata": {},
   "outputs": [
    {
     "data": {
      "text/plain": [
       "False"
      ]
     },
     "execution_count": 264,
     "metadata": {},
     "output_type": "execute_result"
    }
   ],
   "source": [
    "# Membership operation\n",
    "'Ayat' in d4"
   ]
  },
  {
   "cell_type": "code",
   "execution_count": 265,
   "id": "fc351a2e-e444-46ca-840c-3ad28da22060",
   "metadata": {},
   "outputs": [
    {
     "data": {
      "text/plain": [
       "True"
      ]
     },
     "execution_count": 265,
     "metadata": {},
     "output_type": "execute_result"
    }
   ],
   "source": [
    "'name' in d4"
   ]
  },
  {
   "cell_type": "code",
   "execution_count": 266,
   "id": "69034c24-6ce5-4451-aad4-fe23a9147aa9",
   "metadata": {},
   "outputs": [
    {
     "data": {
      "text/plain": [
       "3"
      ]
     },
     "execution_count": 266,
     "metadata": {},
     "output_type": "execute_result"
    }
   ],
   "source": [
    "# Function in dict\n",
    "len(d4)"
   ]
  },
  {
   "cell_type": "code",
   "execution_count": 267,
   "id": "4c46928f-2ffa-4257-b562-38457fd05c45",
   "metadata": {},
   "outputs": [
    {
     "data": {
      "text/plain": [
       "'Marks'"
      ]
     },
     "execution_count": 267,
     "metadata": {},
     "output_type": "execute_result"
    }
   ],
   "source": [
    "min(d4)"
   ]
  },
  {
   "cell_type": "code",
   "execution_count": 269,
   "id": "07d03c0e-6cb3-4114-9a5f-7a14426ae4ed",
   "metadata": {},
   "outputs": [
    {
     "data": {
      "text/plain": [
       "'name'"
      ]
     },
     "execution_count": 269,
     "metadata": {},
     "output_type": "execute_result"
    }
   ],
   "source": [
    "max(d4)"
   ]
  },
  {
   "cell_type": "code",
   "execution_count": 270,
   "id": "103faef5-ea57-4ad2-9bdb-31c8dc416409",
   "metadata": {},
   "outputs": [
    {
     "data": {
      "text/plain": [
       "['Marks', 'college', 'name']"
      ]
     },
     "execution_count": 270,
     "metadata": {},
     "output_type": "execute_result"
    }
   ],
   "source": [
    "sorted(d4)"
   ]
  },
  {
   "cell_type": "code",
   "execution_count": 271,
   "id": "d78b0016-252d-4c2c-8f81-d9a45a96a328",
   "metadata": {},
   "outputs": [
    {
     "data": {
      "text/plain": [
       "['name', 'college', 'Marks']"
      ]
     },
     "execution_count": 271,
     "metadata": {},
     "output_type": "execute_result"
    }
   ],
   "source": [
    "sorted(d4,reverse=True)"
   ]
  },
  {
   "cell_type": "code",
   "execution_count": 272,
   "id": "a4f52efc-84a9-41e5-b123-875ede85b257",
   "metadata": {},
   "outputs": [
    {
     "data": {
      "text/plain": [
       "dict_keys(['name', 'college', 'Marks'])"
      ]
     },
     "execution_count": 272,
     "metadata": {},
     "output_type": "execute_result"
    }
   ],
   "source": [
    "d4.keys()"
   ]
  },
  {
   "cell_type": "code",
   "execution_count": 273,
   "id": "9eab1bde-8c05-4c5f-944d-8649716ef824",
   "metadata": {},
   "outputs": [
    {
     "data": {
      "text/plain": [
       "dict_values(['Ayat', 'KSS', {'M1': 78, 'DS': 98, 'DA': 87, 'M2': 76}])"
      ]
     },
     "execution_count": 273,
     "metadata": {},
     "output_type": "execute_result"
    }
   ],
   "source": [
    "d4.values()"
   ]
  },
  {
   "cell_type": "markdown",
   "id": "23c9d6dd-fde2-486e-b86c-658659a2321c",
   "metadata": {},
   "source": [
    "# Varible & Memory Refrences"
   ]
  },
  {
   "cell_type": "code",
   "execution_count": 7,
   "id": "2fb8ba60-0e4e-480c-8302-85c6cf2e654c",
   "metadata": {},
   "outputs": [],
   "source": [
    "a = 2\n",
    "b = a\n",
    "c = b"
   ]
  },
  {
   "cell_type": "code",
   "execution_count": 8,
   "id": "927b55fc-a4a2-4c5b-81df-f25a801f419e",
   "metadata": {},
   "outputs": [
    {
     "data": {
      "text/plain": [
       "1000001435"
      ]
     },
     "execution_count": 8,
     "metadata": {},
     "output_type": "execute_result"
    }
   ],
   "source": [
    "import sys\n",
    "sys.getrefcount(a)"
   ]
  },
  {
   "cell_type": "code",
   "execution_count": 9,
   "id": "40e2f2ec-001d-4bb6-8beb-328eb4f8e5d9",
   "metadata": {},
   "outputs": [
    {
     "data": {
      "text/plain": [
       "1000001425"
      ]
     },
     "execution_count": 9,
     "metadata": {},
     "output_type": "execute_result"
    }
   ],
   "source": [
    "sys.getrefcount(b)"
   ]
  },
  {
   "cell_type": "code",
   "execution_count": 10,
   "id": "7424d123-055a-4428-a920-bca053b213f9",
   "metadata": {},
   "outputs": [],
   "source": [
    "a = 69\n",
    "b = a\n",
    "c = b"
   ]
  },
  {
   "cell_type": "code",
   "execution_count": 11,
   "id": "6dd88a95-24d3-474d-b3c3-e302b582222e",
   "metadata": {},
   "outputs": [
    {
     "data": {
      "text/plain": [
       "1000000069"
      ]
     },
     "execution_count": 11,
     "metadata": {},
     "output_type": "execute_result"
    }
   ],
   "source": [
    "sys.getrefcount(a)"
   ]
  },
  {
   "cell_type": "markdown",
   "id": "ba20d6a4-de3e-444c-98b8-eacfacb96010",
   "metadata": {},
   "source": [
    "# Functions"
   ]
  },
  {
   "cell_type": "code",
   "execution_count": 13,
   "id": "d4ddf707-4628-4ed0-8159-d9afefb4c8d6",
   "metadata": {},
   "outputs": [],
   "source": [
    "def is_even(number):  # keyword, Name, Argument)\n",
    "    \"\"\"\n",
    "    This function tells us the given number is odd or even\n",
    "    input-any valid integer\n",
    "    output-odd/even\n",
    "    Created by - Finaz\n",
    "    Last edited - 27 Sept 2023\n",
    "    \"\"\"   # Doc-string\n",
    "    if number %2==0:  # Body of the function\n",
    "        return \"Even\"\n",
    "    else:\n",
    "        return \"Odd\"\n"
   ]
  },
  {
   "cell_type": "code",
   "execution_count": 14,
   "id": "6aca8c84-b980-475c-8ea0-7a1d34f99806",
   "metadata": {},
   "outputs": [
    {
     "name": "stdout",
     "output_type": "stream",
     "text": [
      "Odd\n",
      "Even\n",
      "Odd\n",
      "Even\n",
      "Odd\n",
      "Even\n",
      "Odd\n",
      "Even\n",
      "Odd\n",
      "Even\n",
      "Odd\n",
      "Even\n",
      "Odd\n",
      "Even\n",
      "Odd\n",
      "Even\n",
      "Odd\n",
      "Even\n",
      "Odd\n",
      "Even\n"
     ]
    }
   ],
   "source": [
    "for i in range(1,21):   # Function calling\n",
    "    print(is_even(i))"
   ]
  },
  {
   "cell_type": "code",
   "execution_count": 15,
   "id": "00c8d3e5-f27d-4ee2-9a9d-3bb5efb0b027",
   "metadata": {},
   "outputs": [
    {
     "data": {
      "text/plain": [
       "'Prints the values to a stream, or to sys.stdout by default.\\n\\n  sep\\n    string inserted between values, default a space.\\n  end\\n    string appended after the last value, default a newline.\\n  file\\n    a file-like object (stream); defaults to the current sys.stdout.\\n  flush\\n    whether to forcibly flush the stream.'"
      ]
     },
     "execution_count": 15,
     "metadata": {},
     "output_type": "execute_result"
    }
   ],
   "source": [
    "print.__doc__"
   ]
  },
  {
   "cell_type": "code",
   "execution_count": 16,
   "id": "c8e8c4a9-1cbf-44a2-8e5e-1adb894f9234",
   "metadata": {},
   "outputs": [
    {
     "name": "stdout",
     "output_type": "stream",
     "text": [
      "\n",
      "    This function tells us the given number is odd or even\n",
      "    input-any valid integer\n",
      "    output-odd/even\n",
      "    Created by - Finaz\n",
      "    Last edited - 27 Sept 2023\n",
      "    \n"
     ]
    }
   ],
   "source": [
    "print(is_even.__doc__)"
   ]
  },
  {
   "cell_type": "markdown",
   "id": "1a1966a6-2883-4f9a-81f9-7c4a2816dba4",
   "metadata": {},
   "source": [
    "# Parameters Vs Arguments\n",
    "* The terms parameter and argument can be used for the same thing: information that are passed into a function. From a function's perspective: A parameter is the variable listed inside the parentheses in the function definition. An argument is the value that are sent to the function when it is called."
   ]
  },
  {
   "cell_type": "code",
   "execution_count": 21,
   "id": "46314e49-b058-491e-a612-911f742942b1",
   "metadata": {},
   "outputs": [],
   "source": [
    "# 1. Default Argument\n",
    "\n",
    "def power(a,b):\n",
    "    return a**b"
   ]
  },
  {
   "cell_type": "code",
   "execution_count": 22,
   "id": "ab384a7a-dcea-4f11-a1b6-d4bddef6c904",
   "metadata": {},
   "outputs": [
    {
     "data": {
      "text/plain": [
       "8"
      ]
     },
     "execution_count": 22,
     "metadata": {},
     "output_type": "execute_result"
    }
   ],
   "source": [
    "power(2,3)"
   ]
  },
  {
   "cell_type": "code",
   "execution_count": 23,
   "id": "8839e95c-2012-46b0-818d-2d9ff3e81053",
   "metadata": {},
   "outputs": [
    {
     "ename": "TypeError",
     "evalue": "power() missing 1 required positional argument: 'b'",
     "output_type": "error",
     "traceback": [
      "\u001b[1;31m---------------------------------------------------------------------------\u001b[0m",
      "\u001b[1;31mTypeError\u001b[0m                                 Traceback (most recent call last)",
      "Cell \u001b[1;32mIn[23], line 1\u001b[0m\n\u001b[1;32m----> 1\u001b[0m \u001b[43mpower\u001b[49m\u001b[43m(\u001b[49m\u001b[38;5;241;43m2\u001b[39;49m\u001b[43m)\u001b[49m\n",
      "\u001b[1;31mTypeError\u001b[0m: power() missing 1 required positional argument: 'b'"
     ]
    }
   ],
   "source": [
    "power(2)"
   ]
  },
  {
   "cell_type": "code",
   "execution_count": 24,
   "id": "d47035dc-f508-4dff-8721-018ec9f70714",
   "metadata": {},
   "outputs": [
    {
     "ename": "TypeError",
     "evalue": "power() missing 2 required positional arguments: 'a' and 'b'",
     "output_type": "error",
     "traceback": [
      "\u001b[1;31m---------------------------------------------------------------------------\u001b[0m",
      "\u001b[1;31mTypeError\u001b[0m                                 Traceback (most recent call last)",
      "Cell \u001b[1;32mIn[24], line 1\u001b[0m\n\u001b[1;32m----> 1\u001b[0m \u001b[43mpower\u001b[49m\u001b[43m(\u001b[49m\u001b[43m)\u001b[49m\n",
      "\u001b[1;31mTypeError\u001b[0m: power() missing 2 required positional arguments: 'a' and 'b'"
     ]
    }
   ],
   "source": [
    "power()"
   ]
  },
  {
   "cell_type": "code",
   "execution_count": 29,
   "id": "4dd77c28-72ca-4610-aa89-0404cec0412d",
   "metadata": {},
   "outputs": [],
   "source": [
    "# where we are giving default arguments.\n",
    "def power (a=1, b=1):\n",
    "    return a**b"
   ]
  },
  {
   "cell_type": "code",
   "execution_count": 30,
   "id": "c5eed113-942f-4a47-8dfc-18b847bc220f",
   "metadata": {},
   "outputs": [
    {
     "data": {
      "text/plain": [
       "8"
      ]
     },
     "execution_count": 30,
     "metadata": {},
     "output_type": "execute_result"
    }
   ],
   "source": [
    "power(2,3)"
   ]
  },
  {
   "cell_type": "code",
   "execution_count": 31,
   "id": "3fba45f1-293b-444c-9ea6-36f027374609",
   "metadata": {},
   "outputs": [
    {
     "data": {
      "text/plain": [
       "2"
      ]
     },
     "execution_count": 31,
     "metadata": {},
     "output_type": "execute_result"
    }
   ],
   "source": [
    "power(2)"
   ]
  },
  {
   "cell_type": "code",
   "execution_count": 32,
   "id": "fba6b5f3-d641-4479-9d7c-f55a6e5a1579",
   "metadata": {},
   "outputs": [
    {
     "data": {
      "text/plain": [
       "1"
      ]
     },
     "execution_count": 32,
     "metadata": {},
     "output_type": "execute_result"
    }
   ],
   "source": [
    "power()"
   ]
  },
  {
   "cell_type": "code",
   "execution_count": 33,
   "id": "ed6dba75-0af2-413e-82ec-a5ff425e5b39",
   "metadata": {},
   "outputs": [],
   "source": [
    "# 2. Positional argument : Is the Positions of varibles in parameters also & as well as in argumrnt als."
   ]
  },
  {
   "cell_type": "code",
   "execution_count": 34,
   "id": "bf8e06a6-09ea-4a7d-808d-f58752119f61",
   "metadata": {},
   "outputs": [],
   "source": [
    "# 3. Keyword Argument : Keyword arguments (or named arguments) are values that, when passed into a function, are identifiable by specific parameter names. "
   ]
  },
  {
   "cell_type": "code",
   "execution_count": 36,
   "id": "28a6830f-8fc2-4457-ab7a-17ce888cc0c8",
   "metadata": {},
   "outputs": [],
   "source": [
    "# 4.Arbitrary Argument : Python Arbitrary Arguments allows a function to accept any number of positional arguments i.e. arguments that are non-keyword arguments, variable-length argument list."
   ]
  },
  {
   "cell_type": "markdown",
   "id": "d74b7363-6b18-4909-b4e6-c5eb25067cd3",
   "metadata": {},
   "source": [
    "# Global & Local Variables"
   ]
  },
  {
   "cell_type": "code",
   "execution_count": 37,
   "id": "b7e5f448-1a3b-430b-89a1-c86761054f23",
   "metadata": {},
   "outputs": [],
   "source": [
    "def flexi(*number):\n",
    "    product = 1\n",
    "    print(number)\n",
    "    print(type(number))\n",
    "    for i in number:\n",
    "        product = product * i\n",
    "    print(product)"
   ]
  },
  {
   "cell_type": "code",
   "execution_count": 38,
   "id": "1d1a2b51-017a-4eff-8b07-ea73e0c236d2",
   "metadata": {},
   "outputs": [
    {
     "name": "stdout",
     "output_type": "stream",
     "text": [
      "(1, 2, 3, 4, 5, 6, 7)\n",
      "<class 'tuple'>\n",
      "5040\n"
     ]
    }
   ],
   "source": [
    "flexi(1,2,3,4,5,6,7)"
   ]
  },
  {
   "cell_type": "code",
   "execution_count": 40,
   "id": "7d9af3fb-42db-49aa-858b-7fda10274a8a",
   "metadata": {},
   "outputs": [
    {
     "name": "stdout",
     "output_type": "stream",
     "text": [
      "inside func_a\n",
      "None\n",
      "inside func_b\n",
      "8\n"
     ]
    }
   ],
   "source": [
    "def func_a():\n",
    "    print('inside func_a')\n",
    "\n",
    "def func_b(y):\n",
    "    print('inside func_b')\n",
    "    return y\n",
    "\n",
    "print(func_a())\n",
    "print(5+func_b(3))"
   ]
  },
  {
   "cell_type": "code",
   "execution_count": 43,
   "id": "a10d7f77-8050-401f-a894-328d60df50f7",
   "metadata": {},
   "outputs": [
    {
     "name": "stdout",
     "output_type": "stream",
     "text": [
      "4\n",
      "5\n"
     ]
    }
   ],
   "source": [
    "def f(y):  # This is local variable\n",
    "    x = 2\n",
    "    x += 2\n",
    "    print(x)\n",
    "\n",
    "x = 5  # This is global variable because it does not have ang function.\n",
    "f(x)\n",
    "print(x)"
   ]
  },
  {
   "cell_type": "code",
   "execution_count": 44,
   "id": "32196d9b-773d-403b-ac20-db67d81a28ac",
   "metadata": {},
   "outputs": [
    {
     "name": "stdout",
     "output_type": "stream",
     "text": [
      "5\n",
      "6\n",
      "5\n"
     ]
    }
   ],
   "source": [
    "# Local variable can use global variable value.\n",
    "def g(y):\n",
    "    print(x)\n",
    "    print(x+1)\n",
    "\n",
    "x = 5\n",
    "g(x)\n",
    "print(x)"
   ]
  },
  {
   "cell_type": "code",
   "execution_count": 46,
   "id": "26c52e01-3c17-4cfe-a08b-bf9d06197bb1",
   "metadata": {},
   "outputs": [
    {
     "ename": "UnboundLocalError",
     "evalue": "cannot access local variable 'x' where it is not associated with a value",
     "output_type": "error",
     "traceback": [
      "\u001b[1;31m---------------------------------------------------------------------------\u001b[0m",
      "\u001b[1;31mUnboundLocalError\u001b[0m                         Traceback (most recent call last)",
      "Cell \u001b[1;32mIn[46], line 4\u001b[0m\n\u001b[0;32m      2\u001b[0m     x \u001b[38;5;241m+\u001b[39m\u001b[38;5;241m=\u001b[39m \u001b[38;5;241m1\u001b[39m\n\u001b[0;32m      3\u001b[0m x \u001b[38;5;241m=\u001b[39m \u001b[38;5;241m5\u001b[39m\n\u001b[1;32m----> 4\u001b[0m \u001b[43mh\u001b[49m\u001b[43m(\u001b[49m\u001b[43mx\u001b[49m\u001b[43m)\u001b[49m\n\u001b[0;32m      5\u001b[0m \u001b[38;5;28mprint\u001b[39m(x)\n",
      "Cell \u001b[1;32mIn[46], line 2\u001b[0m, in \u001b[0;36mh\u001b[1;34m(y)\u001b[0m\n\u001b[0;32m      1\u001b[0m \u001b[38;5;28;01mdef\u001b[39;00m \u001b[38;5;21mh\u001b[39m(y):\n\u001b[1;32m----> 2\u001b[0m     \u001b[43mx\u001b[49m \u001b[38;5;241m+\u001b[39m\u001b[38;5;241m=\u001b[39m \u001b[38;5;241m1\u001b[39m\n",
      "\u001b[1;31mUnboundLocalError\u001b[0m: cannot access local variable 'x' where it is not associated with a value"
     ]
    }
   ],
   "source": [
    "# Leads to an error whithout line 'global x' inside h \n",
    "def h(y):   # here we can use global variable but we can't change it.\n",
    "    x += 1\n",
    "x = 5\n",
    "h(x)\n",
    "print(x)"
   ]
  },
  {
   "cell_type": "code",
   "execution_count": 49,
   "id": "17531db6-eea1-453b-8cb0-1987c2a3d14a",
   "metadata": {},
   "outputs": [
    {
     "name": "stdout",
     "output_type": "stream",
     "text": [
      "6\n"
     ]
    }
   ],
   "source": [
    "# we can change but we have to write in code 'global '\n",
    "def h(y):  # Local to global\n",
    "    global x\n",
    "    x += 1\n",
    "x = 5\n",
    "h(x)\n",
    "print(x)"
   ]
  },
  {
   "cell_type": "code",
   "execution_count": 48,
   "id": "1c9158e2-06a1-41c0-ad10-290e40f09ff8",
   "metadata": {},
   "outputs": [
    {
     "name": "stdout",
     "output_type": "stream",
     "text": [
      "in f(x): x =  4\n",
      "in main program scope: z =  4\n",
      "in main program scope: x =  3\n"
     ]
    }
   ],
   "source": [
    "def f(x):\n",
    "    x = x + 1\n",
    "    print('in f(x): x = ', x)\n",
    "    return x\n",
    "\n",
    "x = 3\n",
    "z = f(x)\n",
    "print('in main program scope: z = ', z)\n",
    "print('in main program scope: x = ', x)"
   ]
  },
  {
   "cell_type": "markdown",
   "id": "7907b6b0-fcdb-4e4a-95bd-78e148067528",
   "metadata": {},
   "source": [
    "# Nested Function"
   ]
  },
  {
   "cell_type": "code",
   "execution_count": 50,
   "id": "acb260f8-b252-4621-bd36-2a63f356777f",
   "metadata": {},
   "outputs": [],
   "source": [
    "def f():\n",
    "    print('inside f')\n",
    "    def g():\n",
    "        print('inside g')\n",
    "    g()"
   ]
  },
  {
   "cell_type": "code",
   "execution_count": 51,
   "id": "5ee9786d-5c7c-4951-a3ec-b8755f108441",
   "metadata": {},
   "outputs": [
    {
     "name": "stdout",
     "output_type": "stream",
     "text": [
      "inside f\n",
      "inside g\n"
     ]
    }
   ],
   "source": [
    "f()"
   ]
  },
  {
   "cell_type": "code",
   "execution_count": 53,
   "id": "3f30b7ae-9dc6-48cd-be5c-517a42dfc341",
   "metadata": {},
   "outputs": [
    {
     "ename": "TypeError",
     "evalue": "g() missing 1 required positional argument: 'y'",
     "output_type": "error",
     "traceback": [
      "\u001b[1;31m---------------------------------------------------------------------------\u001b[0m",
      "\u001b[1;31mTypeError\u001b[0m                                 Traceback (most recent call last)",
      "Cell \u001b[1;32mIn[53], line 2\u001b[0m\n\u001b[0;32m      1\u001b[0m \u001b[38;5;66;03m# nested function is hiden so that main function will get that another function has created.\u001b[39;00m\n\u001b[1;32m----> 2\u001b[0m \u001b[43mg\u001b[49m\u001b[43m(\u001b[49m\u001b[43m)\u001b[49m\n",
      "\u001b[1;31mTypeError\u001b[0m: g() missing 1 required positional argument: 'y'"
     ]
    }
   ],
   "source": [
    "# nested function is hiden so that main function will get that another function has created.\n",
    "g()"
   ]
  },
  {
   "cell_type": "code",
   "execution_count": 54,
   "id": "ec297b7a-98fd-471b-9e8a-bb2120865078",
   "metadata": {},
   "outputs": [
    {
     "name": "stdout",
     "output_type": "stream",
     "text": [
      "in g(x): x =  4\n"
     ]
    }
   ],
   "source": [
    "def g(x):\n",
    "    def h():\n",
    "        x = 'abc'\n",
    "    x = x+1\n",
    "    print('in g(x): x = ', x)\n",
    "    h()\n",
    "    return x\n",
    "\n",
    "x = 3\n",
    "z = g(x)"
   ]
  },
  {
   "cell_type": "code",
   "execution_count": 70,
   "id": "fac40fbc-0437-400a-9f6f-accbece91b6f",
   "metadata": {},
   "outputs": [
    {
     "name": "stdout",
     "output_type": "stream",
     "text": [
      "7\n"
     ]
    }
   ],
   "source": [
    "def f():\n",
    "    def x(a,b):\n",
    "        return a+b\n",
    "    return x\n",
    "\n",
    "val = f()(3,4)\n",
    "print(val)"
   ]
  },
  {
   "cell_type": "markdown",
   "id": "8385e9f6-3bd0-4daf-8ad8-3d8380644aba",
   "metadata": {},
   "source": [
    "# Every thing in python is an object."
   ]
  },
  {
   "cell_type": "markdown",
   "id": "78f4af76-28ef-48dd-8acb-8e0c0b864f4b",
   "metadata": {},
   "source": [
    "* Functions too"
   ]
  },
  {
   "cell_type": "markdown",
   "id": "fcd3889a-3c8a-4842-af88-18147e78a21a",
   "metadata": {},
   "source": [
    "* In python function will behave like data types (list, tuple, string etc)"
   ]
  },
  {
   "cell_type": "code",
   "execution_count": 55,
   "id": "6556deb5-bf84-4ddb-994d-7b8f09291309",
   "metadata": {},
   "outputs": [],
   "source": [
    "def f(num):\n",
    "    return num**2"
   ]
  },
  {
   "cell_type": "code",
   "execution_count": 56,
   "id": "cb6fe80c-1f2a-494e-80c2-1f023e2cfa10",
   "metadata": {},
   "outputs": [
    {
     "data": {
      "text/plain": [
       "9"
      ]
     },
     "execution_count": 56,
     "metadata": {},
     "output_type": "execute_result"
    }
   ],
   "source": [
    "f(3)"
   ]
  },
  {
   "cell_type": "code",
   "execution_count": 57,
   "id": "82476a6d-eecd-4a5c-a8fe-5efed230fdcc",
   "metadata": {},
   "outputs": [],
   "source": [
    "x = f #alias"
   ]
  },
  {
   "cell_type": "code",
   "execution_count": 58,
   "id": "aa89414b-92e1-4332-b0a5-a99e4d68518d",
   "metadata": {},
   "outputs": [
    {
     "data": {
      "text/plain": [
       "16"
      ]
     },
     "execution_count": 58,
     "metadata": {},
     "output_type": "execute_result"
    }
   ],
   "source": [
    "x(4)"
   ]
  },
  {
   "cell_type": "code",
   "execution_count": 59,
   "id": "ce666d52-a2e5-4d0a-ab63-4366c14210f1",
   "metadata": {},
   "outputs": [],
   "source": [
    "del f"
   ]
  },
  {
   "cell_type": "code",
   "execution_count": 60,
   "id": "4934a198-e358-437e-861c-424b5155d94e",
   "metadata": {},
   "outputs": [
    {
     "ename": "NameError",
     "evalue": "name 'f' is not defined",
     "output_type": "error",
     "traceback": [
      "\u001b[1;31m---------------------------------------------------------------------------\u001b[0m",
      "\u001b[1;31mNameError\u001b[0m                                 Traceback (most recent call last)",
      "Cell \u001b[1;32mIn[60], line 1\u001b[0m\n\u001b[1;32m----> 1\u001b[0m \u001b[43mf\u001b[49m(\u001b[38;5;241m2\u001b[39m)\n",
      "\u001b[1;31mNameError\u001b[0m: name 'f' is not defined"
     ]
    }
   ],
   "source": [
    "f(2)"
   ]
  },
  {
   "cell_type": "code",
   "execution_count": 61,
   "id": "98cf1d8b-74e5-4e92-a9d7-e27a4d3193df",
   "metadata": {},
   "outputs": [
    {
     "data": {
      "text/plain": [
       "4"
      ]
     },
     "execution_count": 61,
     "metadata": {},
     "output_type": "execute_result"
    }
   ],
   "source": [
    "x(2)"
   ]
  },
  {
   "cell_type": "code",
   "execution_count": 62,
   "id": "5c15a697-a906-447c-bc71-8b9e707d6224",
   "metadata": {},
   "outputs": [
    {
     "data": {
      "text/plain": [
       "function"
      ]
     },
     "execution_count": 62,
     "metadata": {},
     "output_type": "execute_result"
    }
   ],
   "source": [
    "type(x)"
   ]
  },
  {
   "cell_type": "code",
   "execution_count": 63,
   "id": "567a8499-ea5c-4851-8810-4457648c47dc",
   "metadata": {},
   "outputs": [
    {
     "data": {
      "text/plain": [
       "[1, 2, 3, 4]"
      ]
     },
     "execution_count": 63,
     "metadata": {},
     "output_type": "execute_result"
    }
   ],
   "source": [
    "L = [1,2,3,4]\n",
    "L"
   ]
  },
  {
   "cell_type": "code",
   "execution_count": 64,
   "id": "e416044a-32b5-4d3c-863a-b44ddbaedc1f",
   "metadata": {},
   "outputs": [
    {
     "data": {
      "text/plain": [
       "[1, 2, 3, 4, <function __main__.f(num)>]"
      ]
     },
     "execution_count": 64,
     "metadata": {},
     "output_type": "execute_result"
    }
   ],
   "source": [
    "L = [1,2,3,4,x]\n",
    "L"
   ]
  },
  {
   "cell_type": "code",
   "execution_count": 67,
   "id": "1bb9c328-b9ce-49e6-ab43-787ed23a51c3",
   "metadata": {},
   "outputs": [
    {
     "data": {
      "text/plain": [
       "25"
      ]
     },
     "execution_count": 67,
     "metadata": {},
     "output_type": "execute_result"
    }
   ],
   "source": [
    "L[-1](5)"
   ]
  },
  {
   "cell_type": "code",
   "execution_count": 68,
   "id": "077f84bf-bb23-48dd-8d40-b9daa17e1e97",
   "metadata": {},
   "outputs": [
    {
     "data": {
      "text/plain": [
       "[1, 2, 3, 4, 36]"
      ]
     },
     "execution_count": 68,
     "metadata": {},
     "output_type": "execute_result"
    }
   ],
   "source": [
    "L = [1,2,3,4,x(6)]\n",
    "L"
   ]
  },
  {
   "cell_type": "markdown",
   "id": "06f048f7-839d-498a-89c6-1ae80da33911",
   "metadata": {},
   "source": [
    "# Recursion"
   ]
  },
  {
   "cell_type": "markdown",
   "id": "af8a2e0e-a727-4b74-895e-0c35c7a0f95c",
   "metadata": {},
   "source": [
    "* a defined function can call itself. "
   ]
  },
  {
   "cell_type": "markdown",
   "id": "2d22f566-a3fc-4db4-b09a-b92c4abc662b",
   "metadata": {},
   "source": [
    "# Differences between loops and recursion\n",
    "* A recursive function will continually call itself, pushing values and new instances of the function to the stack, which might eventually lead to a Stack Overflow error. "
   ]
  },
  {
   "cell_type": "markdown",
   "id": "f4b36dd7-af07-4418-ae61-11e604be6892",
   "metadata": {},
   "source": [
    "* In comparison, loops are stored in dynamic memory, where variables can be created indefinitely"
   ]
  },
  {
   "cell_type": "code",
   "execution_count": 1,
   "id": "5b658fde-27a8-4a4d-b236-7891c5c64c8b",
   "metadata": {},
   "outputs": [
    {
     "name": "stdout",
     "output_type": "stream",
     "text": [
      "30\n"
     ]
    }
   ],
   "source": [
    "# loop \n",
    "def multiply(a,b):\n",
    "    result = 0\n",
    "\n",
    "    for i in range(b):\n",
    "        result = result + a\n",
    "    \n",
    "    print(result)\n",
    "\n",
    "multiply(5,6)"
   ]
  },
  {
   "cell_type": "code",
   "execution_count": 2,
   "id": "e136a2d2-b4b5-4e73-a37f-483231625d4b",
   "metadata": {},
   "outputs": [
    {
     "name": "stdout",
     "output_type": "stream",
     "text": [
      "30\n"
     ]
    }
   ],
   "source": [
    "# Recursion\n",
    "def mul(a,b):\n",
    "    if b == 1:\n",
    "        return a\n",
    "    else:\n",
    "        return a+mul(a,b-1)\n",
    "\n",
    "print(mul(5,6))"
   ]
  },
  {
   "cell_type": "code",
   "execution_count": 3,
   "id": "cadca20c-87d5-4b30-9766-dd6473232373",
   "metadata": {},
   "outputs": [
    {
     "name": "stdout",
     "output_type": "stream",
     "text": [
      "120\n"
     ]
    }
   ],
   "source": [
    "# Factorial\n",
    "def fact(number):\n",
    "    if number == 1:\n",
    "        return 1\n",
    "    else:\n",
    "        return number*fact(number-1)\n",
    "\n",
    "print(fact(5))"
   ]
  },
  {
   "cell_type": "markdown",
   "id": "439009ec-590f-47e3-8525-3e9f66ba35ab",
   "metadata": {},
   "source": [
    "# Palindrome\n",
    "* A palindrome is a sequence of the word, phrases, or numbers that read the same backward as forward."
   ]
  },
  {
   "cell_type": "code",
   "execution_count": 6,
   "id": "0718c16a-0e50-4a15-b835-7d6f4563c06a",
   "metadata": {},
   "outputs": [
    {
     "name": "stdout",
     "output_type": "stream",
     "text": [
      "Palindrome\n",
      "Palindrome\n",
      "Not Palindrome\n",
      "Palindrome\n"
     ]
    }
   ],
   "source": [
    "# Palindrome\n",
    "def palin(text):\n",
    "    if len(text) <= 1:\n",
    "        print('Palindrome')\n",
    "    else:\n",
    "        if text[0] == text[-1]:\n",
    "            palin(text[1:-1])\n",
    "        else:\n",
    "            print('Not Palindrome')\n",
    "\n",
    "palin('madam')\n",
    "palin('malayalam')\n",
    "palin('python')\n",
    "palin('abba')"
   ]
  },
  {
   "cell_type": "code",
   "execution_count": 8,
   "id": "62757e63-1d13-48d4-b63a-34a16b5605a1",
   "metadata": {},
   "outputs": [
    {
     "name": "stdout",
     "output_type": "stream",
     "text": [
      "233\n"
     ]
    }
   ],
   "source": [
    "# Fibnacci\n",
    "def fib(m):\n",
    "    if m==0 or m==1:\n",
    "        return 1\n",
    "    else:\n",
    "        return fib(m-1) + fib(m-2)\n",
    "\n",
    "print(fib(12))"
   ]
  },
  {
   "cell_type": "markdown",
   "id": "06131d19-c024-42a2-b354-2d9c12af75fe",
   "metadata": {},
   "source": [
    "# Memoization\n",
    "* Memoization is a technique of recording the intermediate results so that it can be used to avoid repeated calculations and speed up the programs. It can be used to optimize the programs that use recursion. In Python, memoization can be done with the help of function decorators."
   ]
  },
  {
   "cell_type": "code",
   "execution_count": 11,
   "id": "ebc32f8b-a907-41ca-b4d9-5cd24d7fbe90",
   "metadata": {},
   "outputs": [
    {
     "name": "stdout",
     "output_type": "stream",
     "text": [
      "7778742049\n",
      "0.0\n"
     ]
    }
   ],
   "source": [
    "import time\n",
    "def memo(m,d):\n",
    "    if m in d:\n",
    "        return d[m]\n",
    "    else:\n",
    "        d[m] = memo(m-1,d)+memo(m-2,d)\n",
    "        return d[m]\n",
    "start = time.time()\n",
    "d = {0:1,1:1}\n",
    "print(memo(48,d))\n",
    "print(time.time()-start)"
   ]
  },
  {
   "cell_type": "markdown",
   "id": "f93de137-a80b-4050-913e-c5ea01756694",
   "metadata": {},
   "source": [
    "# Power set"
   ]
  },
  {
   "cell_type": "code",
   "execution_count": 12,
   "id": "ee4c6048-c59e-42c8-8e76-e35b1d8d3c5a",
   "metadata": {},
   "outputs": [
    {
     "name": "stdout",
     "output_type": "stream",
     "text": [
      "[set(), {1}, {2}, {3}, {1, 2}, {1, 3}, {2, 3}, {1, 2, 3}]\n"
     ]
    }
   ],
   "source": [
    "import itertools\n",
    "\n",
    "def power_set(input_set):\n",
    "    # Convert the input set to a list to make it iterable\n",
    "    input_list = list(input_set)\n",
    "    \n",
    "    # Find all possible subsets using itertools.combinations\n",
    "    all_subsets = []\n",
    "    for r in range(len(input_list) + 1):\n",
    "        subsets = itertools.combinations(input_list, r)\n",
    "        all_subsets.extend(subsets)\n",
    "    \n",
    "    # Convert each subset back to a set\n",
    "    power_set = [set(subset) for subset in all_subsets]\n",
    "    \n",
    "    return power_set\n",
    "\n",
    "# Example usage\n",
    "input_set = {1, 2, 3}\n",
    "result = power_set(input_set)\n",
    "print(result)\n"
   ]
  },
  {
   "cell_type": "markdown",
   "id": "c67d646e-d708-409f-9d13-502731e08dfb",
   "metadata": {},
   "source": [
    "# Lambda functions\n",
    "* Lambda functions are similar to user-defined functions but without a name. They're commonly referred to as anonymous functions. Lambda functions are efficient whenever you want to create a function that will only contain simple expressions – that is, expressions that are usually a single line of a statement."
   ]
  },
  {
   "cell_type": "code",
   "execution_count": 13,
   "id": "12cc1552-1e0f-4f19-8afd-388e90e7b9c6",
   "metadata": {},
   "outputs": [
    {
     "data": {
      "text/plain": [
       "81"
      ]
     },
     "execution_count": 13,
     "metadata": {},
     "output_type": "execute_result"
    }
   ],
   "source": [
    "# Lambda functions\n",
    "x = lambda x : x ** 2\n",
    "x(9)"
   ]
  },
  {
   "cell_type": "code",
   "execution_count": 14,
   "id": "86fe8a15-9a25-41e2-8b19-46cb992ef390",
   "metadata": {},
   "outputs": [
    {
     "data": {
      "text/plain": [
       "17"
      ]
     },
     "execution_count": 14,
     "metadata": {},
     "output_type": "execute_result"
    }
   ],
   "source": [
    "a = lambda x,y : x + y\n",
    "a(9,8)"
   ]
  },
  {
   "cell_type": "code",
   "execution_count": 15,
   "id": "e041d5a8-80c9-4aa9-a883-18ab5c8cec26",
   "metadata": {},
   "outputs": [
    {
     "data": {
      "text/plain": [
       "True"
      ]
     },
     "execution_count": 15,
     "metadata": {},
     "output_type": "execute_result"
    }
   ],
   "source": [
    "b = lambda x:x[0] == 'a'\n",
    "b('apple')"
   ]
  },
  {
   "cell_type": "code",
   "execution_count": 16,
   "id": "7bc1972e-c949-4888-a63e-b5509104db93",
   "metadata": {},
   "outputs": [
    {
     "data": {
      "text/plain": [
       "False"
      ]
     },
     "execution_count": 16,
     "metadata": {},
     "output_type": "execute_result"
    }
   ],
   "source": [
    "b('banana')"
   ]
  },
  {
   "cell_type": "code",
   "execution_count": 17,
   "id": "f79d18db-15a1-4d88-9a48-7c49a6a98a12",
   "metadata": {},
   "outputs": [],
   "source": [
    "b=lambda x:'Even' if x%2 == 0 else 'odd'"
   ]
  },
  {
   "cell_type": "code",
   "execution_count": 18,
   "id": "cc6bfc17-c894-4123-96f1-a0ddb36d4514",
   "metadata": {},
   "outputs": [
    {
     "data": {
      "text/plain": [
       "'odd'"
      ]
     },
     "execution_count": 18,
     "metadata": {},
     "output_type": "execute_result"
    }
   ],
   "source": [
    "b(3)"
   ]
  },
  {
   "cell_type": "code",
   "execution_count": 19,
   "id": "ef8262e1-c08a-4218-89d0-103556b7d24f",
   "metadata": {},
   "outputs": [
    {
     "data": {
      "text/plain": [
       "'Even'"
      ]
     },
     "execution_count": 19,
     "metadata": {},
     "output_type": "execute_result"
    }
   ],
   "source": [
    "b(4)"
   ]
  },
  {
   "cell_type": "code",
   "execution_count": 23,
   "id": "925b0742-f9ed-428e-b9a8-19785cc37d66",
   "metadata": {},
   "outputs": [
    {
     "name": "stdout",
     "output_type": "stream",
     "text": [
      "176\n",
      "129\n",
      "144\n"
     ]
    }
   ],
   "source": [
    "def return_sum(func,L):\n",
    "    result = 0\n",
    "    for i in L:\n",
    "        if func(i):\n",
    "            result = result + i\n",
    "\n",
    "    return result\n",
    "\n",
    "L = [11,14,21,23,56,78,45,29,28]\n",
    "\n",
    "x = lambda x:x%2==0\n",
    "y = lambda x:x%2!=0\n",
    "z = lambda x:x%3==0\n",
    "\n",
    "print(return_sum(x,L))\n",
    "print(return_sum(y,L))\n",
    "print(return_sum(z,L))"
   ]
  },
  {
   "cell_type": "markdown",
   "id": "1016a768-aa07-4f5a-9f79-c987d34c0bd1",
   "metadata": {},
   "source": [
    "# Map Function\n",
    "* is a function that works as an iterator to return a result after applying a function to every item of an iterable (tuple, lists, etc.). It is used when you want to apply a single transformation function to all the iterable elements. The iterable and function are passed as arguments to the map in Python."
   ]
  },
  {
   "cell_type": "code",
   "execution_count": 24,
   "id": "406f1b05-6dd9-4183-abea-83852c3e1ea2",
   "metadata": {},
   "outputs": [
    {
     "data": {
      "text/plain": [
       "[1, 2, 3, 4, 5, 6, 7, 8, 9, 10]"
      ]
     },
     "execution_count": 24,
     "metadata": {},
     "output_type": "execute_result"
    }
   ],
   "source": [
    "L = [1,2,3,4,5,6,7,8,9,10]\n",
    "L"
   ]
  },
  {
   "cell_type": "code",
   "execution_count": 27,
   "id": "d593a0cb-6f73-4b90-996a-649824f52862",
   "metadata": {},
   "outputs": [
    {
     "data": {
      "text/plain": [
       "[2, 4, 6, 8, 10, 12, 14, 16, 18, 20]"
      ]
     },
     "execution_count": 27,
     "metadata": {},
     "output_type": "execute_result"
    }
   ],
   "source": [
    "list(map(lambda x:x*2,L))"
   ]
  },
  {
   "cell_type": "code",
   "execution_count": 28,
   "id": "9f95adb3-5f76-44f0-93b3-ee2a0b67ac09",
   "metadata": {},
   "outputs": [
    {
     "data": {
      "text/plain": [
       "[False, True, False, True, False, True, False, True, False, True]"
      ]
     },
     "execution_count": 28,
     "metadata": {},
     "output_type": "execute_result"
    }
   ],
   "source": [
    "list(map(lambda x:x%2 == 0,L))"
   ]
  },
  {
   "cell_type": "markdown",
   "id": "3441d8fa-b6fe-4796-aea5-60ccb61d7792",
   "metadata": {},
   "source": [
    "# Filter Function"
   ]
  },
  {
   "cell_type": "markdown",
   "id": "e474e7d6-e720-42d7-add2-87a30c0d63c9",
   "metadata": {},
   "source": [
    "* Filter() is a built-in function in Python. The filter function can be applied to an iterable such as a list or a dictionary and create a new iterator. This new iterator can filter out certain specific elements based on the condition that you provide very efficiently"
   ]
  },
  {
   "cell_type": "code",
   "execution_count": 29,
   "id": "c6d9495f-197a-4c4b-969f-f6361ef02373",
   "metadata": {},
   "outputs": [
    {
     "data": {
      "text/plain": [
       "[1, 2, 3, 4, 5, 6, 7, 8, 9, 10]"
      ]
     },
     "execution_count": 29,
     "metadata": {},
     "output_type": "execute_result"
    }
   ],
   "source": [
    "# Filter\n",
    "L"
   ]
  },
  {
   "cell_type": "code",
   "execution_count": 30,
   "id": "43816604-f301-4d95-b546-5b728b1baecc",
   "metadata": {},
   "outputs": [
    {
     "data": {
      "text/plain": [
       "[6, 7, 8, 9, 10]"
      ]
     },
     "execution_count": 30,
     "metadata": {},
     "output_type": "execute_result"
    }
   ],
   "source": [
    "list(filter(lambda x:x>5,L))"
   ]
  },
  {
   "cell_type": "code",
   "execution_count": 31,
   "id": "55e59858-90aa-44bb-9be8-ea4ed4cb3431",
   "metadata": {},
   "outputs": [],
   "source": [
    "fruits = ['Apple','Banana','Orange','Mango','Guava']"
   ]
  },
  {
   "cell_type": "code",
   "execution_count": 32,
   "id": "3ce6b49f-b7c6-4650-9ae0-aeb86257c1d0",
   "metadata": {},
   "outputs": [
    {
     "data": {
      "text/plain": [
       "['Apple', 'Orange']"
      ]
     },
     "execution_count": 32,
     "metadata": {},
     "output_type": "execute_result"
    }
   ],
   "source": [
    "list(filter(lambda fruit:'e' in fruit,fruits))"
   ]
  },
  {
   "cell_type": "markdown",
   "id": "a6f48864-36f0-4e0e-b6b2-75a8df511964",
   "metadata": {},
   "source": [
    "# Reduce Function\n",
    "* Python's reduce() is a function that implements a mathematical technique called folding or reduction. reduce() is useful when you need to apply a function to an iterable and reduce it to a single cumulative value."
   ]
  },
  {
   "cell_type": "code",
   "execution_count": 33,
   "id": "d4de2d7f-883e-48e0-9f8f-177533932e3e",
   "metadata": {},
   "outputs": [
    {
     "data": {
      "text/plain": [
       "[1, 2, 3, 4, 5, 6, 7, 8, 9, 10]"
      ]
     },
     "execution_count": 33,
     "metadata": {},
     "output_type": "execute_result"
    }
   ],
   "source": [
    "L"
   ]
  },
  {
   "cell_type": "code",
   "execution_count": 34,
   "id": "6cf617f2-3634-483d-9e83-767792cf0964",
   "metadata": {},
   "outputs": [],
   "source": [
    "import functools"
   ]
  },
  {
   "cell_type": "code",
   "execution_count": 35,
   "id": "a2e7f230-9369-47f7-bb50-72111a359722",
   "metadata": {},
   "outputs": [
    {
     "data": {
      "text/plain": [
       "55"
      ]
     },
     "execution_count": 35,
     "metadata": {},
     "output_type": "execute_result"
    }
   ],
   "source": [
    "functools.reduce(lambda x,y:x+y,L)"
   ]
  },
  {
   "cell_type": "code",
   "execution_count": 36,
   "id": "1b9c835d-086a-4b20-aed3-52e94c1443f3",
   "metadata": {},
   "outputs": [],
   "source": [
    "L1 = [12,34,56,11,21,58]"
   ]
  },
  {
   "cell_type": "code",
   "execution_count": 37,
   "id": "9d3722e8-e623-4a5b-b18c-1770712cec47",
   "metadata": {},
   "outputs": [
    {
     "data": {
      "text/plain": [
       "58"
      ]
     },
     "execution_count": 37,
     "metadata": {},
     "output_type": "execute_result"
    }
   ],
   "source": [
    "functools.reduce(lambda x,y:x if x>y else y,L1)"
   ]
  },
  {
   "cell_type": "code",
   "execution_count": 38,
   "id": "ea63f806-a03e-429e-ae87-51eff93def04",
   "metadata": {},
   "outputs": [
    {
     "data": {
      "text/plain": [
       "11"
      ]
     },
     "execution_count": 38,
     "metadata": {},
     "output_type": "execute_result"
    }
   ],
   "source": [
    "functools.reduce(lambda x,y:x if x<y else y,L1)"
   ]
  },
  {
   "cell_type": "markdown",
   "id": "3448f6b2-f3bd-4681-8d09-9b48a99be6ed",
   "metadata": {},
   "source": [
    "# List Comprehension\n",
    "*  Is an easy and compact syntax for creating a list from a string or another list. It is a very concise way to create a new list by performing an operation on each item in the existing list. List comprehension is considerably faster than processing a list using the for loop."
   ]
  },
  {
   "cell_type": "code",
   "execution_count": 39,
   "id": "495c5398-b561-4bd8-a78a-5c3af91eb987",
   "metadata": {},
   "outputs": [
    {
     "data": {
      "text/plain": [
       "[1, 2, 3, 4, 5, 6, 7, 8, 9, 10]"
      ]
     },
     "execution_count": 39,
     "metadata": {},
     "output_type": "execute_result"
    }
   ],
   "source": [
    "L"
   ]
  },
  {
   "cell_type": "code",
   "execution_count": 40,
   "id": "5c1f3453-207e-4387-932f-b23ce044b80e",
   "metadata": {},
   "outputs": [
    {
     "data": {
      "text/plain": [
       "[2, 4, 6, 8, 10, 12, 14, 16, 18, 20]"
      ]
     },
     "execution_count": 40,
     "metadata": {},
     "output_type": "execute_result"
    }
   ],
   "source": [
    "L2 = [item*2 for item in L]\n",
    "L2"
   ]
  },
  {
   "cell_type": "code",
   "execution_count": 41,
   "id": "89d7fe3c-6c5b-4379-99c7-9c6f9df0421f",
   "metadata": {},
   "outputs": [
    {
     "data": {
      "text/plain": [
       "[0, 1, 4, 9, 16, 25, 36, 49, 64, 81]"
      ]
     },
     "execution_count": 41,
     "metadata": {},
     "output_type": "execute_result"
    }
   ],
   "source": [
    "L3 = [i**2 for i in range(10)]\n",
    "L3"
   ]
  },
  {
   "cell_type": "code",
   "execution_count": 42,
   "id": "7c583c6b-1057-4166-9521-5562421fb121",
   "metadata": {},
   "outputs": [
    {
     "data": {
      "text/plain": [
       "[1, 9, 25, 49, 81]"
      ]
     },
     "execution_count": 42,
     "metadata": {},
     "output_type": "execute_result"
    }
   ],
   "source": [
    "L4 = [i**2 for i in range(10) if i%2 != 0]\n",
    "L4"
   ]
  },
  {
   "cell_type": "code",
   "execution_count": 43,
   "id": "1103f3be-7cb8-4776-bca6-85cd96fedd41",
   "metadata": {},
   "outputs": [
    {
     "data": {
      "text/plain": [
       "['Apple', 'Banana', 'Orange', 'Mango', 'Guava']"
      ]
     },
     "execution_count": 43,
     "metadata": {},
     "output_type": "execute_result"
    }
   ],
   "source": [
    "fruits"
   ]
  },
  {
   "cell_type": "code",
   "execution_count": 44,
   "id": "727aa86d-813a-4b20-ae8e-0106e0ef35e7",
   "metadata": {},
   "outputs": [
    {
     "data": {
      "text/plain": [
       "['Orange']"
      ]
     },
     "execution_count": 44,
     "metadata": {},
     "output_type": "execute_result"
    }
   ],
   "source": [
    "L5 = [fruit for fruit in fruits if fruit[0] == 'O']\n",
    "L5"
   ]
  },
  {
   "cell_type": "code",
   "execution_count": 45,
   "id": "fe1a2103-2108-4089-8d1d-765be2fc52ea",
   "metadata": {},
   "outputs": [],
   "source": [
    "D = {'Name':'Finaz','Gender':'Female','Age':24}"
   ]
  },
  {
   "cell_type": "code",
   "execution_count": 46,
   "id": "0ebba056-966e-43c3-9315-98cddfbb0fc9",
   "metadata": {},
   "outputs": [],
   "source": [
    "D1 = {key:value for key,value in D.items() if len(key)>3}"
   ]
  },
  {
   "cell_type": "code",
   "execution_count": 47,
   "id": "f2a2e2d5-4c3f-47d5-a600-a09682e6c087",
   "metadata": {},
   "outputs": [
    {
     "data": {
      "text/plain": [
       "{'Name': 'Finaz', 'Gender': 'Female'}"
      ]
     },
     "execution_count": 47,
     "metadata": {},
     "output_type": "execute_result"
    }
   ],
   "source": [
    "D1"
   ]
  },
  {
   "cell_type": "code",
   "execution_count": 48,
   "id": "9e7225f8-795d-40e3-ba2f-77ed355b4f36",
   "metadata": {},
   "outputs": [
    {
     "data": {
      "text/plain": [
       "[1, 2, 3, 4, 5, 6, 7, 8, 9, 10]"
      ]
     },
     "execution_count": 48,
     "metadata": {},
     "output_type": "execute_result"
    }
   ],
   "source": [
    "L"
   ]
  },
  {
   "cell_type": "code",
   "execution_count": 49,
   "id": "01102aa9-4606-43d0-b14c-ca482beb0465",
   "metadata": {},
   "outputs": [
    {
     "data": {
      "text/plain": [
       "{1: 1, 2: 4, 3: 9, 4: 16, 5: 25, 6: 36, 7: 49, 8: 64, 9: 81, 10: 100}"
      ]
     },
     "execution_count": 49,
     "metadata": {},
     "output_type": "execute_result"
    }
   ],
   "source": [
    "D2 = {item:item**2 for item in L}\n",
    "D2"
   ]
  },
  {
   "cell_type": "code",
   "execution_count": null,
   "id": "8f57eb7f-7649-4d2f-bac7-a39dbddbe2f1",
   "metadata": {},
   "outputs": [],
   "source": []
  }
 ],
 "metadata": {
  "kernelspec": {
   "display_name": "Python 3 (ipykernel)",
   "language": "python",
   "name": "python3"
  },
  "language_info": {
   "codemirror_mode": {
    "name": "ipython",
    "version": 3
   },
   "file_extension": ".py",
   "mimetype": "text/x-python",
   "name": "python",
   "nbconvert_exporter": "python",
   "pygments_lexer": "ipython3",
   "version": "3.11.5"
  }
 },
 "nbformat": 4,
 "nbformat_minor": 5
}
